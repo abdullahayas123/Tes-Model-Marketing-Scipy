{
 "cells": [
  {
   "cell_type": "code",
   "execution_count": 1,
   "metadata": {},
   "outputs": [],
   "source": [
    "import numpy as np\n",
    "import pandas as pd\n",
    "import matplotlib.pyplot as plt\n",
    "import seaborn as sns\n",
    "import warnings\n",
    "warnings.filterwarnings('ignore')\n",
    "\n",
    "from sklearn.linear_model import LogisticRegression\n",
    "from sklearn.ensemble import RandomForestClassifier\n",
    "from sklearn.tree import DecisionTreeClassifier\n",
    "from sklearn.neighbors import KNeighborsClassifier\n",
    "from sklearn.svm import SVC\n",
    "\n",
    "from sklearn.metrics import make_scorer, recall_score, precision_score, confusion_matrix, classification_report\n",
    "from sklearn.preprocessing import RobustScaler, OneHotEncoder, PowerTransformer, PolynomialFeatures\n",
    "from sklearn.pipeline import Pipeline\n",
    "from sklearn.compose import ColumnTransformer\n",
    "from sklearn.utils import resample\n",
    "\n",
    "from sklearn.model_selection import train_test_split, StratifiedKFold, GridSearchCV, RandomizedSearchCV\n",
    "import imblearn\n",
    "from imblearn.over_sampling import SMOTE\n",
    "pd.set_option('display.max_columns', None)\n",
    "\n",
    "import joblib"
   ]
  },
  {
   "cell_type": "markdown",
   "metadata": {},
   "source": [
    "https://www.kaggle.com/volodymyrgavrysh/bank-marketing-campaigns-dataset"
   ]
  },
  {
   "cell_type": "markdown",
   "metadata": {},
   "source": [
    "__Conducted campaigns were based mostly on direct phone calls, offering bank client to place a term deposit.\n",
    "If after all marking afforts client had agreed to place deposit - target variable marked 'yes', otherwise 'no'__"
   ]
  },
  {
   "cell_type": "markdown",
   "metadata": {},
   "source": [
    "# Feature Desc\n",
    "\n",
    "### bank client data:\n",
    "\n",
    "1. age\n",
    "    - (numeric)\n",
    "\n",
    "2. job : type of job \n",
    "    - (categorical: \"admin.\",\"blue-collar\",\"entrepreneur\",\"housemaid\",\"management\",\"retired\",\"self-employed\",\"services\",\"student\",\"technician\",\"unemployed\",\"unknown\")\n",
    "\n",
    "3. marital : marital status \n",
    "    - (categorical: \"divorced\",\"married\",\"single\",\"unknown\"; note: \"divorced\" means divorced or widowed)\n",
    "\n",
    "4. education \n",
    "    - (categorical: \"basic.4y\",\"basic.6y\",\"basic.9y\",\"high.school\",\"illiterate\",\"professional.course\",\"university.degree\",\"unknown\")\n",
    "\n",
    "5. default: has credit in default? (lalai bayar (?))\n",
    "    - (categorical: \"no\",\"yes\",\"unknown\")\n",
    "\n",
    "6. housing: has housing loan? \n",
    "    - (categorical: \"no\",\"yes\",\"unknown\")\n",
    "\n",
    "7. loan: has personal loan?\n",
    "    - (categorical: \"no\",\"yes\",\"unknown\")\n",
    "    \n",
    "### related with the last contact of the current campaign:\n",
    "8. contact: contact communication type\n",
    "    - (categorical: \"cellular\",\"telephone\")\n",
    "9. month: last contact month of year\n",
    "    - (categorical: \"jan\", \"feb\", \"mar\", …, \"nov\", \"dec\")\n",
    "\n",
    "10. dayofweek: last contact day of the week\n",
    "    - (categorical: \"mon\",\"tue\",\"wed\",\"thu\",\"fri\")\n",
    "\n",
    "11. duration: last contact duration, in seconds (numeric). ==> (obvious feature (?))\n",
    "    - __Important note__: this attribute highly affects the output target (e.g., if duration=0 then y=\"no\"). \n",
    "    - Yet, the duration is not known before a call is performed. Also, after the end of the call y is obviously known. Thus, this input should only be included for benchmark purposes and should be discarded if the intention is to have a realistic predictive model.\n",
    "\n",
    "### other attributes:\n",
    "12. campaign: number of contacts performed during this campaign and for this client \n",
    "    - (numeric, includes last contact)\n",
    "\n",
    "13. pdays: number of days that passed by after the client was last contacted from a previous campaign\n",
    "    - (numeric; 999 means client was not previously contacted)\n",
    "\n",
    "14. previous: number of contacts performed before this campaign and for this client\n",
    "    - (numeric)\n",
    "\n",
    "15. poutcome: outcome of the previous marketing campaign \n",
    "    - (categorical: \"failure\",\"nonexistent\",\"success\")\n",
    "\n",
    "### social and economic context attributes\n",
    "16. emp.var.rate: employment variation rate - quarterly indicator (???)\n",
    "    - (numeric)\n",
    "\n",
    "17. cons.price.idx: consumer price index - monthly indicator\n",
    "    - changes in the price level of a weighted average __market basket__ of consumer goods and services purchased by households\n",
    "    - affect inflation\n",
    "    - (numeric)\n",
    "\n",
    "18. cons.conf.idx: consumer confidence index - monthly indicator\n",
    "    - degree of __consumers optimism__ are expressing through their activities of savings and spending.\n",
    "    - affect consumer behavior\n",
    "    - (numeric)\n",
    "\n",
    "19. euribor3m: euribor 3 month rate - daily indicator\n",
    "    - Euribor (euro interbank offered rate)\n",
    "    - ??\n",
    "    - (numeric)\n",
    "\n",
    "20. nr.employed: number of employees - quarterly indicator\n",
    "    - Number of employed persons for a quarter. (for the bank ??)\n",
    "    - (numeric)\n",
    "\n",
    "### Output variable (desired target):\n",
    "\n",
    "21. y - has the client subscribed a term deposit?\n",
    "    - (binary: \"yes\",\"no\")"
   ]
  },
  {
   "cell_type": "code",
   "execution_count": 2,
   "metadata": {},
   "outputs": [
    {
     "output_type": "execute_result",
     "data": {
      "text/plain": [
       "   age        job  marital    education  default housing loan    contact  \\\n",
       "0   56  housemaid  married     basic.4y       no      no   no  telephone   \n",
       "1   57   services  married  high.school  unknown      no   no  telephone   \n",
       "2   37   services  married  high.school       no     yes   no  telephone   \n",
       "3   40     admin.  married     basic.6y       no      no   no  telephone   \n",
       "4   56   services  married  high.school       no      no  yes  telephone   \n",
       "\n",
       "  month day_of_week  duration  campaign  pdays  previous     poutcome  \\\n",
       "0   may         mon       261         1    999         0  nonexistent   \n",
       "1   may         mon       149         1    999         0  nonexistent   \n",
       "2   may         mon       226         1    999         0  nonexistent   \n",
       "3   may         mon       151         1    999         0  nonexistent   \n",
       "4   may         mon       307         1    999         0  nonexistent   \n",
       "\n",
       "   emp.var.rate  cons.price.idx  cons.conf.idx  euribor3m  nr.employed   y  \n",
       "0           1.1          93.994          -36.4      4.857       5191.0  no  \n",
       "1           1.1          93.994          -36.4      4.857       5191.0  no  \n",
       "2           1.1          93.994          -36.4      4.857       5191.0  no  \n",
       "3           1.1          93.994          -36.4      4.857       5191.0  no  \n",
       "4           1.1          93.994          -36.4      4.857       5191.0  no  "
      ],
      "text/html": "<div>\n<style scoped>\n    .dataframe tbody tr th:only-of-type {\n        vertical-align: middle;\n    }\n\n    .dataframe tbody tr th {\n        vertical-align: top;\n    }\n\n    .dataframe thead th {\n        text-align: right;\n    }\n</style>\n<table border=\"1\" class=\"dataframe\">\n  <thead>\n    <tr style=\"text-align: right;\">\n      <th></th>\n      <th>age</th>\n      <th>job</th>\n      <th>marital</th>\n      <th>education</th>\n      <th>default</th>\n      <th>housing</th>\n      <th>loan</th>\n      <th>contact</th>\n      <th>month</th>\n      <th>day_of_week</th>\n      <th>duration</th>\n      <th>campaign</th>\n      <th>pdays</th>\n      <th>previous</th>\n      <th>poutcome</th>\n      <th>emp.var.rate</th>\n      <th>cons.price.idx</th>\n      <th>cons.conf.idx</th>\n      <th>euribor3m</th>\n      <th>nr.employed</th>\n      <th>y</th>\n    </tr>\n  </thead>\n  <tbody>\n    <tr>\n      <th>0</th>\n      <td>56</td>\n      <td>housemaid</td>\n      <td>married</td>\n      <td>basic.4y</td>\n      <td>no</td>\n      <td>no</td>\n      <td>no</td>\n      <td>telephone</td>\n      <td>may</td>\n      <td>mon</td>\n      <td>261</td>\n      <td>1</td>\n      <td>999</td>\n      <td>0</td>\n      <td>nonexistent</td>\n      <td>1.1</td>\n      <td>93.994</td>\n      <td>-36.4</td>\n      <td>4.857</td>\n      <td>5191.0</td>\n      <td>no</td>\n    </tr>\n    <tr>\n      <th>1</th>\n      <td>57</td>\n      <td>services</td>\n      <td>married</td>\n      <td>high.school</td>\n      <td>unknown</td>\n      <td>no</td>\n      <td>no</td>\n      <td>telephone</td>\n      <td>may</td>\n      <td>mon</td>\n      <td>149</td>\n      <td>1</td>\n      <td>999</td>\n      <td>0</td>\n      <td>nonexistent</td>\n      <td>1.1</td>\n      <td>93.994</td>\n      <td>-36.4</td>\n      <td>4.857</td>\n      <td>5191.0</td>\n      <td>no</td>\n    </tr>\n    <tr>\n      <th>2</th>\n      <td>37</td>\n      <td>services</td>\n      <td>married</td>\n      <td>high.school</td>\n      <td>no</td>\n      <td>yes</td>\n      <td>no</td>\n      <td>telephone</td>\n      <td>may</td>\n      <td>mon</td>\n      <td>226</td>\n      <td>1</td>\n      <td>999</td>\n      <td>0</td>\n      <td>nonexistent</td>\n      <td>1.1</td>\n      <td>93.994</td>\n      <td>-36.4</td>\n      <td>4.857</td>\n      <td>5191.0</td>\n      <td>no</td>\n    </tr>\n    <tr>\n      <th>3</th>\n      <td>40</td>\n      <td>admin.</td>\n      <td>married</td>\n      <td>basic.6y</td>\n      <td>no</td>\n      <td>no</td>\n      <td>no</td>\n      <td>telephone</td>\n      <td>may</td>\n      <td>mon</td>\n      <td>151</td>\n      <td>1</td>\n      <td>999</td>\n      <td>0</td>\n      <td>nonexistent</td>\n      <td>1.1</td>\n      <td>93.994</td>\n      <td>-36.4</td>\n      <td>4.857</td>\n      <td>5191.0</td>\n      <td>no</td>\n    </tr>\n    <tr>\n      <th>4</th>\n      <td>56</td>\n      <td>services</td>\n      <td>married</td>\n      <td>high.school</td>\n      <td>no</td>\n      <td>no</td>\n      <td>yes</td>\n      <td>telephone</td>\n      <td>may</td>\n      <td>mon</td>\n      <td>307</td>\n      <td>1</td>\n      <td>999</td>\n      <td>0</td>\n      <td>nonexistent</td>\n      <td>1.1</td>\n      <td>93.994</td>\n      <td>-36.4</td>\n      <td>4.857</td>\n      <td>5191.0</td>\n      <td>no</td>\n    </tr>\n  </tbody>\n</table>\n</div>"
     },
     "metadata": {},
     "execution_count": 2
    }
   ],
   "source": [
    "df = pd.read_csv('bank-additional-full.csv', sep=';')\n",
    "df.head()"
   ]
  },
  {
   "cell_type": "code",
   "execution_count": 3,
   "metadata": {},
   "outputs": [],
   "source": [
    "df.education = df.education.apply(lambda x : x.replace(\".\", \" \"))"
   ]
  },
  {
   "cell_type": "markdown",
   "metadata": {},
   "source": [
    "# Data Description"
   ]
  },
  {
   "cell_type": "code",
   "execution_count": 4,
   "metadata": {},
   "outputs": [
    {
     "output_type": "execute_result",
     "data": {
      "text/plain": [
       "     Data Features Data Types  Null  Null Percentage  Unique  \\\n",
       "0              age      int64     0              0.0      78   \n",
       "1              job     object     0              0.0      12   \n",
       "2          marital     object     0              0.0       4   \n",
       "3        education     object     0              0.0       8   \n",
       "4          default     object     0              0.0       3   \n",
       "5          housing     object     0              0.0       3   \n",
       "6             loan     object     0              0.0       3   \n",
       "7          contact     object     0              0.0       2   \n",
       "8            month     object     0              0.0      10   \n",
       "9      day_of_week     object     0              0.0       5   \n",
       "10        duration      int64     0              0.0    1544   \n",
       "11        campaign      int64     0              0.0      42   \n",
       "12           pdays      int64     0              0.0      27   \n",
       "13        previous      int64     0              0.0       8   \n",
       "14        poutcome     object     0              0.0       3   \n",
       "15    emp.var.rate    float64     0              0.0      10   \n",
       "16  cons.price.idx    float64     0              0.0      26   \n",
       "17   cons.conf.idx    float64     0              0.0      26   \n",
       "18       euribor3m    float64     0              0.0     316   \n",
       "19     nr.employed    float64     0              0.0      11   \n",
       "20               y     object     0              0.0       2   \n",
       "\n",
       "                                     Unique Sample  \n",
       "0                                     [51, 49, 74]  \n",
       "1           [services, blue-collar, self-employed]  \n",
       "2                     [married, divorced, unknown]  \n",
       "3   [high school, illiterate, professional course]  \n",
       "4                               [no, unknown, yes]  \n",
       "5                               [no, yes, unknown]  \n",
       "6                               [no, yes, unknown]  \n",
       "7                            [telephone, cellular]  \n",
       "8                                  [may, mar, aug]  \n",
       "9                                  [thu, wed, fri]  \n",
       "10                                 [869, 399, 183]  \n",
       "11                                    [28, 35, 10]  \n",
       "12                                     [2, 17, 27]  \n",
       "13                                       [4, 6, 7]  \n",
       "14                 [nonexistent, failure, success]  \n",
       "15                              [-1.7, -3.0, -1.8]  \n",
       "16                        [94.027, 93.876, 93.798]  \n",
       "17                           [-34.6, -40.0, -42.7]  \n",
       "18                           [0.898, 0.706, 4.857]  \n",
       "19                        [5099.1, 5195.8, 4991.6]  \n",
       "20                                       [no, yes]  "
      ],
      "text/html": "<div>\n<style scoped>\n    .dataframe tbody tr th:only-of-type {\n        vertical-align: middle;\n    }\n\n    .dataframe tbody tr th {\n        vertical-align: top;\n    }\n\n    .dataframe thead th {\n        text-align: right;\n    }\n</style>\n<table border=\"1\" class=\"dataframe\">\n  <thead>\n    <tr style=\"text-align: right;\">\n      <th></th>\n      <th>Data Features</th>\n      <th>Data Types</th>\n      <th>Null</th>\n      <th>Null Percentage</th>\n      <th>Unique</th>\n      <th>Unique Sample</th>\n    </tr>\n  </thead>\n  <tbody>\n    <tr>\n      <th>0</th>\n      <td>age</td>\n      <td>int64</td>\n      <td>0</td>\n      <td>0.0</td>\n      <td>78</td>\n      <td>[51, 49, 74]</td>\n    </tr>\n    <tr>\n      <th>1</th>\n      <td>job</td>\n      <td>object</td>\n      <td>0</td>\n      <td>0.0</td>\n      <td>12</td>\n      <td>[services, blue-collar, self-employed]</td>\n    </tr>\n    <tr>\n      <th>2</th>\n      <td>marital</td>\n      <td>object</td>\n      <td>0</td>\n      <td>0.0</td>\n      <td>4</td>\n      <td>[married, divorced, unknown]</td>\n    </tr>\n    <tr>\n      <th>3</th>\n      <td>education</td>\n      <td>object</td>\n      <td>0</td>\n      <td>0.0</td>\n      <td>8</td>\n      <td>[high school, illiterate, professional course]</td>\n    </tr>\n    <tr>\n      <th>4</th>\n      <td>default</td>\n      <td>object</td>\n      <td>0</td>\n      <td>0.0</td>\n      <td>3</td>\n      <td>[no, unknown, yes]</td>\n    </tr>\n    <tr>\n      <th>5</th>\n      <td>housing</td>\n      <td>object</td>\n      <td>0</td>\n      <td>0.0</td>\n      <td>3</td>\n      <td>[no, yes, unknown]</td>\n    </tr>\n    <tr>\n      <th>6</th>\n      <td>loan</td>\n      <td>object</td>\n      <td>0</td>\n      <td>0.0</td>\n      <td>3</td>\n      <td>[no, yes, unknown]</td>\n    </tr>\n    <tr>\n      <th>7</th>\n      <td>contact</td>\n      <td>object</td>\n      <td>0</td>\n      <td>0.0</td>\n      <td>2</td>\n      <td>[telephone, cellular]</td>\n    </tr>\n    <tr>\n      <th>8</th>\n      <td>month</td>\n      <td>object</td>\n      <td>0</td>\n      <td>0.0</td>\n      <td>10</td>\n      <td>[may, mar, aug]</td>\n    </tr>\n    <tr>\n      <th>9</th>\n      <td>day_of_week</td>\n      <td>object</td>\n      <td>0</td>\n      <td>0.0</td>\n      <td>5</td>\n      <td>[thu, wed, fri]</td>\n    </tr>\n    <tr>\n      <th>10</th>\n      <td>duration</td>\n      <td>int64</td>\n      <td>0</td>\n      <td>0.0</td>\n      <td>1544</td>\n      <td>[869, 399, 183]</td>\n    </tr>\n    <tr>\n      <th>11</th>\n      <td>campaign</td>\n      <td>int64</td>\n      <td>0</td>\n      <td>0.0</td>\n      <td>42</td>\n      <td>[28, 35, 10]</td>\n    </tr>\n    <tr>\n      <th>12</th>\n      <td>pdays</td>\n      <td>int64</td>\n      <td>0</td>\n      <td>0.0</td>\n      <td>27</td>\n      <td>[2, 17, 27]</td>\n    </tr>\n    <tr>\n      <th>13</th>\n      <td>previous</td>\n      <td>int64</td>\n      <td>0</td>\n      <td>0.0</td>\n      <td>8</td>\n      <td>[4, 6, 7]</td>\n    </tr>\n    <tr>\n      <th>14</th>\n      <td>poutcome</td>\n      <td>object</td>\n      <td>0</td>\n      <td>0.0</td>\n      <td>3</td>\n      <td>[nonexistent, failure, success]</td>\n    </tr>\n    <tr>\n      <th>15</th>\n      <td>emp.var.rate</td>\n      <td>float64</td>\n      <td>0</td>\n      <td>0.0</td>\n      <td>10</td>\n      <td>[-1.7, -3.0, -1.8]</td>\n    </tr>\n    <tr>\n      <th>16</th>\n      <td>cons.price.idx</td>\n      <td>float64</td>\n      <td>0</td>\n      <td>0.0</td>\n      <td>26</td>\n      <td>[94.027, 93.876, 93.798]</td>\n    </tr>\n    <tr>\n      <th>17</th>\n      <td>cons.conf.idx</td>\n      <td>float64</td>\n      <td>0</td>\n      <td>0.0</td>\n      <td>26</td>\n      <td>[-34.6, -40.0, -42.7]</td>\n    </tr>\n    <tr>\n      <th>18</th>\n      <td>euribor3m</td>\n      <td>float64</td>\n      <td>0</td>\n      <td>0.0</td>\n      <td>316</td>\n      <td>[0.898, 0.706, 4.857]</td>\n    </tr>\n    <tr>\n      <th>19</th>\n      <td>nr.employed</td>\n      <td>float64</td>\n      <td>0</td>\n      <td>0.0</td>\n      <td>11</td>\n      <td>[5099.1, 5195.8, 4991.6]</td>\n    </tr>\n    <tr>\n      <th>20</th>\n      <td>y</td>\n      <td>object</td>\n      <td>0</td>\n      <td>0.0</td>\n      <td>2</td>\n      <td>[no, yes]</td>\n    </tr>\n  </tbody>\n</table>\n</div>"
     },
     "metadata": {},
     "execution_count": 4
    }
   ],
   "source": [
    "dfDesc = []\n",
    "for i in df.columns:\n",
    "    if df[i].nunique() > 3 :\n",
    "        bla = df[i].drop_duplicates().sample(3).values\n",
    "    else :\n",
    "        bla = df[i].drop_duplicates().values\n",
    "    \n",
    "    dfDesc.append([\n",
    "        i,\n",
    "        df[i].dtypes,\n",
    "        df[i].isna().sum(),\n",
    "        round((((df[i].isna().sum()) / len(df)) * 100), 2),\n",
    "        df[i].nunique(),\n",
    "        bla\n",
    "    ])\n",
    "    \n",
    "pd.DataFrame(dfDesc, columns=[\n",
    "    \"Data Features\",\n",
    "    \"Data Types\",\n",
    "    \"Null\",\n",
    "    \"Null Percentage\",\n",
    "    \"Unique\",\n",
    "    \"Unique Sample\"\n",
    "])"
   ]
  },
  {
   "cell_type": "markdown",
   "metadata": {},
   "source": [
    "__Insisght__:\n",
    "- Tidak ada data null"
   ]
  },
  {
   "cell_type": "markdown",
   "metadata": {},
   "source": [
    "# Stats Description"
   ]
  },
  {
   "cell_type": "code",
   "execution_count": 5,
   "metadata": {},
   "outputs": [
    {
     "output_type": "execute_result",
     "data": {
      "text/plain": [
       "                  count         mean         std       min       25%  \\\n",
       "age             41188.0    40.024060   10.421250    17.000    32.000   \n",
       "duration        41188.0   258.285010  259.279249     0.000   102.000   \n",
       "campaign        41188.0     2.567593    2.770014     1.000     1.000   \n",
       "pdays           41188.0   962.475454  186.910907     0.000   999.000   \n",
       "previous        41188.0     0.172963    0.494901     0.000     0.000   \n",
       "emp.var.rate    41188.0     0.081886    1.570960    -3.400    -1.800   \n",
       "cons.price.idx  41188.0    93.575664    0.578840    92.201    93.075   \n",
       "cons.conf.idx   41188.0   -40.502600    4.628198   -50.800   -42.700   \n",
       "euribor3m       41188.0     3.621291    1.734447     0.634     1.344   \n",
       "nr.employed     41188.0  5167.035911   72.251528  4963.600  5099.100   \n",
       "\n",
       "                     50%       75%       max  \n",
       "age               38.000    47.000    98.000  \n",
       "duration         180.000   319.000  4918.000  \n",
       "campaign           2.000     3.000    56.000  \n",
       "pdays            999.000   999.000   999.000  \n",
       "previous           0.000     0.000     7.000  \n",
       "emp.var.rate       1.100     1.400     1.400  \n",
       "cons.price.idx    93.749    93.994    94.767  \n",
       "cons.conf.idx    -41.800   -36.400   -26.900  \n",
       "euribor3m          4.857     4.961     5.045  \n",
       "nr.employed     5191.000  5228.100  5228.100  "
      ],
      "text/html": "<div>\n<style scoped>\n    .dataframe tbody tr th:only-of-type {\n        vertical-align: middle;\n    }\n\n    .dataframe tbody tr th {\n        vertical-align: top;\n    }\n\n    .dataframe thead th {\n        text-align: right;\n    }\n</style>\n<table border=\"1\" class=\"dataframe\">\n  <thead>\n    <tr style=\"text-align: right;\">\n      <th></th>\n      <th>count</th>\n      <th>mean</th>\n      <th>std</th>\n      <th>min</th>\n      <th>25%</th>\n      <th>50%</th>\n      <th>75%</th>\n      <th>max</th>\n    </tr>\n  </thead>\n  <tbody>\n    <tr>\n      <th>age</th>\n      <td>41188.0</td>\n      <td>40.024060</td>\n      <td>10.421250</td>\n      <td>17.000</td>\n      <td>32.000</td>\n      <td>38.000</td>\n      <td>47.000</td>\n      <td>98.000</td>\n    </tr>\n    <tr>\n      <th>duration</th>\n      <td>41188.0</td>\n      <td>258.285010</td>\n      <td>259.279249</td>\n      <td>0.000</td>\n      <td>102.000</td>\n      <td>180.000</td>\n      <td>319.000</td>\n      <td>4918.000</td>\n    </tr>\n    <tr>\n      <th>campaign</th>\n      <td>41188.0</td>\n      <td>2.567593</td>\n      <td>2.770014</td>\n      <td>1.000</td>\n      <td>1.000</td>\n      <td>2.000</td>\n      <td>3.000</td>\n      <td>56.000</td>\n    </tr>\n    <tr>\n      <th>pdays</th>\n      <td>41188.0</td>\n      <td>962.475454</td>\n      <td>186.910907</td>\n      <td>0.000</td>\n      <td>999.000</td>\n      <td>999.000</td>\n      <td>999.000</td>\n      <td>999.000</td>\n    </tr>\n    <tr>\n      <th>previous</th>\n      <td>41188.0</td>\n      <td>0.172963</td>\n      <td>0.494901</td>\n      <td>0.000</td>\n      <td>0.000</td>\n      <td>0.000</td>\n      <td>0.000</td>\n      <td>7.000</td>\n    </tr>\n    <tr>\n      <th>emp.var.rate</th>\n      <td>41188.0</td>\n      <td>0.081886</td>\n      <td>1.570960</td>\n      <td>-3.400</td>\n      <td>-1.800</td>\n      <td>1.100</td>\n      <td>1.400</td>\n      <td>1.400</td>\n    </tr>\n    <tr>\n      <th>cons.price.idx</th>\n      <td>41188.0</td>\n      <td>93.575664</td>\n      <td>0.578840</td>\n      <td>92.201</td>\n      <td>93.075</td>\n      <td>93.749</td>\n      <td>93.994</td>\n      <td>94.767</td>\n    </tr>\n    <tr>\n      <th>cons.conf.idx</th>\n      <td>41188.0</td>\n      <td>-40.502600</td>\n      <td>4.628198</td>\n      <td>-50.800</td>\n      <td>-42.700</td>\n      <td>-41.800</td>\n      <td>-36.400</td>\n      <td>-26.900</td>\n    </tr>\n    <tr>\n      <th>euribor3m</th>\n      <td>41188.0</td>\n      <td>3.621291</td>\n      <td>1.734447</td>\n      <td>0.634</td>\n      <td>1.344</td>\n      <td>4.857</td>\n      <td>4.961</td>\n      <td>5.045</td>\n    </tr>\n    <tr>\n      <th>nr.employed</th>\n      <td>41188.0</td>\n      <td>5167.035911</td>\n      <td>72.251528</td>\n      <td>4963.600</td>\n      <td>5099.100</td>\n      <td>5191.000</td>\n      <td>5228.100</td>\n      <td>5228.100</td>\n    </tr>\n  </tbody>\n</table>\n</div>"
     },
     "metadata": {},
     "execution_count": 5
    }
   ],
   "source": [
    "df.describe().T"
   ]
  },
  {
   "cell_type": "code",
   "execution_count": 6,
   "metadata": {},
   "outputs": [
    {
     "output_type": "execute_result",
     "data": {
      "text/plain": [
       "           job  marital          education default housing   loan   contact  \\\n",
       "count    41188    41188              41188   41188   41188  41188     41188   \n",
       "unique      12        4                  8       3       3      3         2   \n",
       "top     admin.  married  university degree      no     yes     no  cellular   \n",
       "freq     10422    24928              12168   32588   21576  33950     26144   \n",
       "\n",
       "        month day_of_week     poutcome      y  \n",
       "count   41188       41188        41188  41188  \n",
       "unique     10           5            3      2  \n",
       "top       may         thu  nonexistent     no  \n",
       "freq    13769        8623        35563  36548  "
      ],
      "text/html": "<div>\n<style scoped>\n    .dataframe tbody tr th:only-of-type {\n        vertical-align: middle;\n    }\n\n    .dataframe tbody tr th {\n        vertical-align: top;\n    }\n\n    .dataframe thead th {\n        text-align: right;\n    }\n</style>\n<table border=\"1\" class=\"dataframe\">\n  <thead>\n    <tr style=\"text-align: right;\">\n      <th></th>\n      <th>job</th>\n      <th>marital</th>\n      <th>education</th>\n      <th>default</th>\n      <th>housing</th>\n      <th>loan</th>\n      <th>contact</th>\n      <th>month</th>\n      <th>day_of_week</th>\n      <th>poutcome</th>\n      <th>y</th>\n    </tr>\n  </thead>\n  <tbody>\n    <tr>\n      <th>count</th>\n      <td>41188</td>\n      <td>41188</td>\n      <td>41188</td>\n      <td>41188</td>\n      <td>41188</td>\n      <td>41188</td>\n      <td>41188</td>\n      <td>41188</td>\n      <td>41188</td>\n      <td>41188</td>\n      <td>41188</td>\n    </tr>\n    <tr>\n      <th>unique</th>\n      <td>12</td>\n      <td>4</td>\n      <td>8</td>\n      <td>3</td>\n      <td>3</td>\n      <td>3</td>\n      <td>2</td>\n      <td>10</td>\n      <td>5</td>\n      <td>3</td>\n      <td>2</td>\n    </tr>\n    <tr>\n      <th>top</th>\n      <td>admin.</td>\n      <td>married</td>\n      <td>university degree</td>\n      <td>no</td>\n      <td>yes</td>\n      <td>no</td>\n      <td>cellular</td>\n      <td>may</td>\n      <td>thu</td>\n      <td>nonexistent</td>\n      <td>no</td>\n    </tr>\n    <tr>\n      <th>freq</th>\n      <td>10422</td>\n      <td>24928</td>\n      <td>12168</td>\n      <td>32588</td>\n      <td>21576</td>\n      <td>33950</td>\n      <td>26144</td>\n      <td>13769</td>\n      <td>8623</td>\n      <td>35563</td>\n      <td>36548</td>\n    </tr>\n  </tbody>\n</table>\n</div>"
     },
     "metadata": {},
     "execution_count": 6
    }
   ],
   "source": [
    "df.describe(include='O')"
   ]
  },
  {
   "cell_type": "markdown",
   "metadata": {},
   "source": [
    "# Cek Imbalance Data dan Pembagian data numerik dan kategorik"
   ]
  },
  {
   "cell_type": "code",
   "execution_count": 7,
   "metadata": {},
   "outputs": [
    {
     "output_type": "execute_result",
     "data": {
      "text/plain": [
       "no     36548\n",
       "yes     4640\n",
       "Name: y, dtype: int64"
      ]
     },
     "metadata": {},
     "execution_count": 7
    }
   ],
   "source": [
    "df['y'].value_counts()"
   ]
  },
  {
   "cell_type": "code",
   "execution_count": 8,
   "metadata": {},
   "outputs": [],
   "source": [
    "num=['age', 'duration', 'campaign', 'pdays', 'previous', 'emp.var.rate', 'cons.price.idx', 'cons.conf.idx', 'euribor3m', 'nr.employed']\n",
    "cat=[i for i in df.columns if i not in num]"
   ]
  },
  {
   "cell_type": "markdown",
   "metadata": {},
   "source": [
    "# Cek Outliers"
   ]
  },
  {
   "cell_type": "code",
   "execution_count": 9,
   "metadata": {},
   "outputs": [
    {
     "output_type": "execute_result",
     "data": {
      "text/plain": [
       "    Data Features  Jumlah Outliers  Upper Fence  Lower Fence\n",
       "0             age              469      69.5000       9.5000\n",
       "1        duration             2963     644.5000    -223.5000\n",
       "2        campaign             2406       6.0000      -2.0000\n",
       "3           pdays             1515     999.0000     999.0000\n",
       "4        previous             5625       0.0000       0.0000\n",
       "5    emp.var.rate                0       6.2000      -6.6000\n",
       "6  cons.price.idx                0      95.3725      91.6965\n",
       "7   cons.conf.idx              447     -26.9500     -52.1500\n",
       "8       euribor3m                0      10.3865      -4.0815\n",
       "9     nr.employed                0    5421.6000    4905.6000"
      ],
      "text/html": "<div>\n<style scoped>\n    .dataframe tbody tr th:only-of-type {\n        vertical-align: middle;\n    }\n\n    .dataframe tbody tr th {\n        vertical-align: top;\n    }\n\n    .dataframe thead th {\n        text-align: right;\n    }\n</style>\n<table border=\"1\" class=\"dataframe\">\n  <thead>\n    <tr style=\"text-align: right;\">\n      <th></th>\n      <th>Data Features</th>\n      <th>Jumlah Outliers</th>\n      <th>Upper Fence</th>\n      <th>Lower Fence</th>\n    </tr>\n  </thead>\n  <tbody>\n    <tr>\n      <th>0</th>\n      <td>age</td>\n      <td>469</td>\n      <td>69.5000</td>\n      <td>9.5000</td>\n    </tr>\n    <tr>\n      <th>1</th>\n      <td>duration</td>\n      <td>2963</td>\n      <td>644.5000</td>\n      <td>-223.5000</td>\n    </tr>\n    <tr>\n      <th>2</th>\n      <td>campaign</td>\n      <td>2406</td>\n      <td>6.0000</td>\n      <td>-2.0000</td>\n    </tr>\n    <tr>\n      <th>3</th>\n      <td>pdays</td>\n      <td>1515</td>\n      <td>999.0000</td>\n      <td>999.0000</td>\n    </tr>\n    <tr>\n      <th>4</th>\n      <td>previous</td>\n      <td>5625</td>\n      <td>0.0000</td>\n      <td>0.0000</td>\n    </tr>\n    <tr>\n      <th>5</th>\n      <td>emp.var.rate</td>\n      <td>0</td>\n      <td>6.2000</td>\n      <td>-6.6000</td>\n    </tr>\n    <tr>\n      <th>6</th>\n      <td>cons.price.idx</td>\n      <td>0</td>\n      <td>95.3725</td>\n      <td>91.6965</td>\n    </tr>\n    <tr>\n      <th>7</th>\n      <td>cons.conf.idx</td>\n      <td>447</td>\n      <td>-26.9500</td>\n      <td>-52.1500</td>\n    </tr>\n    <tr>\n      <th>8</th>\n      <td>euribor3m</td>\n      <td>0</td>\n      <td>10.3865</td>\n      <td>-4.0815</td>\n    </tr>\n    <tr>\n      <th>9</th>\n      <td>nr.employed</td>\n      <td>0</td>\n      <td>5421.6000</td>\n      <td>4905.6000</td>\n    </tr>\n  </tbody>\n</table>\n</div>"
     },
     "metadata": {},
     "execution_count": 9
    }
   ],
   "source": [
    "Desc_outliers = []\n",
    "\n",
    "for i in df.describe().columns:\n",
    "    Q1 = df.describe()[i]['25%']\n",
    "    Q3 = df.describe()[i]['75%']\n",
    "    IQR = Q3 - Q1\n",
    "    upper_fence = Q3 + (1.5*IQR)\n",
    "    lower_fence = Q1 - (1.5*IQR)\n",
    "    hitung = 0\n",
    "    \n",
    "    for j in df[i]:\n",
    "        if (j < lower_fence) | (j > upper_fence) :\n",
    "            hitung+=1\n",
    "    Desc_outliers.append([\n",
    "        i,\n",
    "        hitung,\n",
    "        upper_fence,\n",
    "        lower_fence\n",
    "    ])\n",
    "\n",
    "out = pd.DataFrame(Desc_outliers, columns=[\n",
    "    \"Data Features\",\n",
    "    \"Jumlah Outliers\",\n",
    "    \"Upper Fence\",\n",
    "    \"Lower Fence\"\n",
    "])\n",
    "out"
   ]
  },
  {
   "cell_type": "markdown",
   "metadata": {},
   "source": [
    "__Insight__:\n",
    "\n",
    "- Pd kolom age, duration, campaign, pdays, previous dan cons.conf.idx memiliki outliers yg cukup banyak"
   ]
  },
  {
   "cell_type": "code",
   "execution_count": 10,
   "metadata": {},
   "outputs": [
    {
     "output_type": "execute_result",
     "data": {
      "text/plain": [
       "0    35563\n",
       "1     4561\n",
       "2      754\n",
       "3      216\n",
       "4       70\n",
       "5       18\n",
       "6        5\n",
       "7        1\n",
       "Name: previous, dtype: int64"
      ]
     },
     "metadata": {},
     "execution_count": 10
    }
   ],
   "source": [
    "df['previous'].value_counts()"
   ]
  },
  {
   "cell_type": "markdown",
   "metadata": {},
   "source": [
    "__Insight__:\n",
    "\n",
    "- Pd kolom pdays bentuk boxplotnya unik karena nilai 999 nya sangat lebih banyak dari nilai lainnya memiliki rentang yang jauh dengan 999\n",
    "- Pd kolom previous bentuk boxplotnya unik karena nilai 0 nya sangat lebih banyak dari niali lainnya. antar nilai memiliki rentang 1. "
   ]
  },
  {
   "cell_type": "markdown",
   "metadata": {},
   "source": [
    "# EXPLANATORY DATA ANALYSIS\n",
    "\n",
    "melakukan 2 tipe analisis yaitu Univariate dan Multi Variate"
   ]
  },
  {
   "cell_type": "markdown",
   "metadata": {},
   "source": [
    "## Univariate\n",
    "\n",
    "- untuk data numerical continues menggunakan histogram untuk melihat distribusi nilai\n",
    "- untuk data categorical menggunakan barplot"
   ]
  },
  {
   "cell_type": "code",
   "execution_count": 11,
   "metadata": {},
   "outputs": [],
   "source": [
    "# def function for table univariate categorical\n",
    "\n",
    "def tab_cat (x):\n",
    "    table = pd.crosstab(index = df[x], columns = 'Jumlah')\n",
    "    return table"
   ]
  },
  {
   "cell_type": "code",
   "execution_count": 12,
   "metadata": {},
   "outputs": [
    {
     "output_type": "execute_result",
     "data": {
      "text/plain": [
       "col_0     Jumlah\n",
       "marital         \n",
       "divorced    4612\n",
       "married    24928\n",
       "single     11568\n",
       "unknown       80"
      ],
      "text/html": "<div>\n<style scoped>\n    .dataframe tbody tr th:only-of-type {\n        vertical-align: middle;\n    }\n\n    .dataframe tbody tr th {\n        vertical-align: top;\n    }\n\n    .dataframe thead th {\n        text-align: right;\n    }\n</style>\n<table border=\"1\" class=\"dataframe\">\n  <thead>\n    <tr style=\"text-align: right;\">\n      <th>col_0</th>\n      <th>Jumlah</th>\n    </tr>\n    <tr>\n      <th>marital</th>\n      <th></th>\n    </tr>\n  </thead>\n  <tbody>\n    <tr>\n      <th>divorced</th>\n      <td>4612</td>\n    </tr>\n    <tr>\n      <th>married</th>\n      <td>24928</td>\n    </tr>\n    <tr>\n      <th>single</th>\n      <td>11568</td>\n    </tr>\n    <tr>\n      <th>unknown</th>\n      <td>80</td>\n    </tr>\n  </tbody>\n</table>\n</div>"
     },
     "metadata": {},
     "execution_count": 12
    }
   ],
   "source": [
    "tab_cat(cat[1])"
   ]
  },
  {
   "cell_type": "markdown",
   "metadata": {},
   "source": [
    "#### __1. HUBUNGAN TIAP VARIABLE DENGAN KOLOM TARGET__"
   ]
  },
  {
   "cell_type": "markdown",
   "metadata": {},
   "source": [
    "__- Kolom numerical dengan kolom target__"
   ]
  },
  {
   "cell_type": "code",
   "execution_count": 13,
   "metadata": {},
   "outputs": [],
   "source": [
    "# def fucntion for table y (subscribed for deposit or not) in response to Numerical features\n",
    "\n",
    "def table_num_y (x):\n",
    "    tabel = pd.pivot_table(df, values=x, index='y', aggfunc=np.mean).round(2)\n",
    "    tabel.rename(columns={x:'Rata-rata '+x + ' di masing2 y nya'}, inplace=True)\n",
    "    return tabel"
   ]
  },
  {
   "cell_type": "code",
   "execution_count": 14,
   "metadata": {},
   "outputs": [
    {
     "output_type": "execute_result",
     "data": {
      "text/plain": [
       "     Rata-rata duration di masing2 y nya\n",
       "y                                       \n",
       "no                                220.84\n",
       "yes                               553.19"
      ],
      "text/html": "<div>\n<style scoped>\n    .dataframe tbody tr th:only-of-type {\n        vertical-align: middle;\n    }\n\n    .dataframe tbody tr th {\n        vertical-align: top;\n    }\n\n    .dataframe thead th {\n        text-align: right;\n    }\n</style>\n<table border=\"1\" class=\"dataframe\">\n  <thead>\n    <tr style=\"text-align: right;\">\n      <th></th>\n      <th>Rata-rata duration di masing2 y nya</th>\n    </tr>\n    <tr>\n      <th>y</th>\n      <th></th>\n    </tr>\n  </thead>\n  <tbody>\n    <tr>\n      <th>no</th>\n      <td>220.84</td>\n    </tr>\n    <tr>\n      <th>yes</th>\n      <td>553.19</td>\n    </tr>\n  </tbody>\n</table>\n</div>"
     },
     "metadata": {},
     "execution_count": 14
    }
   ],
   "source": [
    "table_num_y(num[1])"
   ]
  },
  {
   "cell_type": "markdown",
   "metadata": {},
   "source": [
    "__- Kolom categorical dengan kolom target__"
   ]
  },
  {
   "cell_type": "code",
   "execution_count": 15,
   "metadata": {},
   "outputs": [],
   "source": [
    "# def fucntion table y (subscribed for deposit or not) in response to Categorical features\n",
    "\n",
    "def table_cat_y (x):\n",
    "    table = pd.crosstab(index=[df['y'], df[x]], columns='Jumlah')\n",
    "    persen = []\n",
    "    \n",
    "    if x == 'default':\n",
    "        for i in (table.reset_index()['y']).unique():\n",
    "            if i == 'yes' :\n",
    "                for j in ['no', 'unknown']:\n",
    "                    persen.append(\n",
    "                        round((table.loc[i,j][0]/(table.loc[i]).sum()[0])*100, 2)\n",
    "                    )\n",
    "            elif i == 'no' :\n",
    "                for k in (table.reset_index()[x]).unique():\n",
    "                    persen.append(\n",
    "                        round((table.loc[i,k][0]/(table.loc[i]).sum()[0])*100, 2)\n",
    "                    )\n",
    "    else :\n",
    "        for a in (table.reset_index()['y']).unique():\n",
    "            for b in (table.reset_index()[x]).unique():\n",
    "                persen.append(\n",
    "                    round((table.loc[a,b][0]/(table.loc[a]).sum()[0])*100, 2)\n",
    "                )\n",
    "    table['Persentase tiap y(%)'] = persen\n",
    "    return table"
   ]
  },
  {
   "cell_type": "code",
   "execution_count": 16,
   "metadata": {},
   "outputs": [
    {
     "output_type": "execute_result",
     "data": {
      "text/plain": [
       "col_0        Jumlah  Persentase tiap y(%)\n",
       "y   default                              \n",
       "no  no        28391                 77.68\n",
       "    unknown    8154                 22.31\n",
       "    yes           3                  0.01\n",
       "yes no         4197                 90.45\n",
       "    unknown     443                  9.55"
      ],
      "text/html": "<div>\n<style scoped>\n    .dataframe tbody tr th:only-of-type {\n        vertical-align: middle;\n    }\n\n    .dataframe tbody tr th {\n        vertical-align: top;\n    }\n\n    .dataframe thead th {\n        text-align: right;\n    }\n</style>\n<table border=\"1\" class=\"dataframe\">\n  <thead>\n    <tr style=\"text-align: right;\">\n      <th></th>\n      <th>col_0</th>\n      <th>Jumlah</th>\n      <th>Persentase tiap y(%)</th>\n    </tr>\n    <tr>\n      <th>y</th>\n      <th>default</th>\n      <th></th>\n      <th></th>\n    </tr>\n  </thead>\n  <tbody>\n    <tr>\n      <th rowspan=\"3\" valign=\"top\">no</th>\n      <th>no</th>\n      <td>28391</td>\n      <td>77.68</td>\n    </tr>\n    <tr>\n      <th>unknown</th>\n      <td>8154</td>\n      <td>22.31</td>\n    </tr>\n    <tr>\n      <th>yes</th>\n      <td>3</td>\n      <td>0.01</td>\n    </tr>\n    <tr>\n      <th rowspan=\"2\" valign=\"top\">yes</th>\n      <th>no</th>\n      <td>4197</td>\n      <td>90.45</td>\n    </tr>\n    <tr>\n      <th>unknown</th>\n      <td>443</td>\n      <td>9.55</td>\n    </tr>\n  </tbody>\n</table>\n</div>"
     },
     "metadata": {},
     "execution_count": 16
    }
   ],
   "source": [
    "table_cat_y(cat[3])"
   ]
  },
  {
   "cell_type": "code",
   "execution_count": 17,
   "metadata": {},
   "outputs": [],
   "source": [
    "cat_2 = [i for i in cat if (i != 'y') & (i != 'job') & (i != 'education')]\n",
    "cat_3 = [i for i in cat if (i != 'y') & (i not in cat_2)]"
   ]
  },
  {
   "cell_type": "code",
   "execution_count": 18,
   "metadata": {},
   "outputs": [
    {
     "output_type": "execute_result",
     "data": {
      "text/plain": [
       "['marital',\n",
       " 'default',\n",
       " 'housing',\n",
       " 'loan',\n",
       " 'contact',\n",
       " 'month',\n",
       " 'day_of_week',\n",
       " 'poutcome']"
      ]
     },
     "metadata": {},
     "execution_count": 18
    }
   ],
   "source": [
    "cat_2"
   ]
  },
  {
   "cell_type": "code",
   "execution_count": 19,
   "metadata": {},
   "outputs": [
    {
     "output_type": "execute_result",
     "data": {
      "text/plain": [
       "['job', 'education']"
      ]
     },
     "metadata": {},
     "execution_count": 19
    }
   ],
   "source": [
    "cat_3"
   ]
  },
  {
   "cell_type": "markdown",
   "metadata": {},
   "source": [
    "# ML"
   ]
  },
  {
   "cell_type": "markdown",
   "metadata": {},
   "source": [
    "### GOALS \n",
    "\n",
    "__Nurunin jumlah False Positif__ \n",
    "\n",
    "__Naikin Nilai Precision kelas 1 (YES)__"
   ]
  },
  {
   "cell_type": "markdown",
   "metadata": {},
   "source": [
    "### PR\n",
    "\n",
    "1. coba label encoder untuk categorical\n",
    "\n",
    "2. coba di bin age, duration(per 180/3 meni, yng diatas 1000 jadi 1000++)"
   ]
  },
  {
   "cell_type": "code",
   "execution_count": 20,
   "metadata": {},
   "outputs": [],
   "source": [
    "age_bin = [-1, 10, 20, 40, df['age'].max()] ## Membuat Kelompok Usia\n",
    "labels = ['Kids', 'Teenager', 'Adult', 'Elder'] ## Label untuk Kelompok Usia\n",
    "df['age_bin'] = pd.cut(df['age'], bins=age_bin, labels=labels)"
   ]
  },
  {
   "cell_type": "code",
   "execution_count": 21,
   "metadata": {},
   "outputs": [],
   "source": [
    "duration_bin = [-1, 180, 360, 540, 720, 900,df['duration'].max()]\n",
    "label_duration = ['0-180', '180-360', '360-540', '540-720', '720-900', '>900']\n",
    "df['duration_bin'] = pd.cut(df['duration'], bins=duration_bin, labels=label_duration)"
   ]
  },
  {
   "cell_type": "code",
   "execution_count": 22,
   "metadata": {},
   "outputs": [
    {
     "output_type": "execute_result",
     "data": {
      "text/plain": [
       "0"
      ]
     },
     "metadata": {},
     "execution_count": 22
    }
   ],
   "source": [
    "df['duration_bin'].isna().sum()"
   ]
  },
  {
   "cell_type": "code",
   "execution_count": 23,
   "metadata": {},
   "outputs": [
    {
     "output_type": "execute_result",
     "data": {
      "text/plain": [
       "no     36548\n",
       "yes     4640\n",
       "Name: y, dtype: int64"
      ]
     },
     "metadata": {},
     "execution_count": 23
    }
   ],
   "source": [
    "df['y'].value_counts()"
   ]
  },
  {
   "cell_type": "markdown",
   "metadata": {},
   "source": [
    "1 ==> Nasabah subscribe deposit (yes)\n",
    "\n",
    "0 ==> Nasabah TIDAK subscribe deposit (no)"
   ]
  },
  {
   "cell_type": "code",
   "execution_count": 24,
   "metadata": {},
   "outputs": [],
   "source": [
    "df['y'] = df['y'].map({'yes' : 1, 'no' : 0})"
   ]
  },
  {
   "cell_type": "code",
   "execution_count": 25,
   "metadata": {},
   "outputs": [
    {
     "output_type": "execute_result",
     "data": {
      "text/plain": [
       "dtype('int64')"
      ]
     },
     "metadata": {},
     "execution_count": 25
    }
   ],
   "source": [
    "df['y'].dtypes"
   ]
  },
  {
   "cell_type": "markdown",
   "metadata": {},
   "source": [
    "## Cek Imbalance Data"
   ]
  },
  {
   "cell_type": "code",
   "execution_count": 26,
   "metadata": {},
   "outputs": [
    {
     "output_type": "execute_result",
     "data": {
      "text/plain": [
       "0    88.73\n",
       "1    11.27\n",
       "Name: y, dtype: float64"
      ]
     },
     "metadata": {},
     "execution_count": 26
    }
   ],
   "source": [
    "round(df['y'].value_counts()/len(df)*100, 2)"
   ]
  },
  {
   "cell_type": "markdown",
   "metadata": {},
   "source": [
    "## Binning Data\n",
    "\n",
    "Lakukan binning pada kolom age dan duration"
   ]
  },
  {
   "cell_type": "code",
   "execution_count": 27,
   "metadata": {},
   "outputs": [],
   "source": [
    "df = df.drop(columns=['age', 'duration'])"
   ]
  },
  {
   "cell_type": "markdown",
   "metadata": {},
   "source": [
    "## Splitting Data"
   ]
  },
  {
   "cell_type": "code",
   "execution_count": 28,
   "metadata": {},
   "outputs": [],
   "source": [
    "X = df.drop(columns='y')\n",
    "y = df['y']"
   ]
  },
  {
   "cell_type": "code",
   "execution_count": 29,
   "metadata": {},
   "outputs": [],
   "source": [
    "X_train, X_test, y_train, y_test = train_test_split(X, y, stratify=y, test_size=.20, random_state=42)"
   ]
  },
  {
   "cell_type": "markdown",
   "metadata": {},
   "source": [
    "## Pipeline"
   ]
  },
  {
   "cell_type": "code",
   "execution_count": 30,
   "metadata": {},
   "outputs": [
    {
     "output_type": "execute_result",
     "data": {
      "text/plain": [
       "Index(['job', 'marital', 'education', 'default', 'housing', 'loan', 'contact',\n",
       "       'month', 'day_of_week', 'campaign', 'pdays', 'previous', 'poutcome',\n",
       "       'emp.var.rate', 'cons.price.idx', 'cons.conf.idx', 'euribor3m',\n",
       "       'nr.employed', 'y', 'age_bin', 'duration_bin'],\n",
       "      dtype='object')"
      ]
     },
     "metadata": {},
     "execution_count": 30
    }
   ],
   "source": [
    "df.columns"
   ]
  },
  {
   "cell_type": "code",
   "execution_count": 31,
   "metadata": {},
   "outputs": [],
   "source": [
    "num_columns = [i for i in num if (i != 'duration') & (i != 'age')]\n",
    "\n",
    "cat_columns = [i for i in df.columns if (i not in num_columns) & (i!='y')]"
   ]
  },
  {
   "cell_type": "code",
   "execution_count": 32,
   "metadata": {},
   "outputs": [
    {
     "output_type": "execute_result",
     "data": {
      "text/plain": [
       "['campaign',\n",
       " 'pdays',\n",
       " 'previous',\n",
       " 'emp.var.rate',\n",
       " 'cons.price.idx',\n",
       " 'cons.conf.idx',\n",
       " 'euribor3m',\n",
       " 'nr.employed']"
      ]
     },
     "metadata": {},
     "execution_count": 32
    }
   ],
   "source": [
    "num_columns"
   ]
  },
  {
   "cell_type": "code",
   "execution_count": 33,
   "metadata": {},
   "outputs": [
    {
     "output_type": "execute_result",
     "data": {
      "text/plain": [
       "['job',\n",
       " 'marital',\n",
       " 'education',\n",
       " 'default',\n",
       " 'housing',\n",
       " 'loan',\n",
       " 'contact',\n",
       " 'month',\n",
       " 'day_of_week',\n",
       " 'poutcome',\n",
       " 'age_bin',\n",
       " 'duration_bin']"
      ]
     },
     "metadata": {},
     "execution_count": 33
    }
   ],
   "source": [
    "cat_columns"
   ]
  },
  {
   "cell_type": "code",
   "execution_count": 34,
   "metadata": {},
   "outputs": [],
   "source": [
    "numeric_pipeline = Pipeline([\n",
    "    ('scaler', RobustScaler())\n",
    "#     ('poly', PolynomialFeatures(degree=2, include_bias=False)),\n",
    "#     ('power', PowerTransformer(method='yeo-johnson'))\n",
    "])\n",
    "\n",
    "categoric_pipeline = Pipeline([\n",
    "    ('encoder', OneHotEncoder())\n",
    "])\n",
    "\n",
    "preprocessor = ColumnTransformer([\n",
    "    ('numeric', numeric_pipeline, num_columns),\n",
    "    ('categorical', categoric_pipeline, cat_columns)\n",
    "])\n",
    "\n",
    "pipe_DT = Pipeline([\n",
    "    ('prep', preprocessor),\n",
    "    ('algo', DecisionTreeClassifier(random_state=42))\n",
    "])"
   ]
  },
  {
   "cell_type": "code",
   "execution_count": null,
   "metadata": {},
   "outputs": [],
   "source": []
  },
  {
   "cell_type": "markdown",
   "metadata": {},
   "source": [
    "## Def Eva Metrix\n",
    "\n",
    "Fungsi def yg isinya evaluation metrix.\n",
    "Evaluation matrix yang dipakai kali ini adalah Cunfusion matrix dan Classification report"
   ]
  },
  {
   "cell_type": "code",
   "execution_count": 35,
   "metadata": {},
   "outputs": [],
   "source": [
    "def conf_mat (Model, X_train, X_test, y_train, y_test,Nama):\n",
    "    y_pred_test = Model.predict(X_test)\n",
    "    cm_test = confusion_matrix(y_test, y_pred_test, labels=[1,0])\n",
    "    df = pd.DataFrame(cm_test, index = ['Akt1', 'Akt0'], columns=['Pred1', 'Pred0'])\n",
    "    print( 'Classification report data TEST ' + Nama + '\\n\\n', classification_report(y_test, y_pred_test))\n",
    "    \n",
    "    y_pred_train = Model.predict(X_train)\n",
    "    print( 'Classification report data TRAIN ' + Nama + '\\n\\n', classification_report(y_train, y_pred_train))\n",
    "#     return plt.title('Confusion matrix data test ' + Nama + '\\n'), sns.heatmap(df, annot=True)\n",
    "    print ('Confusion matrix data test ' + Nama + '\\n')\n",
    "    return df"
   ]
  },
  {
   "cell_type": "code",
   "execution_count": 36,
   "metadata": {},
   "outputs": [],
   "source": [
    "def prec_rec (Model, X_test, y_test, Nama):\n",
    "    data = {}\n",
    "    prec = []\n",
    "    rec = []\n",
    "    # for i in Model :\n",
    "    y_pred_ts = Model.predict(X_test)\n",
    "    precision = precision_score(y_test, y_pred_ts)\n",
    "    recall = recall_score(y_test, y_pred_ts)\n",
    "    prec.append(precision)\n",
    "    rec.append(recall)\n",
    "    data[Nama] = [prec[0], rec[0]]\n",
    "    \n",
    "    df = pd.DataFrame(data, index=['Precison', 'Recall'])\n",
    "    return df"
   ]
  },
  {
   "cell_type": "markdown",
   "metadata": {},
   "source": [
    "## Over Sampling\n",
    "\n",
    "Melakukan teknik Oversampling untuk mengatasa data imbalance sebelum modelling"
   ]
  },
  {
   "cell_type": "code",
   "execution_count": 37,
   "metadata": {},
   "outputs": [
    {
     "output_type": "execute_result",
     "data": {
      "text/plain": [
       "                job   marital            education  default housing loan  \\\n",
       "25611   blue-collar   married             basic 9y  unknown      no   no   \n",
       "26010  entrepreneur   married    university degree       no      no   no   \n",
       "40194       retired   married             basic 4y       no      no   no   \n",
       "297          admin.   married    university degree       no     yes   no   \n",
       "36344       retired  divorced    university degree       no      no   no   \n",
       "...             ...       ...                  ...      ...     ...  ...   \n",
       "40205      services    single          high school       no     yes   no   \n",
       "27316    technician   married  professional course       no     yes   no   \n",
       "14392        admin.   married             basic 9y       no      no  yes   \n",
       "7494         admin.   married    university degree       no      no   no   \n",
       "10747        admin.   married    university degree       no      no  yes   \n",
       "\n",
       "         contact month day_of_week  campaign  pdays  previous     poutcome  \\\n",
       "25611   cellular   nov         wed         4    999         0  nonexistent   \n",
       "26010  telephone   nov         wed         2    999         1      failure   \n",
       "40194   cellular   jul         mon         1    999         0  nonexistent   \n",
       "297    telephone   may         mon         2    999         0  nonexistent   \n",
       "36344   cellular   jun         tue         2    999         0  nonexistent   \n",
       "...          ...   ...         ...       ...    ...       ...          ...   \n",
       "40205   cellular   jul         tue         1    999         0  nonexistent   \n",
       "27316   cellular   nov         fri         1    999         1      failure   \n",
       "14392   cellular   jul         mon         4    999         0  nonexistent   \n",
       "7494   telephone   may         fri         1    999         0  nonexistent   \n",
       "10747  telephone   jun         tue         3    999         0  nonexistent   \n",
       "\n",
       "       emp.var.rate  cons.price.idx  cons.conf.idx  euribor3m  nr.employed  \\\n",
       "25611          -0.1          93.200          -42.0      4.120       5195.8   \n",
       "26010          -0.1          93.200          -42.0      4.120       5195.8   \n",
       "40194          -1.7          94.215          -40.3      0.870       4991.6   \n",
       "297             1.1          93.994          -36.4      4.857       5191.0   \n",
       "36344          -2.9          92.963          -40.8      1.262       5076.2   \n",
       "...             ...             ...            ...        ...          ...   \n",
       "40205          -1.7          94.215          -40.3      0.876       4991.6   \n",
       "27316          -0.1          93.200          -42.0      4.021       5195.8   \n",
       "14392           1.4          93.918          -42.7      4.962       5228.1   \n",
       "7494            1.1          93.994          -36.4      4.864       5191.0   \n",
       "10747           1.4          94.465          -41.8      4.961       5228.1   \n",
       "\n",
       "      age_bin duration_bin  \n",
       "25611   Elder      180-360  \n",
       "26010   Adult      180-360  \n",
       "40194   Elder         >900  \n",
       "297     Adult        0-180  \n",
       "36344   Elder      360-540  \n",
       "...       ...          ...  \n",
       "40205   Adult      180-360  \n",
       "27316   Elder        0-180  \n",
       "14392   Elder        0-180  \n",
       "7494    Adult        0-180  \n",
       "10747   Adult      540-720  \n",
       "\n",
       "[32950 rows x 20 columns]"
      ],
      "text/html": "<div>\n<style scoped>\n    .dataframe tbody tr th:only-of-type {\n        vertical-align: middle;\n    }\n\n    .dataframe tbody tr th {\n        vertical-align: top;\n    }\n\n    .dataframe thead th {\n        text-align: right;\n    }\n</style>\n<table border=\"1\" class=\"dataframe\">\n  <thead>\n    <tr style=\"text-align: right;\">\n      <th></th>\n      <th>job</th>\n      <th>marital</th>\n      <th>education</th>\n      <th>default</th>\n      <th>housing</th>\n      <th>loan</th>\n      <th>contact</th>\n      <th>month</th>\n      <th>day_of_week</th>\n      <th>campaign</th>\n      <th>pdays</th>\n      <th>previous</th>\n      <th>poutcome</th>\n      <th>emp.var.rate</th>\n      <th>cons.price.idx</th>\n      <th>cons.conf.idx</th>\n      <th>euribor3m</th>\n      <th>nr.employed</th>\n      <th>age_bin</th>\n      <th>duration_bin</th>\n    </tr>\n  </thead>\n  <tbody>\n    <tr>\n      <th>25611</th>\n      <td>blue-collar</td>\n      <td>married</td>\n      <td>basic 9y</td>\n      <td>unknown</td>\n      <td>no</td>\n      <td>no</td>\n      <td>cellular</td>\n      <td>nov</td>\n      <td>wed</td>\n      <td>4</td>\n      <td>999</td>\n      <td>0</td>\n      <td>nonexistent</td>\n      <td>-0.1</td>\n      <td>93.200</td>\n      <td>-42.0</td>\n      <td>4.120</td>\n      <td>5195.8</td>\n      <td>Elder</td>\n      <td>180-360</td>\n    </tr>\n    <tr>\n      <th>26010</th>\n      <td>entrepreneur</td>\n      <td>married</td>\n      <td>university degree</td>\n      <td>no</td>\n      <td>no</td>\n      <td>no</td>\n      <td>telephone</td>\n      <td>nov</td>\n      <td>wed</td>\n      <td>2</td>\n      <td>999</td>\n      <td>1</td>\n      <td>failure</td>\n      <td>-0.1</td>\n      <td>93.200</td>\n      <td>-42.0</td>\n      <td>4.120</td>\n      <td>5195.8</td>\n      <td>Adult</td>\n      <td>180-360</td>\n    </tr>\n    <tr>\n      <th>40194</th>\n      <td>retired</td>\n      <td>married</td>\n      <td>basic 4y</td>\n      <td>no</td>\n      <td>no</td>\n      <td>no</td>\n      <td>cellular</td>\n      <td>jul</td>\n      <td>mon</td>\n      <td>1</td>\n      <td>999</td>\n      <td>0</td>\n      <td>nonexistent</td>\n      <td>-1.7</td>\n      <td>94.215</td>\n      <td>-40.3</td>\n      <td>0.870</td>\n      <td>4991.6</td>\n      <td>Elder</td>\n      <td>&gt;900</td>\n    </tr>\n    <tr>\n      <th>297</th>\n      <td>admin.</td>\n      <td>married</td>\n      <td>university degree</td>\n      <td>no</td>\n      <td>yes</td>\n      <td>no</td>\n      <td>telephone</td>\n      <td>may</td>\n      <td>mon</td>\n      <td>2</td>\n      <td>999</td>\n      <td>0</td>\n      <td>nonexistent</td>\n      <td>1.1</td>\n      <td>93.994</td>\n      <td>-36.4</td>\n      <td>4.857</td>\n      <td>5191.0</td>\n      <td>Adult</td>\n      <td>0-180</td>\n    </tr>\n    <tr>\n      <th>36344</th>\n      <td>retired</td>\n      <td>divorced</td>\n      <td>university degree</td>\n      <td>no</td>\n      <td>no</td>\n      <td>no</td>\n      <td>cellular</td>\n      <td>jun</td>\n      <td>tue</td>\n      <td>2</td>\n      <td>999</td>\n      <td>0</td>\n      <td>nonexistent</td>\n      <td>-2.9</td>\n      <td>92.963</td>\n      <td>-40.8</td>\n      <td>1.262</td>\n      <td>5076.2</td>\n      <td>Elder</td>\n      <td>360-540</td>\n    </tr>\n    <tr>\n      <th>...</th>\n      <td>...</td>\n      <td>...</td>\n      <td>...</td>\n      <td>...</td>\n      <td>...</td>\n      <td>...</td>\n      <td>...</td>\n      <td>...</td>\n      <td>...</td>\n      <td>...</td>\n      <td>...</td>\n      <td>...</td>\n      <td>...</td>\n      <td>...</td>\n      <td>...</td>\n      <td>...</td>\n      <td>...</td>\n      <td>...</td>\n      <td>...</td>\n      <td>...</td>\n    </tr>\n    <tr>\n      <th>40205</th>\n      <td>services</td>\n      <td>single</td>\n      <td>high school</td>\n      <td>no</td>\n      <td>yes</td>\n      <td>no</td>\n      <td>cellular</td>\n      <td>jul</td>\n      <td>tue</td>\n      <td>1</td>\n      <td>999</td>\n      <td>0</td>\n      <td>nonexistent</td>\n      <td>-1.7</td>\n      <td>94.215</td>\n      <td>-40.3</td>\n      <td>0.876</td>\n      <td>4991.6</td>\n      <td>Adult</td>\n      <td>180-360</td>\n    </tr>\n    <tr>\n      <th>27316</th>\n      <td>technician</td>\n      <td>married</td>\n      <td>professional course</td>\n      <td>no</td>\n      <td>yes</td>\n      <td>no</td>\n      <td>cellular</td>\n      <td>nov</td>\n      <td>fri</td>\n      <td>1</td>\n      <td>999</td>\n      <td>1</td>\n      <td>failure</td>\n      <td>-0.1</td>\n      <td>93.200</td>\n      <td>-42.0</td>\n      <td>4.021</td>\n      <td>5195.8</td>\n      <td>Elder</td>\n      <td>0-180</td>\n    </tr>\n    <tr>\n      <th>14392</th>\n      <td>admin.</td>\n      <td>married</td>\n      <td>basic 9y</td>\n      <td>no</td>\n      <td>no</td>\n      <td>yes</td>\n      <td>cellular</td>\n      <td>jul</td>\n      <td>mon</td>\n      <td>4</td>\n      <td>999</td>\n      <td>0</td>\n      <td>nonexistent</td>\n      <td>1.4</td>\n      <td>93.918</td>\n      <td>-42.7</td>\n      <td>4.962</td>\n      <td>5228.1</td>\n      <td>Elder</td>\n      <td>0-180</td>\n    </tr>\n    <tr>\n      <th>7494</th>\n      <td>admin.</td>\n      <td>married</td>\n      <td>university degree</td>\n      <td>no</td>\n      <td>no</td>\n      <td>no</td>\n      <td>telephone</td>\n      <td>may</td>\n      <td>fri</td>\n      <td>1</td>\n      <td>999</td>\n      <td>0</td>\n      <td>nonexistent</td>\n      <td>1.1</td>\n      <td>93.994</td>\n      <td>-36.4</td>\n      <td>4.864</td>\n      <td>5191.0</td>\n      <td>Adult</td>\n      <td>0-180</td>\n    </tr>\n    <tr>\n      <th>10747</th>\n      <td>admin.</td>\n      <td>married</td>\n      <td>university degree</td>\n      <td>no</td>\n      <td>no</td>\n      <td>yes</td>\n      <td>telephone</td>\n      <td>jun</td>\n      <td>tue</td>\n      <td>3</td>\n      <td>999</td>\n      <td>0</td>\n      <td>nonexistent</td>\n      <td>1.4</td>\n      <td>94.465</td>\n      <td>-41.8</td>\n      <td>4.961</td>\n      <td>5228.1</td>\n      <td>Adult</td>\n      <td>540-720</td>\n    </tr>\n  </tbody>\n</table>\n<p>32950 rows × 20 columns</p>\n</div>"
     },
     "metadata": {},
     "execution_count": 37
    }
   ],
   "source": [
    "X_train"
   ]
  },
  {
   "cell_type": "code",
   "execution_count": 38,
   "metadata": {},
   "outputs": [
    {
     "output_type": "execute_result",
     "data": {
      "text/plain": [
       "25611    0\n",
       "26010    0\n",
       "40194    1\n",
       "297      0\n",
       "36344    0\n",
       "        ..\n",
       "40205    0\n",
       "27316    0\n",
       "14392    0\n",
       "7494     0\n",
       "10747    0\n",
       "Name: y, Length: 32950, dtype: int64"
      ]
     },
     "metadata": {},
     "execution_count": 38
    }
   ],
   "source": [
    "y_train"
   ]
  },
  {
   "cell_type": "code",
   "execution_count": 39,
   "metadata": {},
   "outputs": [],
   "source": [
    "df_train = pd.concat([X_train,y_train], axis=1)"
   ]
  },
  {
   "cell_type": "code",
   "execution_count": 40,
   "metadata": {},
   "outputs": [
    {
     "output_type": "execute_result",
     "data": {
      "text/plain": [
       "                job   marital          education  default housing loan  \\\n",
       "25611   blue-collar   married           basic 9y  unknown      no   no   \n",
       "26010  entrepreneur   married  university degree       no      no   no   \n",
       "40194       retired   married           basic 4y       no      no   no   \n",
       "297          admin.   married  university degree       no     yes   no   \n",
       "36344       retired  divorced  university degree       no      no   no   \n",
       "\n",
       "         contact month day_of_week  campaign  pdays  previous     poutcome  \\\n",
       "25611   cellular   nov         wed         4    999         0  nonexistent   \n",
       "26010  telephone   nov         wed         2    999         1      failure   \n",
       "40194   cellular   jul         mon         1    999         0  nonexistent   \n",
       "297    telephone   may         mon         2    999         0  nonexistent   \n",
       "36344   cellular   jun         tue         2    999         0  nonexistent   \n",
       "\n",
       "       emp.var.rate  cons.price.idx  cons.conf.idx  euribor3m  nr.employed  \\\n",
       "25611          -0.1          93.200          -42.0      4.120       5195.8   \n",
       "26010          -0.1          93.200          -42.0      4.120       5195.8   \n",
       "40194          -1.7          94.215          -40.3      0.870       4991.6   \n",
       "297             1.1          93.994          -36.4      4.857       5191.0   \n",
       "36344          -2.9          92.963          -40.8      1.262       5076.2   \n",
       "\n",
       "      age_bin duration_bin  y  \n",
       "25611   Elder      180-360  0  \n",
       "26010   Adult      180-360  0  \n",
       "40194   Elder         >900  1  \n",
       "297     Adult        0-180  0  \n",
       "36344   Elder      360-540  0  "
      ],
      "text/html": "<div>\n<style scoped>\n    .dataframe tbody tr th:only-of-type {\n        vertical-align: middle;\n    }\n\n    .dataframe tbody tr th {\n        vertical-align: top;\n    }\n\n    .dataframe thead th {\n        text-align: right;\n    }\n</style>\n<table border=\"1\" class=\"dataframe\">\n  <thead>\n    <tr style=\"text-align: right;\">\n      <th></th>\n      <th>job</th>\n      <th>marital</th>\n      <th>education</th>\n      <th>default</th>\n      <th>housing</th>\n      <th>loan</th>\n      <th>contact</th>\n      <th>month</th>\n      <th>day_of_week</th>\n      <th>campaign</th>\n      <th>pdays</th>\n      <th>previous</th>\n      <th>poutcome</th>\n      <th>emp.var.rate</th>\n      <th>cons.price.idx</th>\n      <th>cons.conf.idx</th>\n      <th>euribor3m</th>\n      <th>nr.employed</th>\n      <th>age_bin</th>\n      <th>duration_bin</th>\n      <th>y</th>\n    </tr>\n  </thead>\n  <tbody>\n    <tr>\n      <th>25611</th>\n      <td>blue-collar</td>\n      <td>married</td>\n      <td>basic 9y</td>\n      <td>unknown</td>\n      <td>no</td>\n      <td>no</td>\n      <td>cellular</td>\n      <td>nov</td>\n      <td>wed</td>\n      <td>4</td>\n      <td>999</td>\n      <td>0</td>\n      <td>nonexistent</td>\n      <td>-0.1</td>\n      <td>93.200</td>\n      <td>-42.0</td>\n      <td>4.120</td>\n      <td>5195.8</td>\n      <td>Elder</td>\n      <td>180-360</td>\n      <td>0</td>\n    </tr>\n    <tr>\n      <th>26010</th>\n      <td>entrepreneur</td>\n      <td>married</td>\n      <td>university degree</td>\n      <td>no</td>\n      <td>no</td>\n      <td>no</td>\n      <td>telephone</td>\n      <td>nov</td>\n      <td>wed</td>\n      <td>2</td>\n      <td>999</td>\n      <td>1</td>\n      <td>failure</td>\n      <td>-0.1</td>\n      <td>93.200</td>\n      <td>-42.0</td>\n      <td>4.120</td>\n      <td>5195.8</td>\n      <td>Adult</td>\n      <td>180-360</td>\n      <td>0</td>\n    </tr>\n    <tr>\n      <th>40194</th>\n      <td>retired</td>\n      <td>married</td>\n      <td>basic 4y</td>\n      <td>no</td>\n      <td>no</td>\n      <td>no</td>\n      <td>cellular</td>\n      <td>jul</td>\n      <td>mon</td>\n      <td>1</td>\n      <td>999</td>\n      <td>0</td>\n      <td>nonexistent</td>\n      <td>-1.7</td>\n      <td>94.215</td>\n      <td>-40.3</td>\n      <td>0.870</td>\n      <td>4991.6</td>\n      <td>Elder</td>\n      <td>&gt;900</td>\n      <td>1</td>\n    </tr>\n    <tr>\n      <th>297</th>\n      <td>admin.</td>\n      <td>married</td>\n      <td>university degree</td>\n      <td>no</td>\n      <td>yes</td>\n      <td>no</td>\n      <td>telephone</td>\n      <td>may</td>\n      <td>mon</td>\n      <td>2</td>\n      <td>999</td>\n      <td>0</td>\n      <td>nonexistent</td>\n      <td>1.1</td>\n      <td>93.994</td>\n      <td>-36.4</td>\n      <td>4.857</td>\n      <td>5191.0</td>\n      <td>Adult</td>\n      <td>0-180</td>\n      <td>0</td>\n    </tr>\n    <tr>\n      <th>36344</th>\n      <td>retired</td>\n      <td>divorced</td>\n      <td>university degree</td>\n      <td>no</td>\n      <td>no</td>\n      <td>no</td>\n      <td>cellular</td>\n      <td>jun</td>\n      <td>tue</td>\n      <td>2</td>\n      <td>999</td>\n      <td>0</td>\n      <td>nonexistent</td>\n      <td>-2.9</td>\n      <td>92.963</td>\n      <td>-40.8</td>\n      <td>1.262</td>\n      <td>5076.2</td>\n      <td>Elder</td>\n      <td>360-540</td>\n      <td>0</td>\n    </tr>\n  </tbody>\n</table>\n</div>"
     },
     "metadata": {},
     "execution_count": 40
    }
   ],
   "source": [
    "df_train.head()"
   ]
  },
  {
   "cell_type": "code",
   "execution_count": 41,
   "metadata": {},
   "outputs": [
    {
     "output_type": "execute_result",
     "data": {
      "text/plain": [
       "0    29238\n",
       "1     3712\n",
       "Name: y, dtype: int64"
      ]
     },
     "metadata": {},
     "execution_count": 41
    }
   ],
   "source": [
    "df_train['y'].value_counts()"
   ]
  },
  {
   "cell_type": "code",
   "execution_count": 42,
   "metadata": {},
   "outputs": [],
   "source": [
    "non_default = df_train[df_train['y'] == 0] # kelas majority"
   ]
  },
  {
   "cell_type": "code",
   "execution_count": 43,
   "metadata": {},
   "outputs": [],
   "source": [
    "default = df_train[df_train['y'] == 1] # kelas minority"
   ]
  },
  {
   "cell_type": "code",
   "execution_count": 44,
   "metadata": {},
   "outputs": [
    {
     "output_type": "execute_result",
     "data": {
      "text/plain": [
       "               job   marital            education  default housing loan  \\\n",
       "40194      retired   married             basic 4y       no      no   no   \n",
       "37395      student    single             basic 9y       no      no   no   \n",
       "31118  blue-collar   married             basic 9y       no     yes   no   \n",
       "39226       admin.    single    university degree       no      no  yes   \n",
       "39224   unemployed  divorced    university degree       no      no   no   \n",
       "...            ...       ...                  ...      ...     ...  ...   \n",
       "37603      retired   married  professional course       no     yes  yes   \n",
       "36595      student    single          high school       no      no   no   \n",
       "8135    technician    single  professional course  unknown      no   no   \n",
       "35126   technician    single    university degree       no     yes  yes   \n",
       "30274  blue-collar    single             basic 9y       no     yes   no   \n",
       "\n",
       "         contact month day_of_week  campaign  pdays  previous     poutcome  \\\n",
       "40194   cellular   jul         mon         1    999         0  nonexistent   \n",
       "37395  telephone   aug         wed         1    999         0  nonexistent   \n",
       "31118   cellular   may         wed         1    999         0  nonexistent   \n",
       "39226   cellular   mar         tue         2      3         1      success   \n",
       "39224   cellular   mar         tue         3      6         3      success   \n",
       "...          ...   ...         ...       ...    ...       ...          ...   \n",
       "37603   cellular   aug         mon         1    999         0  nonexistent   \n",
       "36595   cellular   jun         thu         1    999         0  nonexistent   \n",
       "8135   telephone   jun         mon         4    999         0  nonexistent   \n",
       "35126   cellular   may         fri         3    999         0  nonexistent   \n",
       "30274   cellular   apr         thu         1      2         1      success   \n",
       "\n",
       "       emp.var.rate  cons.price.idx  cons.conf.idx  euribor3m  nr.employed  \\\n",
       "40194          -1.7          94.215          -40.3      0.870       4991.6   \n",
       "37395          -2.9          92.201          -31.4      0.879       5076.2   \n",
       "31118          -1.8          92.893          -46.2      1.334       5099.1   \n",
       "39226          -1.8          93.369          -34.8      0.652       5008.7   \n",
       "39224          -1.8          93.369          -34.8      0.652       5008.7   \n",
       "...             ...             ...            ...        ...          ...   \n",
       "37603          -2.9          92.201          -31.4      0.861       5076.2   \n",
       "36595          -2.9          92.963          -40.8      1.260       5076.2   \n",
       "8135            1.4          94.465          -41.8      4.865       5228.1   \n",
       "35126          -1.8          92.893          -46.2      1.250       5099.1   \n",
       "30274          -1.8          93.075          -47.1      1.365       5099.1   \n",
       "\n",
       "      age_bin duration_bin  y  \n",
       "40194   Elder         >900  1  \n",
       "37395   Adult      360-540  1  \n",
       "31118   Adult         >900  1  \n",
       "39226   Adult      180-360  1  \n",
       "39224   Elder      180-360  1  \n",
       "...       ...          ... ..  \n",
       "37603   Elder      180-360  1  \n",
       "36595   Adult      360-540  1  \n",
       "8135    Adult      360-540  1  \n",
       "35126   Adult      360-540  1  \n",
       "30274   Adult      180-360  1  \n",
       "\n",
       "[3712 rows x 21 columns]"
      ],
      "text/html": "<div>\n<style scoped>\n    .dataframe tbody tr th:only-of-type {\n        vertical-align: middle;\n    }\n\n    .dataframe tbody tr th {\n        vertical-align: top;\n    }\n\n    .dataframe thead th {\n        text-align: right;\n    }\n</style>\n<table border=\"1\" class=\"dataframe\">\n  <thead>\n    <tr style=\"text-align: right;\">\n      <th></th>\n      <th>job</th>\n      <th>marital</th>\n      <th>education</th>\n      <th>default</th>\n      <th>housing</th>\n      <th>loan</th>\n      <th>contact</th>\n      <th>month</th>\n      <th>day_of_week</th>\n      <th>campaign</th>\n      <th>pdays</th>\n      <th>previous</th>\n      <th>poutcome</th>\n      <th>emp.var.rate</th>\n      <th>cons.price.idx</th>\n      <th>cons.conf.idx</th>\n      <th>euribor3m</th>\n      <th>nr.employed</th>\n      <th>age_bin</th>\n      <th>duration_bin</th>\n      <th>y</th>\n    </tr>\n  </thead>\n  <tbody>\n    <tr>\n      <th>40194</th>\n      <td>retired</td>\n      <td>married</td>\n      <td>basic 4y</td>\n      <td>no</td>\n      <td>no</td>\n      <td>no</td>\n      <td>cellular</td>\n      <td>jul</td>\n      <td>mon</td>\n      <td>1</td>\n      <td>999</td>\n      <td>0</td>\n      <td>nonexistent</td>\n      <td>-1.7</td>\n      <td>94.215</td>\n      <td>-40.3</td>\n      <td>0.870</td>\n      <td>4991.6</td>\n      <td>Elder</td>\n      <td>&gt;900</td>\n      <td>1</td>\n    </tr>\n    <tr>\n      <th>37395</th>\n      <td>student</td>\n      <td>single</td>\n      <td>basic 9y</td>\n      <td>no</td>\n      <td>no</td>\n      <td>no</td>\n      <td>telephone</td>\n      <td>aug</td>\n      <td>wed</td>\n      <td>1</td>\n      <td>999</td>\n      <td>0</td>\n      <td>nonexistent</td>\n      <td>-2.9</td>\n      <td>92.201</td>\n      <td>-31.4</td>\n      <td>0.879</td>\n      <td>5076.2</td>\n      <td>Adult</td>\n      <td>360-540</td>\n      <td>1</td>\n    </tr>\n    <tr>\n      <th>31118</th>\n      <td>blue-collar</td>\n      <td>married</td>\n      <td>basic 9y</td>\n      <td>no</td>\n      <td>yes</td>\n      <td>no</td>\n      <td>cellular</td>\n      <td>may</td>\n      <td>wed</td>\n      <td>1</td>\n      <td>999</td>\n      <td>0</td>\n      <td>nonexistent</td>\n      <td>-1.8</td>\n      <td>92.893</td>\n      <td>-46.2</td>\n      <td>1.334</td>\n      <td>5099.1</td>\n      <td>Adult</td>\n      <td>&gt;900</td>\n      <td>1</td>\n    </tr>\n    <tr>\n      <th>39226</th>\n      <td>admin.</td>\n      <td>single</td>\n      <td>university degree</td>\n      <td>no</td>\n      <td>no</td>\n      <td>yes</td>\n      <td>cellular</td>\n      <td>mar</td>\n      <td>tue</td>\n      <td>2</td>\n      <td>3</td>\n      <td>1</td>\n      <td>success</td>\n      <td>-1.8</td>\n      <td>93.369</td>\n      <td>-34.8</td>\n      <td>0.652</td>\n      <td>5008.7</td>\n      <td>Adult</td>\n      <td>180-360</td>\n      <td>1</td>\n    </tr>\n    <tr>\n      <th>39224</th>\n      <td>unemployed</td>\n      <td>divorced</td>\n      <td>university degree</td>\n      <td>no</td>\n      <td>no</td>\n      <td>no</td>\n      <td>cellular</td>\n      <td>mar</td>\n      <td>tue</td>\n      <td>3</td>\n      <td>6</td>\n      <td>3</td>\n      <td>success</td>\n      <td>-1.8</td>\n      <td>93.369</td>\n      <td>-34.8</td>\n      <td>0.652</td>\n      <td>5008.7</td>\n      <td>Elder</td>\n      <td>180-360</td>\n      <td>1</td>\n    </tr>\n    <tr>\n      <th>...</th>\n      <td>...</td>\n      <td>...</td>\n      <td>...</td>\n      <td>...</td>\n      <td>...</td>\n      <td>...</td>\n      <td>...</td>\n      <td>...</td>\n      <td>...</td>\n      <td>...</td>\n      <td>...</td>\n      <td>...</td>\n      <td>...</td>\n      <td>...</td>\n      <td>...</td>\n      <td>...</td>\n      <td>...</td>\n      <td>...</td>\n      <td>...</td>\n      <td>...</td>\n      <td>...</td>\n    </tr>\n    <tr>\n      <th>37603</th>\n      <td>retired</td>\n      <td>married</td>\n      <td>professional course</td>\n      <td>no</td>\n      <td>yes</td>\n      <td>yes</td>\n      <td>cellular</td>\n      <td>aug</td>\n      <td>mon</td>\n      <td>1</td>\n      <td>999</td>\n      <td>0</td>\n      <td>nonexistent</td>\n      <td>-2.9</td>\n      <td>92.201</td>\n      <td>-31.4</td>\n      <td>0.861</td>\n      <td>5076.2</td>\n      <td>Elder</td>\n      <td>180-360</td>\n      <td>1</td>\n    </tr>\n    <tr>\n      <th>36595</th>\n      <td>student</td>\n      <td>single</td>\n      <td>high school</td>\n      <td>no</td>\n      <td>no</td>\n      <td>no</td>\n      <td>cellular</td>\n      <td>jun</td>\n      <td>thu</td>\n      <td>1</td>\n      <td>999</td>\n      <td>0</td>\n      <td>nonexistent</td>\n      <td>-2.9</td>\n      <td>92.963</td>\n      <td>-40.8</td>\n      <td>1.260</td>\n      <td>5076.2</td>\n      <td>Adult</td>\n      <td>360-540</td>\n      <td>1</td>\n    </tr>\n    <tr>\n      <th>8135</th>\n      <td>technician</td>\n      <td>single</td>\n      <td>professional course</td>\n      <td>unknown</td>\n      <td>no</td>\n      <td>no</td>\n      <td>telephone</td>\n      <td>jun</td>\n      <td>mon</td>\n      <td>4</td>\n      <td>999</td>\n      <td>0</td>\n      <td>nonexistent</td>\n      <td>1.4</td>\n      <td>94.465</td>\n      <td>-41.8</td>\n      <td>4.865</td>\n      <td>5228.1</td>\n      <td>Adult</td>\n      <td>360-540</td>\n      <td>1</td>\n    </tr>\n    <tr>\n      <th>35126</th>\n      <td>technician</td>\n      <td>single</td>\n      <td>university degree</td>\n      <td>no</td>\n      <td>yes</td>\n      <td>yes</td>\n      <td>cellular</td>\n      <td>may</td>\n      <td>fri</td>\n      <td>3</td>\n      <td>999</td>\n      <td>0</td>\n      <td>nonexistent</td>\n      <td>-1.8</td>\n      <td>92.893</td>\n      <td>-46.2</td>\n      <td>1.250</td>\n      <td>5099.1</td>\n      <td>Adult</td>\n      <td>360-540</td>\n      <td>1</td>\n    </tr>\n    <tr>\n      <th>30274</th>\n      <td>blue-collar</td>\n      <td>single</td>\n      <td>basic 9y</td>\n      <td>no</td>\n      <td>yes</td>\n      <td>no</td>\n      <td>cellular</td>\n      <td>apr</td>\n      <td>thu</td>\n      <td>1</td>\n      <td>2</td>\n      <td>1</td>\n      <td>success</td>\n      <td>-1.8</td>\n      <td>93.075</td>\n      <td>-47.1</td>\n      <td>1.365</td>\n      <td>5099.1</td>\n      <td>Adult</td>\n      <td>180-360</td>\n      <td>1</td>\n    </tr>\n  </tbody>\n</table>\n<p>3712 rows × 21 columns</p>\n</div>"
     },
     "metadata": {},
     "execution_count": 44
    }
   ],
   "source": [
    "default"
   ]
  },
  {
   "cell_type": "code",
   "execution_count": 45,
   "metadata": {},
   "outputs": [],
   "source": [
    "default_oversample = resample(default, \n",
    "                           replace = True, \n",
    "                           n_samples = len(non_default),\n",
    "                           random_state=42)"
   ]
  },
  {
   "cell_type": "code",
   "execution_count": 46,
   "metadata": {},
   "outputs": [],
   "source": [
    "df_OverSample= pd.concat([non_default, default_oversample])"
   ]
  },
  {
   "cell_type": "code",
   "execution_count": 47,
   "metadata": {},
   "outputs": [
    {
     "output_type": "execute_result",
     "data": {
      "text/plain": [
       "0    29238\n",
       "1    29238\n",
       "Name: y, dtype: int64"
      ]
     },
     "metadata": {},
     "execution_count": 47
    }
   ],
   "source": [
    "df_OverSample['y'].value_counts()"
   ]
  },
  {
   "cell_type": "code",
   "execution_count": 48,
   "metadata": {},
   "outputs": [
    {
     "output_type": "execute_result",
     "data": {
      "text/plain": [
       "                job   marital          education  default housing loan  \\\n",
       "25611   blue-collar   married           basic 9y  unknown      no   no   \n",
       "26010  entrepreneur   married  university degree       no      no   no   \n",
       "297          admin.   married  university degree       no     yes   no   \n",
       "36344       retired  divorced  university degree       no      no   no   \n",
       "21806        admin.    single  university degree       no      no   no   \n",
       "...             ...       ...                ...      ...     ...  ...   \n",
       "12425  entrepreneur   married           basic 6y       no     yes  yes   \n",
       "38689        admin.    single        high school       no     yes   no   \n",
       "34610   blue-collar    single           basic 9y       no     yes  yes   \n",
       "37465        admin.    single  university degree       no     yes  yes   \n",
       "40929       student    single            unknown       no     yes  yes   \n",
       "\n",
       "         contact month day_of_week  campaign  pdays  previous     poutcome  \\\n",
       "25611   cellular   nov         wed         4    999         0  nonexistent   \n",
       "26010  telephone   nov         wed         2    999         1      failure   \n",
       "297    telephone   may         mon         2    999         0  nonexistent   \n",
       "36344   cellular   jun         tue         2    999         0  nonexistent   \n",
       "21806   cellular   aug         wed         2    999         0  nonexistent   \n",
       "...          ...   ...         ...       ...    ...       ...          ...   \n",
       "12425   cellular   jul         mon         1    999         0  nonexistent   \n",
       "38689   cellular   nov         mon         1      3         1      success   \n",
       "34610   cellular   may         thu         4    999         0  nonexistent   \n",
       "37465   cellular   aug         thu         3      3         1      success   \n",
       "40929   cellular   oct         tue         1      3         4      success   \n",
       "\n",
       "       emp.var.rate  cons.price.idx  cons.conf.idx  euribor3m  nr.employed  \\\n",
       "25611          -0.1          93.200          -42.0      4.120       5195.8   \n",
       "26010          -0.1          93.200          -42.0      4.120       5195.8   \n",
       "297             1.1          93.994          -36.4      4.857       5191.0   \n",
       "36344          -2.9          92.963          -40.8      1.262       5076.2   \n",
       "21806           1.4          93.444          -36.1      4.964       5228.1   \n",
       "...             ...             ...            ...        ...          ...   \n",
       "12425           1.4          93.918          -42.7      4.960       5228.1   \n",
       "38689          -3.4          92.649          -30.1      0.715       5017.5   \n",
       "34610          -1.8          92.893          -46.2      1.266       5099.1   \n",
       "37465          -2.9          92.201          -31.4      0.873       5076.2   \n",
       "40929          -1.1          94.601          -49.5      0.982       4963.6   \n",
       "\n",
       "        age_bin duration_bin  y  \n",
       "25611     Elder      180-360  0  \n",
       "26010     Adult      180-360  0  \n",
       "297       Adult        0-180  0  \n",
       "36344     Elder      360-540  0  \n",
       "21806     Adult      180-360  0  \n",
       "...         ...          ... ..  \n",
       "12425     Adult      720-900  1  \n",
       "38689     Adult      180-360  1  \n",
       "34610     Adult      180-360  1  \n",
       "37465     Adult      180-360  1  \n",
       "40929  Teenager      180-360  1  \n",
       "\n",
       "[58476 rows x 21 columns]"
      ],
      "text/html": "<div>\n<style scoped>\n    .dataframe tbody tr th:only-of-type {\n        vertical-align: middle;\n    }\n\n    .dataframe tbody tr th {\n        vertical-align: top;\n    }\n\n    .dataframe thead th {\n        text-align: right;\n    }\n</style>\n<table border=\"1\" class=\"dataframe\">\n  <thead>\n    <tr style=\"text-align: right;\">\n      <th></th>\n      <th>job</th>\n      <th>marital</th>\n      <th>education</th>\n      <th>default</th>\n      <th>housing</th>\n      <th>loan</th>\n      <th>contact</th>\n      <th>month</th>\n      <th>day_of_week</th>\n      <th>campaign</th>\n      <th>pdays</th>\n      <th>previous</th>\n      <th>poutcome</th>\n      <th>emp.var.rate</th>\n      <th>cons.price.idx</th>\n      <th>cons.conf.idx</th>\n      <th>euribor3m</th>\n      <th>nr.employed</th>\n      <th>age_bin</th>\n      <th>duration_bin</th>\n      <th>y</th>\n    </tr>\n  </thead>\n  <tbody>\n    <tr>\n      <th>25611</th>\n      <td>blue-collar</td>\n      <td>married</td>\n      <td>basic 9y</td>\n      <td>unknown</td>\n      <td>no</td>\n      <td>no</td>\n      <td>cellular</td>\n      <td>nov</td>\n      <td>wed</td>\n      <td>4</td>\n      <td>999</td>\n      <td>0</td>\n      <td>nonexistent</td>\n      <td>-0.1</td>\n      <td>93.200</td>\n      <td>-42.0</td>\n      <td>4.120</td>\n      <td>5195.8</td>\n      <td>Elder</td>\n      <td>180-360</td>\n      <td>0</td>\n    </tr>\n    <tr>\n      <th>26010</th>\n      <td>entrepreneur</td>\n      <td>married</td>\n      <td>university degree</td>\n      <td>no</td>\n      <td>no</td>\n      <td>no</td>\n      <td>telephone</td>\n      <td>nov</td>\n      <td>wed</td>\n      <td>2</td>\n      <td>999</td>\n      <td>1</td>\n      <td>failure</td>\n      <td>-0.1</td>\n      <td>93.200</td>\n      <td>-42.0</td>\n      <td>4.120</td>\n      <td>5195.8</td>\n      <td>Adult</td>\n      <td>180-360</td>\n      <td>0</td>\n    </tr>\n    <tr>\n      <th>297</th>\n      <td>admin.</td>\n      <td>married</td>\n      <td>university degree</td>\n      <td>no</td>\n      <td>yes</td>\n      <td>no</td>\n      <td>telephone</td>\n      <td>may</td>\n      <td>mon</td>\n      <td>2</td>\n      <td>999</td>\n      <td>0</td>\n      <td>nonexistent</td>\n      <td>1.1</td>\n      <td>93.994</td>\n      <td>-36.4</td>\n      <td>4.857</td>\n      <td>5191.0</td>\n      <td>Adult</td>\n      <td>0-180</td>\n      <td>0</td>\n    </tr>\n    <tr>\n      <th>36344</th>\n      <td>retired</td>\n      <td>divorced</td>\n      <td>university degree</td>\n      <td>no</td>\n      <td>no</td>\n      <td>no</td>\n      <td>cellular</td>\n      <td>jun</td>\n      <td>tue</td>\n      <td>2</td>\n      <td>999</td>\n      <td>0</td>\n      <td>nonexistent</td>\n      <td>-2.9</td>\n      <td>92.963</td>\n      <td>-40.8</td>\n      <td>1.262</td>\n      <td>5076.2</td>\n      <td>Elder</td>\n      <td>360-540</td>\n      <td>0</td>\n    </tr>\n    <tr>\n      <th>21806</th>\n      <td>admin.</td>\n      <td>single</td>\n      <td>university degree</td>\n      <td>no</td>\n      <td>no</td>\n      <td>no</td>\n      <td>cellular</td>\n      <td>aug</td>\n      <td>wed</td>\n      <td>2</td>\n      <td>999</td>\n      <td>0</td>\n      <td>nonexistent</td>\n      <td>1.4</td>\n      <td>93.444</td>\n      <td>-36.1</td>\n      <td>4.964</td>\n      <td>5228.1</td>\n      <td>Adult</td>\n      <td>180-360</td>\n      <td>0</td>\n    </tr>\n    <tr>\n      <th>...</th>\n      <td>...</td>\n      <td>...</td>\n      <td>...</td>\n      <td>...</td>\n      <td>...</td>\n      <td>...</td>\n      <td>...</td>\n      <td>...</td>\n      <td>...</td>\n      <td>...</td>\n      <td>...</td>\n      <td>...</td>\n      <td>...</td>\n      <td>...</td>\n      <td>...</td>\n      <td>...</td>\n      <td>...</td>\n      <td>...</td>\n      <td>...</td>\n      <td>...</td>\n      <td>...</td>\n    </tr>\n    <tr>\n      <th>12425</th>\n      <td>entrepreneur</td>\n      <td>married</td>\n      <td>basic 6y</td>\n      <td>no</td>\n      <td>yes</td>\n      <td>yes</td>\n      <td>cellular</td>\n      <td>jul</td>\n      <td>mon</td>\n      <td>1</td>\n      <td>999</td>\n      <td>0</td>\n      <td>nonexistent</td>\n      <td>1.4</td>\n      <td>93.918</td>\n      <td>-42.7</td>\n      <td>4.960</td>\n      <td>5228.1</td>\n      <td>Adult</td>\n      <td>720-900</td>\n      <td>1</td>\n    </tr>\n    <tr>\n      <th>38689</th>\n      <td>admin.</td>\n      <td>single</td>\n      <td>high school</td>\n      <td>no</td>\n      <td>yes</td>\n      <td>no</td>\n      <td>cellular</td>\n      <td>nov</td>\n      <td>mon</td>\n      <td>1</td>\n      <td>3</td>\n      <td>1</td>\n      <td>success</td>\n      <td>-3.4</td>\n      <td>92.649</td>\n      <td>-30.1</td>\n      <td>0.715</td>\n      <td>5017.5</td>\n      <td>Adult</td>\n      <td>180-360</td>\n      <td>1</td>\n    </tr>\n    <tr>\n      <th>34610</th>\n      <td>blue-collar</td>\n      <td>single</td>\n      <td>basic 9y</td>\n      <td>no</td>\n      <td>yes</td>\n      <td>yes</td>\n      <td>cellular</td>\n      <td>may</td>\n      <td>thu</td>\n      <td>4</td>\n      <td>999</td>\n      <td>0</td>\n      <td>nonexistent</td>\n      <td>-1.8</td>\n      <td>92.893</td>\n      <td>-46.2</td>\n      <td>1.266</td>\n      <td>5099.1</td>\n      <td>Adult</td>\n      <td>180-360</td>\n      <td>1</td>\n    </tr>\n    <tr>\n      <th>37465</th>\n      <td>admin.</td>\n      <td>single</td>\n      <td>university degree</td>\n      <td>no</td>\n      <td>yes</td>\n      <td>yes</td>\n      <td>cellular</td>\n      <td>aug</td>\n      <td>thu</td>\n      <td>3</td>\n      <td>3</td>\n      <td>1</td>\n      <td>success</td>\n      <td>-2.9</td>\n      <td>92.201</td>\n      <td>-31.4</td>\n      <td>0.873</td>\n      <td>5076.2</td>\n      <td>Adult</td>\n      <td>180-360</td>\n      <td>1</td>\n    </tr>\n    <tr>\n      <th>40929</th>\n      <td>student</td>\n      <td>single</td>\n      <td>unknown</td>\n      <td>no</td>\n      <td>yes</td>\n      <td>yes</td>\n      <td>cellular</td>\n      <td>oct</td>\n      <td>tue</td>\n      <td>1</td>\n      <td>3</td>\n      <td>4</td>\n      <td>success</td>\n      <td>-1.1</td>\n      <td>94.601</td>\n      <td>-49.5</td>\n      <td>0.982</td>\n      <td>4963.6</td>\n      <td>Teenager</td>\n      <td>180-360</td>\n      <td>1</td>\n    </tr>\n  </tbody>\n</table>\n<p>58476 rows × 21 columns</p>\n</div>"
     },
     "metadata": {},
     "execution_count": 48
    }
   ],
   "source": [
    "df_OverSample"
   ]
  },
  {
   "cell_type": "code",
   "execution_count": 49,
   "metadata": {},
   "outputs": [],
   "source": [
    "X_train_OS = df_OverSample.drop(columns='y')\n",
    "y_train_OS = df_OverSample['y']"
   ]
  },
  {
   "cell_type": "markdown",
   "metadata": {},
   "source": [
    "## Modelling"
   ]
  },
  {
   "cell_type": "markdown",
   "metadata": {},
   "source": [
    "1 ==> Nasabah subscribe deposit (yes)\n",
    "\n",
    "0 ==> Nasabah TIDAK subscribe deposit (no)"
   ]
  },
  {
   "cell_type": "markdown",
   "metadata": {},
   "source": [
    "__DT__"
   ]
  },
  {
   "cell_type": "code",
   "execution_count": 50,
   "metadata": {},
   "outputs": [
    {
     "output_type": "execute_result",
     "data": {
      "text/plain": [
       "Index(['job', 'marital', 'education', 'default', 'housing', 'loan', 'contact',\n",
       "       'month', 'day_of_week', 'campaign', 'pdays', 'previous', 'poutcome',\n",
       "       'emp.var.rate', 'cons.price.idx', 'cons.conf.idx', 'euribor3m',\n",
       "       'nr.employed', 'y', 'age_bin', 'duration_bin'],\n",
       "      dtype='object')"
      ]
     },
     "metadata": {},
     "execution_count": 50
    }
   ],
   "source": [
    "df.columns"
   ]
  },
  {
   "cell_type": "code",
   "execution_count": 51,
   "metadata": {},
   "outputs": [],
   "source": [
    "num_columns = ['campaign', 'pdays', 'previous', 'emp.var.rate', 'cons.price.idx', 'cons.conf.idx', 'euribor3m', 'nr.employed']\n",
    "cat_columns = ['job', 'marital', 'education', 'default', 'housing', 'loan', 'contact', 'month', 'day_of_week', 'poutcome', 'y', 'age_bin', 'duration_bin']"
   ]
  },
  {
   "cell_type": "code",
   "execution_count": 52,
   "metadata": {},
   "outputs": [
    {
     "output_type": "execute_result",
     "data": {
      "text/plain": [
       "       campaign  pdays  previous  emp.var.rate  cons.price.idx  cons.conf.idx  \\\n",
       "0             1    999         0           1.1          93.994          -36.4   \n",
       "1             1    999         0           1.1          93.994          -36.4   \n",
       "2             1    999         0           1.1          93.994          -36.4   \n",
       "3             1    999         0           1.1          93.994          -36.4   \n",
       "4             1    999         0           1.1          93.994          -36.4   \n",
       "...         ...    ...       ...           ...             ...            ...   \n",
       "41183         1    999         0          -1.1          94.767          -50.8   \n",
       "41184         1    999         0          -1.1          94.767          -50.8   \n",
       "41185         2    999         0          -1.1          94.767          -50.8   \n",
       "41186         1    999         0          -1.1          94.767          -50.8   \n",
       "41187         3    999         1          -1.1          94.767          -50.8   \n",
       "\n",
       "       euribor3m  nr.employed  \n",
       "0          4.857       5191.0  \n",
       "1          4.857       5191.0  \n",
       "2          4.857       5191.0  \n",
       "3          4.857       5191.0  \n",
       "4          4.857       5191.0  \n",
       "...          ...          ...  \n",
       "41183      1.028       4963.6  \n",
       "41184      1.028       4963.6  \n",
       "41185      1.028       4963.6  \n",
       "41186      1.028       4963.6  \n",
       "41187      1.028       4963.6  \n",
       "\n",
       "[41188 rows x 8 columns]"
      ],
      "text/html": "<div>\n<style scoped>\n    .dataframe tbody tr th:only-of-type {\n        vertical-align: middle;\n    }\n\n    .dataframe tbody tr th {\n        vertical-align: top;\n    }\n\n    .dataframe thead th {\n        text-align: right;\n    }\n</style>\n<table border=\"1\" class=\"dataframe\">\n  <thead>\n    <tr style=\"text-align: right;\">\n      <th></th>\n      <th>campaign</th>\n      <th>pdays</th>\n      <th>previous</th>\n      <th>emp.var.rate</th>\n      <th>cons.price.idx</th>\n      <th>cons.conf.idx</th>\n      <th>euribor3m</th>\n      <th>nr.employed</th>\n    </tr>\n  </thead>\n  <tbody>\n    <tr>\n      <th>0</th>\n      <td>1</td>\n      <td>999</td>\n      <td>0</td>\n      <td>1.1</td>\n      <td>93.994</td>\n      <td>-36.4</td>\n      <td>4.857</td>\n      <td>5191.0</td>\n    </tr>\n    <tr>\n      <th>1</th>\n      <td>1</td>\n      <td>999</td>\n      <td>0</td>\n      <td>1.1</td>\n      <td>93.994</td>\n      <td>-36.4</td>\n      <td>4.857</td>\n      <td>5191.0</td>\n    </tr>\n    <tr>\n      <th>2</th>\n      <td>1</td>\n      <td>999</td>\n      <td>0</td>\n      <td>1.1</td>\n      <td>93.994</td>\n      <td>-36.4</td>\n      <td>4.857</td>\n      <td>5191.0</td>\n    </tr>\n    <tr>\n      <th>3</th>\n      <td>1</td>\n      <td>999</td>\n      <td>0</td>\n      <td>1.1</td>\n      <td>93.994</td>\n      <td>-36.4</td>\n      <td>4.857</td>\n      <td>5191.0</td>\n    </tr>\n    <tr>\n      <th>4</th>\n      <td>1</td>\n      <td>999</td>\n      <td>0</td>\n      <td>1.1</td>\n      <td>93.994</td>\n      <td>-36.4</td>\n      <td>4.857</td>\n      <td>5191.0</td>\n    </tr>\n    <tr>\n      <th>...</th>\n      <td>...</td>\n      <td>...</td>\n      <td>...</td>\n      <td>...</td>\n      <td>...</td>\n      <td>...</td>\n      <td>...</td>\n      <td>...</td>\n    </tr>\n    <tr>\n      <th>41183</th>\n      <td>1</td>\n      <td>999</td>\n      <td>0</td>\n      <td>-1.1</td>\n      <td>94.767</td>\n      <td>-50.8</td>\n      <td>1.028</td>\n      <td>4963.6</td>\n    </tr>\n    <tr>\n      <th>41184</th>\n      <td>1</td>\n      <td>999</td>\n      <td>0</td>\n      <td>-1.1</td>\n      <td>94.767</td>\n      <td>-50.8</td>\n      <td>1.028</td>\n      <td>4963.6</td>\n    </tr>\n    <tr>\n      <th>41185</th>\n      <td>2</td>\n      <td>999</td>\n      <td>0</td>\n      <td>-1.1</td>\n      <td>94.767</td>\n      <td>-50.8</td>\n      <td>1.028</td>\n      <td>4963.6</td>\n    </tr>\n    <tr>\n      <th>41186</th>\n      <td>1</td>\n      <td>999</td>\n      <td>0</td>\n      <td>-1.1</td>\n      <td>94.767</td>\n      <td>-50.8</td>\n      <td>1.028</td>\n      <td>4963.6</td>\n    </tr>\n    <tr>\n      <th>41187</th>\n      <td>3</td>\n      <td>999</td>\n      <td>1</td>\n      <td>-1.1</td>\n      <td>94.767</td>\n      <td>-50.8</td>\n      <td>1.028</td>\n      <td>4963.6</td>\n    </tr>\n  </tbody>\n</table>\n<p>41188 rows × 8 columns</p>\n</div>"
     },
     "metadata": {},
     "execution_count": 52
    }
   ],
   "source": [
    "df[num_columns]"
   ]
  },
  {
   "cell_type": "code",
   "execution_count": 53,
   "metadata": {},
   "outputs": [
    {
     "output_type": "execute_result",
     "data": {
      "text/plain": [
       "               job  marital            education  default housing loan  \\\n",
       "0        housemaid  married             basic 4y       no      no   no   \n",
       "1         services  married          high school  unknown      no   no   \n",
       "2         services  married          high school       no     yes   no   \n",
       "3           admin.  married             basic 6y       no      no   no   \n",
       "4         services  married          high school       no      no  yes   \n",
       "...            ...      ...                  ...      ...     ...  ...   \n",
       "41183      retired  married  professional course       no     yes   no   \n",
       "41184  blue-collar  married  professional course       no      no   no   \n",
       "41185      retired  married    university degree       no     yes   no   \n",
       "41186   technician  married  professional course       no      no   no   \n",
       "41187      retired  married  professional course       no     yes   no   \n",
       "\n",
       "         contact month day_of_week     poutcome  y age_bin duration_bin  \n",
       "0      telephone   may         mon  nonexistent  0   Elder      180-360  \n",
       "1      telephone   may         mon  nonexistent  0   Elder        0-180  \n",
       "2      telephone   may         mon  nonexistent  0   Adult      180-360  \n",
       "3      telephone   may         mon  nonexistent  0   Adult        0-180  \n",
       "4      telephone   may         mon  nonexistent  0   Elder      180-360  \n",
       "...          ...   ...         ...          ... ..     ...          ...  \n",
       "41183   cellular   nov         fri  nonexistent  1   Elder      180-360  \n",
       "41184   cellular   nov         fri  nonexistent  0   Elder      360-540  \n",
       "41185   cellular   nov         fri  nonexistent  0   Elder      180-360  \n",
       "41186   cellular   nov         fri  nonexistent  1   Elder      360-540  \n",
       "41187   cellular   nov         fri      failure  0   Elder      180-360  \n",
       "\n",
       "[41188 rows x 13 columns]"
      ],
      "text/html": "<div>\n<style scoped>\n    .dataframe tbody tr th:only-of-type {\n        vertical-align: middle;\n    }\n\n    .dataframe tbody tr th {\n        vertical-align: top;\n    }\n\n    .dataframe thead th {\n        text-align: right;\n    }\n</style>\n<table border=\"1\" class=\"dataframe\">\n  <thead>\n    <tr style=\"text-align: right;\">\n      <th></th>\n      <th>job</th>\n      <th>marital</th>\n      <th>education</th>\n      <th>default</th>\n      <th>housing</th>\n      <th>loan</th>\n      <th>contact</th>\n      <th>month</th>\n      <th>day_of_week</th>\n      <th>poutcome</th>\n      <th>y</th>\n      <th>age_bin</th>\n      <th>duration_bin</th>\n    </tr>\n  </thead>\n  <tbody>\n    <tr>\n      <th>0</th>\n      <td>housemaid</td>\n      <td>married</td>\n      <td>basic 4y</td>\n      <td>no</td>\n      <td>no</td>\n      <td>no</td>\n      <td>telephone</td>\n      <td>may</td>\n      <td>mon</td>\n      <td>nonexistent</td>\n      <td>0</td>\n      <td>Elder</td>\n      <td>180-360</td>\n    </tr>\n    <tr>\n      <th>1</th>\n      <td>services</td>\n      <td>married</td>\n      <td>high school</td>\n      <td>unknown</td>\n      <td>no</td>\n      <td>no</td>\n      <td>telephone</td>\n      <td>may</td>\n      <td>mon</td>\n      <td>nonexistent</td>\n      <td>0</td>\n      <td>Elder</td>\n      <td>0-180</td>\n    </tr>\n    <tr>\n      <th>2</th>\n      <td>services</td>\n      <td>married</td>\n      <td>high school</td>\n      <td>no</td>\n      <td>yes</td>\n      <td>no</td>\n      <td>telephone</td>\n      <td>may</td>\n      <td>mon</td>\n      <td>nonexistent</td>\n      <td>0</td>\n      <td>Adult</td>\n      <td>180-360</td>\n    </tr>\n    <tr>\n      <th>3</th>\n      <td>admin.</td>\n      <td>married</td>\n      <td>basic 6y</td>\n      <td>no</td>\n      <td>no</td>\n      <td>no</td>\n      <td>telephone</td>\n      <td>may</td>\n      <td>mon</td>\n      <td>nonexistent</td>\n      <td>0</td>\n      <td>Adult</td>\n      <td>0-180</td>\n    </tr>\n    <tr>\n      <th>4</th>\n      <td>services</td>\n      <td>married</td>\n      <td>high school</td>\n      <td>no</td>\n      <td>no</td>\n      <td>yes</td>\n      <td>telephone</td>\n      <td>may</td>\n      <td>mon</td>\n      <td>nonexistent</td>\n      <td>0</td>\n      <td>Elder</td>\n      <td>180-360</td>\n    </tr>\n    <tr>\n      <th>...</th>\n      <td>...</td>\n      <td>...</td>\n      <td>...</td>\n      <td>...</td>\n      <td>...</td>\n      <td>...</td>\n      <td>...</td>\n      <td>...</td>\n      <td>...</td>\n      <td>...</td>\n      <td>...</td>\n      <td>...</td>\n      <td>...</td>\n    </tr>\n    <tr>\n      <th>41183</th>\n      <td>retired</td>\n      <td>married</td>\n      <td>professional course</td>\n      <td>no</td>\n      <td>yes</td>\n      <td>no</td>\n      <td>cellular</td>\n      <td>nov</td>\n      <td>fri</td>\n      <td>nonexistent</td>\n      <td>1</td>\n      <td>Elder</td>\n      <td>180-360</td>\n    </tr>\n    <tr>\n      <th>41184</th>\n      <td>blue-collar</td>\n      <td>married</td>\n      <td>professional course</td>\n      <td>no</td>\n      <td>no</td>\n      <td>no</td>\n      <td>cellular</td>\n      <td>nov</td>\n      <td>fri</td>\n      <td>nonexistent</td>\n      <td>0</td>\n      <td>Elder</td>\n      <td>360-540</td>\n    </tr>\n    <tr>\n      <th>41185</th>\n      <td>retired</td>\n      <td>married</td>\n      <td>university degree</td>\n      <td>no</td>\n      <td>yes</td>\n      <td>no</td>\n      <td>cellular</td>\n      <td>nov</td>\n      <td>fri</td>\n      <td>nonexistent</td>\n      <td>0</td>\n      <td>Elder</td>\n      <td>180-360</td>\n    </tr>\n    <tr>\n      <th>41186</th>\n      <td>technician</td>\n      <td>married</td>\n      <td>professional course</td>\n      <td>no</td>\n      <td>no</td>\n      <td>no</td>\n      <td>cellular</td>\n      <td>nov</td>\n      <td>fri</td>\n      <td>nonexistent</td>\n      <td>1</td>\n      <td>Elder</td>\n      <td>360-540</td>\n    </tr>\n    <tr>\n      <th>41187</th>\n      <td>retired</td>\n      <td>married</td>\n      <td>professional course</td>\n      <td>no</td>\n      <td>yes</td>\n      <td>no</td>\n      <td>cellular</td>\n      <td>nov</td>\n      <td>fri</td>\n      <td>failure</td>\n      <td>0</td>\n      <td>Elder</td>\n      <td>180-360</td>\n    </tr>\n  </tbody>\n</table>\n<p>41188 rows × 13 columns</p>\n</div>"
     },
     "metadata": {},
     "execution_count": 53
    }
   ],
   "source": [
    "df[cat_columns]"
   ]
  },
  {
   "cell_type": "code",
   "execution_count": 54,
   "metadata": {},
   "outputs": [
    {
     "output_type": "execute_result",
     "data": {
      "text/plain": [
       "['campaign',\n",
       " 'pdays',\n",
       " 'previous',\n",
       " 'emp.var.rate',\n",
       " 'cons.price.idx',\n",
       " 'cons.conf.idx',\n",
       " 'euribor3m',\n",
       " 'nr.employed']"
      ]
     },
     "metadata": {},
     "execution_count": 54
    }
   ],
   "source": [
    "num_columns"
   ]
  },
  {
   "cell_type": "code",
   "execution_count": null,
   "metadata": {},
   "outputs": [],
   "source": []
  },
  {
   "cell_type": "code",
   "execution_count": 55,
   "metadata": {},
   "outputs": [
    {
     "output_type": "execute_result",
     "data": {
      "text/plain": [
       "                campaign     pdays  previous  emp.var.rate  cons.price.idx  \\\n",
       "campaign        1.000000  0.052584 -0.079141      0.150754        0.127836   \n",
       "pdays           0.052584  1.000000 -0.587514      0.271004        0.078889   \n",
       "previous       -0.079141 -0.587514  1.000000     -0.420489       -0.203130   \n",
       "emp.var.rate    0.150754  0.271004 -0.420489      1.000000        0.775334   \n",
       "cons.price.idx  0.127836  0.078889 -0.203130      0.775334        1.000000   \n",
       "cons.conf.idx  -0.013733 -0.091342 -0.050936      0.196041        0.058986   \n",
       "euribor3m       0.135133  0.296899 -0.454494      0.972245        0.688230   \n",
       "nr.employed     0.144095  0.372605 -0.501333      0.906970        0.522034   \n",
       "y              -0.066357 -0.324914  0.230181     -0.298334       -0.136211   \n",
       "\n",
       "                cons.conf.idx  euribor3m  nr.employed         y  \n",
       "campaign            -0.013733   0.135133     0.144095 -0.066357  \n",
       "pdays               -0.091342   0.296899     0.372605 -0.324914  \n",
       "previous            -0.050936  -0.454494    -0.501333  0.230181  \n",
       "emp.var.rate         0.196041   0.972245     0.906970 -0.298334  \n",
       "cons.price.idx       0.058986   0.688230     0.522034 -0.136211  \n",
       "cons.conf.idx        1.000000   0.277686     0.100513  0.054878  \n",
       "euribor3m            0.277686   1.000000     0.945154 -0.307771  \n",
       "nr.employed          0.100513   0.945154     1.000000 -0.354678  \n",
       "y                    0.054878  -0.307771    -0.354678  1.000000  "
      ],
      "text/html": "<div>\n<style scoped>\n    .dataframe tbody tr th:only-of-type {\n        vertical-align: middle;\n    }\n\n    .dataframe tbody tr th {\n        vertical-align: top;\n    }\n\n    .dataframe thead th {\n        text-align: right;\n    }\n</style>\n<table border=\"1\" class=\"dataframe\">\n  <thead>\n    <tr style=\"text-align: right;\">\n      <th></th>\n      <th>campaign</th>\n      <th>pdays</th>\n      <th>previous</th>\n      <th>emp.var.rate</th>\n      <th>cons.price.idx</th>\n      <th>cons.conf.idx</th>\n      <th>euribor3m</th>\n      <th>nr.employed</th>\n      <th>y</th>\n    </tr>\n  </thead>\n  <tbody>\n    <tr>\n      <th>campaign</th>\n      <td>1.000000</td>\n      <td>0.052584</td>\n      <td>-0.079141</td>\n      <td>0.150754</td>\n      <td>0.127836</td>\n      <td>-0.013733</td>\n      <td>0.135133</td>\n      <td>0.144095</td>\n      <td>-0.066357</td>\n    </tr>\n    <tr>\n      <th>pdays</th>\n      <td>0.052584</td>\n      <td>1.000000</td>\n      <td>-0.587514</td>\n      <td>0.271004</td>\n      <td>0.078889</td>\n      <td>-0.091342</td>\n      <td>0.296899</td>\n      <td>0.372605</td>\n      <td>-0.324914</td>\n    </tr>\n    <tr>\n      <th>previous</th>\n      <td>-0.079141</td>\n      <td>-0.587514</td>\n      <td>1.000000</td>\n      <td>-0.420489</td>\n      <td>-0.203130</td>\n      <td>-0.050936</td>\n      <td>-0.454494</td>\n      <td>-0.501333</td>\n      <td>0.230181</td>\n    </tr>\n    <tr>\n      <th>emp.var.rate</th>\n      <td>0.150754</td>\n      <td>0.271004</td>\n      <td>-0.420489</td>\n      <td>1.000000</td>\n      <td>0.775334</td>\n      <td>0.196041</td>\n      <td>0.972245</td>\n      <td>0.906970</td>\n      <td>-0.298334</td>\n    </tr>\n    <tr>\n      <th>cons.price.idx</th>\n      <td>0.127836</td>\n      <td>0.078889</td>\n      <td>-0.203130</td>\n      <td>0.775334</td>\n      <td>1.000000</td>\n      <td>0.058986</td>\n      <td>0.688230</td>\n      <td>0.522034</td>\n      <td>-0.136211</td>\n    </tr>\n    <tr>\n      <th>cons.conf.idx</th>\n      <td>-0.013733</td>\n      <td>-0.091342</td>\n      <td>-0.050936</td>\n      <td>0.196041</td>\n      <td>0.058986</td>\n      <td>1.000000</td>\n      <td>0.277686</td>\n      <td>0.100513</td>\n      <td>0.054878</td>\n    </tr>\n    <tr>\n      <th>euribor3m</th>\n      <td>0.135133</td>\n      <td>0.296899</td>\n      <td>-0.454494</td>\n      <td>0.972245</td>\n      <td>0.688230</td>\n      <td>0.277686</td>\n      <td>1.000000</td>\n      <td>0.945154</td>\n      <td>-0.307771</td>\n    </tr>\n    <tr>\n      <th>nr.employed</th>\n      <td>0.144095</td>\n      <td>0.372605</td>\n      <td>-0.501333</td>\n      <td>0.906970</td>\n      <td>0.522034</td>\n      <td>0.100513</td>\n      <td>0.945154</td>\n      <td>1.000000</td>\n      <td>-0.354678</td>\n    </tr>\n    <tr>\n      <th>y</th>\n      <td>-0.066357</td>\n      <td>-0.324914</td>\n      <td>0.230181</td>\n      <td>-0.298334</td>\n      <td>-0.136211</td>\n      <td>0.054878</td>\n      <td>-0.307771</td>\n      <td>-0.354678</td>\n      <td>1.000000</td>\n    </tr>\n  </tbody>\n</table>\n</div>"
     },
     "metadata": {},
     "execution_count": 55
    }
   ],
   "source": [
    "df.corr()"
   ]
  },
  {
   "cell_type": "code",
   "execution_count": 56,
   "metadata": {},
   "outputs": [
    {
     "output_type": "execute_result",
     "data": {
      "text/plain": [
       "                job   marital          education  default housing loan  \\\n",
       "25611   blue-collar   married           basic 9y  unknown      no   no   \n",
       "26010  entrepreneur   married  university degree       no      no   no   \n",
       "297          admin.   married  university degree       no     yes   no   \n",
       "36344       retired  divorced  university degree       no      no   no   \n",
       "21806        admin.    single  university degree       no      no   no   \n",
       "...             ...       ...                ...      ...     ...  ...   \n",
       "12425  entrepreneur   married           basic 6y       no     yes  yes   \n",
       "38689        admin.    single        high school       no     yes   no   \n",
       "34610   blue-collar    single           basic 9y       no     yes  yes   \n",
       "37465        admin.    single  university degree       no     yes  yes   \n",
       "40929       student    single            unknown       no     yes  yes   \n",
       "\n",
       "         contact month day_of_week  campaign  pdays  previous     poutcome  \\\n",
       "25611   cellular   nov         wed         4    999         0  nonexistent   \n",
       "26010  telephone   nov         wed         2    999         1      failure   \n",
       "297    telephone   may         mon         2    999         0  nonexistent   \n",
       "36344   cellular   jun         tue         2    999         0  nonexistent   \n",
       "21806   cellular   aug         wed         2    999         0  nonexistent   \n",
       "...          ...   ...         ...       ...    ...       ...          ...   \n",
       "12425   cellular   jul         mon         1    999         0  nonexistent   \n",
       "38689   cellular   nov         mon         1      3         1      success   \n",
       "34610   cellular   may         thu         4    999         0  nonexistent   \n",
       "37465   cellular   aug         thu         3      3         1      success   \n",
       "40929   cellular   oct         tue         1      3         4      success   \n",
       "\n",
       "       emp.var.rate  cons.price.idx  cons.conf.idx  euribor3m  nr.employed  \\\n",
       "25611          -0.1          93.200          -42.0      4.120       5195.8   \n",
       "26010          -0.1          93.200          -42.0      4.120       5195.8   \n",
       "297             1.1          93.994          -36.4      4.857       5191.0   \n",
       "36344          -2.9          92.963          -40.8      1.262       5076.2   \n",
       "21806           1.4          93.444          -36.1      4.964       5228.1   \n",
       "...             ...             ...            ...        ...          ...   \n",
       "12425           1.4          93.918          -42.7      4.960       5228.1   \n",
       "38689          -3.4          92.649          -30.1      0.715       5017.5   \n",
       "34610          -1.8          92.893          -46.2      1.266       5099.1   \n",
       "37465          -2.9          92.201          -31.4      0.873       5076.2   \n",
       "40929          -1.1          94.601          -49.5      0.982       4963.6   \n",
       "\n",
       "        age_bin duration_bin  \n",
       "25611     Elder      180-360  \n",
       "26010     Adult      180-360  \n",
       "297       Adult        0-180  \n",
       "36344     Elder      360-540  \n",
       "21806     Adult      180-360  \n",
       "...         ...          ...  \n",
       "12425     Adult      720-900  \n",
       "38689     Adult      180-360  \n",
       "34610     Adult      180-360  \n",
       "37465     Adult      180-360  \n",
       "40929  Teenager      180-360  \n",
       "\n",
       "[58476 rows x 20 columns]"
      ],
      "text/html": "<div>\n<style scoped>\n    .dataframe tbody tr th:only-of-type {\n        vertical-align: middle;\n    }\n\n    .dataframe tbody tr th {\n        vertical-align: top;\n    }\n\n    .dataframe thead th {\n        text-align: right;\n    }\n</style>\n<table border=\"1\" class=\"dataframe\">\n  <thead>\n    <tr style=\"text-align: right;\">\n      <th></th>\n      <th>job</th>\n      <th>marital</th>\n      <th>education</th>\n      <th>default</th>\n      <th>housing</th>\n      <th>loan</th>\n      <th>contact</th>\n      <th>month</th>\n      <th>day_of_week</th>\n      <th>campaign</th>\n      <th>pdays</th>\n      <th>previous</th>\n      <th>poutcome</th>\n      <th>emp.var.rate</th>\n      <th>cons.price.idx</th>\n      <th>cons.conf.idx</th>\n      <th>euribor3m</th>\n      <th>nr.employed</th>\n      <th>age_bin</th>\n      <th>duration_bin</th>\n    </tr>\n  </thead>\n  <tbody>\n    <tr>\n      <th>25611</th>\n      <td>blue-collar</td>\n      <td>married</td>\n      <td>basic 9y</td>\n      <td>unknown</td>\n      <td>no</td>\n      <td>no</td>\n      <td>cellular</td>\n      <td>nov</td>\n      <td>wed</td>\n      <td>4</td>\n      <td>999</td>\n      <td>0</td>\n      <td>nonexistent</td>\n      <td>-0.1</td>\n      <td>93.200</td>\n      <td>-42.0</td>\n      <td>4.120</td>\n      <td>5195.8</td>\n      <td>Elder</td>\n      <td>180-360</td>\n    </tr>\n    <tr>\n      <th>26010</th>\n      <td>entrepreneur</td>\n      <td>married</td>\n      <td>university degree</td>\n      <td>no</td>\n      <td>no</td>\n      <td>no</td>\n      <td>telephone</td>\n      <td>nov</td>\n      <td>wed</td>\n      <td>2</td>\n      <td>999</td>\n      <td>1</td>\n      <td>failure</td>\n      <td>-0.1</td>\n      <td>93.200</td>\n      <td>-42.0</td>\n      <td>4.120</td>\n      <td>5195.8</td>\n      <td>Adult</td>\n      <td>180-360</td>\n    </tr>\n    <tr>\n      <th>297</th>\n      <td>admin.</td>\n      <td>married</td>\n      <td>university degree</td>\n      <td>no</td>\n      <td>yes</td>\n      <td>no</td>\n      <td>telephone</td>\n      <td>may</td>\n      <td>mon</td>\n      <td>2</td>\n      <td>999</td>\n      <td>0</td>\n      <td>nonexistent</td>\n      <td>1.1</td>\n      <td>93.994</td>\n      <td>-36.4</td>\n      <td>4.857</td>\n      <td>5191.0</td>\n      <td>Adult</td>\n      <td>0-180</td>\n    </tr>\n    <tr>\n      <th>36344</th>\n      <td>retired</td>\n      <td>divorced</td>\n      <td>university degree</td>\n      <td>no</td>\n      <td>no</td>\n      <td>no</td>\n      <td>cellular</td>\n      <td>jun</td>\n      <td>tue</td>\n      <td>2</td>\n      <td>999</td>\n      <td>0</td>\n      <td>nonexistent</td>\n      <td>-2.9</td>\n      <td>92.963</td>\n      <td>-40.8</td>\n      <td>1.262</td>\n      <td>5076.2</td>\n      <td>Elder</td>\n      <td>360-540</td>\n    </tr>\n    <tr>\n      <th>21806</th>\n      <td>admin.</td>\n      <td>single</td>\n      <td>university degree</td>\n      <td>no</td>\n      <td>no</td>\n      <td>no</td>\n      <td>cellular</td>\n      <td>aug</td>\n      <td>wed</td>\n      <td>2</td>\n      <td>999</td>\n      <td>0</td>\n      <td>nonexistent</td>\n      <td>1.4</td>\n      <td>93.444</td>\n      <td>-36.1</td>\n      <td>4.964</td>\n      <td>5228.1</td>\n      <td>Adult</td>\n      <td>180-360</td>\n    </tr>\n    <tr>\n      <th>...</th>\n      <td>...</td>\n      <td>...</td>\n      <td>...</td>\n      <td>...</td>\n      <td>...</td>\n      <td>...</td>\n      <td>...</td>\n      <td>...</td>\n      <td>...</td>\n      <td>...</td>\n      <td>...</td>\n      <td>...</td>\n      <td>...</td>\n      <td>...</td>\n      <td>...</td>\n      <td>...</td>\n      <td>...</td>\n      <td>...</td>\n      <td>...</td>\n      <td>...</td>\n    </tr>\n    <tr>\n      <th>12425</th>\n      <td>entrepreneur</td>\n      <td>married</td>\n      <td>basic 6y</td>\n      <td>no</td>\n      <td>yes</td>\n      <td>yes</td>\n      <td>cellular</td>\n      <td>jul</td>\n      <td>mon</td>\n      <td>1</td>\n      <td>999</td>\n      <td>0</td>\n      <td>nonexistent</td>\n      <td>1.4</td>\n      <td>93.918</td>\n      <td>-42.7</td>\n      <td>4.960</td>\n      <td>5228.1</td>\n      <td>Adult</td>\n      <td>720-900</td>\n    </tr>\n    <tr>\n      <th>38689</th>\n      <td>admin.</td>\n      <td>single</td>\n      <td>high school</td>\n      <td>no</td>\n      <td>yes</td>\n      <td>no</td>\n      <td>cellular</td>\n      <td>nov</td>\n      <td>mon</td>\n      <td>1</td>\n      <td>3</td>\n      <td>1</td>\n      <td>success</td>\n      <td>-3.4</td>\n      <td>92.649</td>\n      <td>-30.1</td>\n      <td>0.715</td>\n      <td>5017.5</td>\n      <td>Adult</td>\n      <td>180-360</td>\n    </tr>\n    <tr>\n      <th>34610</th>\n      <td>blue-collar</td>\n      <td>single</td>\n      <td>basic 9y</td>\n      <td>no</td>\n      <td>yes</td>\n      <td>yes</td>\n      <td>cellular</td>\n      <td>may</td>\n      <td>thu</td>\n      <td>4</td>\n      <td>999</td>\n      <td>0</td>\n      <td>nonexistent</td>\n      <td>-1.8</td>\n      <td>92.893</td>\n      <td>-46.2</td>\n      <td>1.266</td>\n      <td>5099.1</td>\n      <td>Adult</td>\n      <td>180-360</td>\n    </tr>\n    <tr>\n      <th>37465</th>\n      <td>admin.</td>\n      <td>single</td>\n      <td>university degree</td>\n      <td>no</td>\n      <td>yes</td>\n      <td>yes</td>\n      <td>cellular</td>\n      <td>aug</td>\n      <td>thu</td>\n      <td>3</td>\n      <td>3</td>\n      <td>1</td>\n      <td>success</td>\n      <td>-2.9</td>\n      <td>92.201</td>\n      <td>-31.4</td>\n      <td>0.873</td>\n      <td>5076.2</td>\n      <td>Adult</td>\n      <td>180-360</td>\n    </tr>\n    <tr>\n      <th>40929</th>\n      <td>student</td>\n      <td>single</td>\n      <td>unknown</td>\n      <td>no</td>\n      <td>yes</td>\n      <td>yes</td>\n      <td>cellular</td>\n      <td>oct</td>\n      <td>tue</td>\n      <td>1</td>\n      <td>3</td>\n      <td>4</td>\n      <td>success</td>\n      <td>-1.1</td>\n      <td>94.601</td>\n      <td>-49.5</td>\n      <td>0.982</td>\n      <td>4963.6</td>\n      <td>Teenager</td>\n      <td>180-360</td>\n    </tr>\n  </tbody>\n</table>\n<p>58476 rows × 20 columns</p>\n</div>"
     },
     "metadata": {},
     "execution_count": 56
    }
   ],
   "source": [
    "X_train_OS"
   ]
  },
  {
   "cell_type": "code",
   "execution_count": 57,
   "metadata": {},
   "outputs": [],
   "source": [
    "xlabel = X_train_OS.copy(deep=True)"
   ]
  },
  {
   "cell_type": "code",
   "execution_count": 58,
   "metadata": {},
   "outputs": [
    {
     "output_type": "execute_result",
     "data": {
      "text/plain": [
       "Index(['job', 'marital', 'education', 'default', 'housing', 'loan', 'contact',\n",
       "       'month', 'day_of_week', 'campaign', 'pdays', 'previous', 'poutcome',\n",
       "       'emp.var.rate', 'cons.price.idx', 'cons.conf.idx', 'euribor3m',\n",
       "       'nr.employed', 'age_bin', 'duration_bin'],\n",
       "      dtype='object')"
      ]
     },
     "metadata": {},
     "execution_count": 58
    }
   ],
   "source": [
    "xlabel.columns"
   ]
  },
  {
   "cell_type": "code",
   "execution_count": 59,
   "metadata": {},
   "outputs": [
    {
     "output_type": "execute_result",
     "data": {
      "text/plain": [
       "array(['basic 9y', 'university degree', 'basic 4y', 'high school',\n",
       "       'professional course', 'unknown', 'basic 6y', 'illiterate'],\n",
       "      dtype=object)"
      ]
     },
     "metadata": {},
     "execution_count": 59
    }
   ],
   "source": [
    "xlabel.education.unique()"
   ]
  },
  {
   "cell_type": "code",
   "execution_count": 83,
   "metadata": {},
   "outputs": [],
   "source": [
    "X_test_label = X_test.copy(deep=True)"
   ]
  },
  {
   "cell_type": "code",
   "execution_count": 60,
   "metadata": {},
   "outputs": [],
   "source": [
    "xlabel['education'] = xlabel['education'].map(\n",
    "    {\n",
    "        \"unknown\" : 0,\n",
    "        \"illiterate\" : 0,\n",
    "        \"basic 4y\" : 1,\n",
    "        \"basic 6y\" : 2,\n",
    "        \"basic 9y\" : 3,\n",
    "        \"high school\" : 4,\n",
    "        \"university degree\" : 5,\n",
    "        \"professional course\" : 6\n",
    "    }\n",
    ")"
   ]
  },
  {
   "cell_type": "code",
   "execution_count": 85,
   "metadata": {},
   "outputs": [],
   "source": [
    "X_test_label['education'] = X_test_label['education'].map(\n",
    "    {\n",
    "        \"unknown\" : 0,\n",
    "        \"illiterate\" : 0,\n",
    "        \"basic 4y\" : 1,\n",
    "        \"basic 6y\" : 2,\n",
    "        \"basic 9y\" : 3,\n",
    "        \"high school\" : 4,\n",
    "        \"university degree\" : 5,\n",
    "        \"professional course\" : 6\n",
    "    }\n",
    ")"
   ]
  },
  {
   "cell_type": "code",
   "execution_count": 61,
   "metadata": {},
   "outputs": [
    {
     "output_type": "execute_result",
     "data": {
      "text/plain": [
       "['Elder', 'Adult', 'Teenager']\n",
       "Categories (3, object): ['Teenager' < 'Adult' < 'Elder']"
      ]
     },
     "metadata": {},
     "execution_count": 61
    }
   ],
   "source": [
    "xlabel['age_bin'].unique()"
   ]
  },
  {
   "cell_type": "code",
   "execution_count": 62,
   "metadata": {},
   "outputs": [],
   "source": [
    "xlabel['age_bin'] = xlabel['age_bin'].map(\n",
    "    {\n",
    "        \"Teenager\" : 0,\n",
    "        \"Adult\" : 1,\n",
    "        \"Elder\" : 2\n",
    "    }\n",
    ")"
   ]
  },
  {
   "cell_type": "code",
   "execution_count": 86,
   "metadata": {},
   "outputs": [],
   "source": [
    "X_test_label['age_bin'] = X_test_label['age_bin'].map(\n",
    "    {\n",
    "        \"Teenager\" : 0,\n",
    "        \"Adult\" : 1,\n",
    "        \"Elder\" : 2\n",
    "    }\n",
    ")"
   ]
  },
  {
   "cell_type": "code",
   "execution_count": 63,
   "metadata": {},
   "outputs": [
    {
     "output_type": "execute_result",
     "data": {
      "text/plain": [
       "['180-360', '0-180', '360-540', '540-720', '>900', '720-900']\n",
       "Categories (6, object): ['0-180' < '180-360' < '360-540' < '540-720' < '720-900' < '>900']"
      ]
     },
     "metadata": {},
     "execution_count": 63
    }
   ],
   "source": [
    "xlabel['duration_bin'].unique()"
   ]
  },
  {
   "cell_type": "code",
   "execution_count": 78,
   "metadata": {},
   "outputs": [],
   "source": [
    "xlabel['duration_bin'] = xlabel['duration_bin'].map(\n",
    "    {\n",
    "        '180-360' : 1, '0-180' : 0, '360-540' : 2, '540-720' : 3, '>900' : 5, '720-900' : 4\n",
    "    }\n",
    ")"
   ]
  },
  {
   "cell_type": "code",
   "execution_count": 87,
   "metadata": {},
   "outputs": [],
   "source": [
    "X_test_label['duration_bin'] = X_test_label['duration_bin'].map(\n",
    "    {\n",
    "        '180-360' : 1, '0-180' : 0, '360-540' : 2, '540-720' : 3, '>900' : 5, '720-900' : 4\n",
    "    }\n",
    ")"
   ]
  },
  {
   "cell_type": "code",
   "execution_count": 69,
   "metadata": {},
   "outputs": [
    {
     "output_type": "execute_result",
     "data": {
      "text/plain": [
       "Pipeline(steps=[('prep',\n",
       "                 ColumnTransformer(transformers=[('numeric',\n",
       "                                                  Pipeline(steps=[('scaler',\n",
       "                                                                   RobustScaler())]),\n",
       "                                                  ['campaign', 'pdays',\n",
       "                                                   'previous', 'emp.var.rate',\n",
       "                                                   'cons.price.idx',\n",
       "                                                   'cons.conf.idx', 'euribor3m',\n",
       "                                                   'nr.employed']),\n",
       "                                                 ('categorical',\n",
       "                                                  Pipeline(steps=[('encoder',\n",
       "                                                                   OneHotEncoder())]),\n",
       "                                                  ['job', 'marital',\n",
       "                                                   'education', 'default',\n",
       "                                                   'housing', 'loan', 'contact',\n",
       "                                                   'month', 'day_of_week',\n",
       "                                                   'poutcome', 'age_bin',\n",
       "                                                   'duration_bin'])])),\n",
       "                ('algo', DecisionTreeClassifier(random_state=42))])"
      ]
     },
     "metadata": {},
     "execution_count": 69
    }
   ],
   "source": [
    "pipe_DT.fit(X_train_OS, y_train_OS)"
   ]
  },
  {
   "cell_type": "code",
   "execution_count": 70,
   "metadata": {},
   "outputs": [
    {
     "output_type": "stream",
     "name": "stdout",
     "text": [
      "Classification report data TEST DT Over Sampling\n",
      "\n",
      "               precision    recall  f1-score   support\n",
      "\n",
      "           0       0.94      0.94      0.94      7310\n",
      "           1       0.52      0.50      0.51       928\n",
      "\n",
      "    accuracy                           0.89      8238\n",
      "   macro avg       0.73      0.72      0.73      8238\n",
      "weighted avg       0.89      0.89      0.89      8238\n",
      "\n",
      "Classification report data TRAIN DT Over Sampling\n",
      "\n",
      "               precision    recall  f1-score   support\n",
      "\n",
      "           0       1.00      1.00      1.00     29238\n",
      "           1       1.00      1.00      1.00     29238\n",
      "\n",
      "    accuracy                           1.00     58476\n",
      "   macro avg       1.00      1.00      1.00     58476\n",
      "weighted avg       1.00      1.00      1.00     58476\n",
      "\n",
      "Confusion matrix data test DT Over Sampling\n",
      "\n"
     ]
    },
    {
     "output_type": "execute_result",
     "data": {
      "text/plain": [
       "      Pred1  Pred0\n",
       "Akt1    468    460\n",
       "Akt0    426   6884"
      ],
      "text/html": "<div>\n<style scoped>\n    .dataframe tbody tr th:only-of-type {\n        vertical-align: middle;\n    }\n\n    .dataframe tbody tr th {\n        vertical-align: top;\n    }\n\n    .dataframe thead th {\n        text-align: right;\n    }\n</style>\n<table border=\"1\" class=\"dataframe\">\n  <thead>\n    <tr style=\"text-align: right;\">\n      <th></th>\n      <th>Pred1</th>\n      <th>Pred0</th>\n    </tr>\n  </thead>\n  <tbody>\n    <tr>\n      <th>Akt1</th>\n      <td>468</td>\n      <td>460</td>\n    </tr>\n    <tr>\n      <th>Akt0</th>\n      <td>426</td>\n      <td>6884</td>\n    </tr>\n  </tbody>\n</table>\n</div>"
     },
     "metadata": {},
     "execution_count": 70
    }
   ],
   "source": [
    "conf_mat(pipe_DT, X_train_OS, X_test, y_train_OS, y_test, 'DT Over Sampling')"
   ]
  },
  {
   "cell_type": "code",
   "execution_count": null,
   "metadata": {},
   "outputs": [],
   "source": [
    "pipe_DT.fit(xlabel, y_train_OS)"
   ]
  },
  {
   "cell_type": "code",
   "execution_count": 88,
   "metadata": {},
   "outputs": [
    {
     "output_type": "stream",
     "name": "stdout",
     "text": [
      "Classification report data TEST DT Over Sampling Label Encoding\n",
      "\n",
      "               precision    recall  f1-score   support\n",
      "\n",
      "           0       0.94      0.94      0.94      7310\n",
      "           1       0.53      0.52      0.52       928\n",
      "\n",
      "    accuracy                           0.89      8238\n",
      "   macro avg       0.73      0.73      0.73      8238\n",
      "weighted avg       0.89      0.89      0.89      8238\n",
      "\n",
      "Classification report data TRAIN DT Over Sampling Label Encoding\n",
      "\n",
      "               precision    recall  f1-score   support\n",
      "\n",
      "           0       1.00      1.00      1.00     29238\n",
      "           1       1.00      1.00      1.00     29238\n",
      "\n",
      "    accuracy                           1.00     58476\n",
      "   macro avg       1.00      1.00      1.00     58476\n",
      "weighted avg       1.00      1.00      1.00     58476\n",
      "\n",
      "Confusion matrix data test DT Over Sampling Label Encoding\n",
      "\n"
     ]
    },
    {
     "output_type": "execute_result",
     "data": {
      "text/plain": [
       "      Pred1  Pred0\n",
       "Akt1    479    449\n",
       "Akt0    430   6880"
      ],
      "text/html": "<div>\n<style scoped>\n    .dataframe tbody tr th:only-of-type {\n        vertical-align: middle;\n    }\n\n    .dataframe tbody tr th {\n        vertical-align: top;\n    }\n\n    .dataframe thead th {\n        text-align: right;\n    }\n</style>\n<table border=\"1\" class=\"dataframe\">\n  <thead>\n    <tr style=\"text-align: right;\">\n      <th></th>\n      <th>Pred1</th>\n      <th>Pred0</th>\n    </tr>\n  </thead>\n  <tbody>\n    <tr>\n      <th>Akt1</th>\n      <td>479</td>\n      <td>449</td>\n    </tr>\n    <tr>\n      <th>Akt0</th>\n      <td>430</td>\n      <td>6880</td>\n    </tr>\n  </tbody>\n</table>\n</div>"
     },
     "metadata": {},
     "execution_count": 88
    }
   ],
   "source": [
    "conf_mat(pipe_DT, xlabel, X_test_label, y_train_OS, y_test, 'DT Over Sampling Label Encoding')"
   ]
  },
  {
   "cell_type": "markdown",
   "metadata": {},
   "source": [
    "## PERBANDINGAN PRECISION DAN RECALL TIAP MODEL"
   ]
  },
  {
   "cell_type": "markdown",
   "metadata": {},
   "source": [
    "================================================================================================"
   ]
  },
  {
   "cell_type": "code",
   "execution_count": 71,
   "metadata": {},
   "outputs": [
    {
     "output_type": "execute_result",
     "data": {
      "text/plain": [
       "          pipe_DT\n",
       "Precison  0.52349\n",
       "Recall    0.50431"
      ],
      "text/html": "<div>\n<style scoped>\n    .dataframe tbody tr th:only-of-type {\n        vertical-align: middle;\n    }\n\n    .dataframe tbody tr th {\n        vertical-align: top;\n    }\n\n    .dataframe thead th {\n        text-align: right;\n    }\n</style>\n<table border=\"1\" class=\"dataframe\">\n  <thead>\n    <tr style=\"text-align: right;\">\n      <th></th>\n      <th>pipe_DT</th>\n    </tr>\n  </thead>\n  <tbody>\n    <tr>\n      <th>Precison</th>\n      <td>0.52349</td>\n    </tr>\n    <tr>\n      <th>Recall</th>\n      <td>0.50431</td>\n    </tr>\n  </tbody>\n</table>\n</div>"
     },
     "metadata": {},
     "execution_count": 71
    }
   ],
   "source": [
    "prec_rec (pipe_DT, X_test, y_test, 'pipe_DT')"
   ]
  },
  {
   "cell_type": "markdown",
   "metadata": {},
   "source": [
    "================================================================================================"
   ]
  },
  {
   "cell_type": "markdown",
   "metadata": {},
   "source": [
    "_____________"
   ]
  },
  {
   "cell_type": "markdown",
   "metadata": {},
   "source": [
    "## HYPERPARAMETER TUNING"
   ]
  },
  {
   "cell_type": "code",
   "execution_count": 72,
   "metadata": {},
   "outputs": [],
   "source": [
    "skf = StratifiedKFold(n_splits=3)"
   ]
  },
  {
   "cell_type": "markdown",
   "metadata": {},
   "source": [
    "https://towardsdatascience.com/fine-tuning-a-classifier-in-scikit-learn-66e048c21e65"
   ]
  },
  {
   "cell_type": "code",
   "execution_count": 73,
   "metadata": {},
   "outputs": [],
   "source": [
    "scorers = {\n",
    "    'precision_score': make_scorer(precision_score),\n",
    "    'recall_score': make_scorer(recall_score)\n",
    "}"
   ]
  },
  {
   "cell_type": "markdown",
   "metadata": {},
   "source": [
    "========================\n",
    "\n",
    "__DT__\n",
    "\n",
    "========================"
   ]
  },
  {
   "cell_type": "code",
   "execution_count": 74,
   "metadata": {},
   "outputs": [],
   "source": [
    "# pipe_DT.get_params()"
   ]
  },
  {
   "cell_type": "code",
   "execution_count": 128,
   "metadata": {},
   "outputs": [],
   "source": [
    "param_DT = {\n",
    "    'algo__max_depth': list(np.arange(0, 101, 5)) + [None],\n",
    "    'algo__min_samples_leaf': np.arange(1, 1000, 50)\n",
    "    # 'algo__max_features': [0, 0.2, 0.4, 0.6, 0.8, 1]\n",
    "    # 'algo__class_weight': [None, {0:.4, 1:.6}, {0:.3, 1:.7}, {0:.2, 1:.8}, {0:.15, 1: .85}, {0:.1, 1:.9}]\n",
    "}"
   ]
  },
  {
   "cell_type": "code",
   "execution_count": 129,
   "metadata": {},
   "outputs": [],
   "source": [
    "DT_GS = GridSearchCV(pipe_DT, param_DT, cv=skf, n_jobs=-1, verbose=1, scoring='precision', refit='precision_score', return_train_score=True)"
   ]
  },
  {
   "cell_type": "code",
   "execution_count": 130,
   "metadata": {},
   "outputs": [
    {
     "output_type": "stream",
     "name": "stdout",
     "text": [
      "Fitting 3 folds for each of 440 candidates, totalling 1320 fits\n"
     ]
    },
    {
     "output_type": "execute_result",
     "data": {
      "text/plain": [
       "GridSearchCV(cv=StratifiedKFold(n_splits=3, random_state=None, shuffle=False),\n",
       "             estimator=Pipeline(steps=[('prep',\n",
       "                                        ColumnTransformer(transformers=[('numeric',\n",
       "                                                                         Pipeline(steps=[('scaler',\n",
       "                                                                                          RobustScaler())]),\n",
       "                                                                         ['campaign',\n",
       "                                                                          'pdays',\n",
       "                                                                          'previous',\n",
       "                                                                          'emp.var.rate',\n",
       "                                                                          'cons.price.idx',\n",
       "                                                                          'cons.conf.idx',\n",
       "                                                                          'euribor3m',\n",
       "                                                                          'nr.employed']),\n",
       "                                                                        ('categorical',\n",
       "                                                                         Pipeline(steps=[('encoder',\n",
       "                                                                                          OneH...\n",
       "                                       ('algo',\n",
       "                                        DecisionTreeClassifier(random_state=42))]),\n",
       "             n_jobs=-1,\n",
       "             param_grid={'algo__max_depth': [0, 5, 10, 15, 20, 25, 30, 35, 40,\n",
       "                                             45, 50, 55, 60, 65, 70, 75, 80, 85,\n",
       "                                             90, 95, 100, None],\n",
       "                         'algo__min_samples_leaf': array([  1,  51, 101, 151, 201, 251, 301, 351, 401, 451, 501, 551, 601,\n",
       "       651, 701, 751, 801, 851, 901, 951])},\n",
       "             refit='precision_score', return_train_score=True,\n",
       "             scoring='precision', verbose=1)"
      ]
     },
     "metadata": {},
     "execution_count": 130
    }
   ],
   "source": [
    "DT_GS.fit(X_train_OS, y_train_OS)"
   ]
  },
  {
   "cell_type": "code",
   "execution_count": 131,
   "metadata": {},
   "outputs": [
    {
     "output_type": "execute_result",
     "data": {
      "text/plain": [
       "{'algo__max_depth': 30, 'algo__min_samples_leaf': 1}"
      ]
     },
     "metadata": {},
     "execution_count": 131
    }
   ],
   "source": [
    "DT_GS.best_params_"
   ]
  },
  {
   "cell_type": "code",
   "execution_count": 114,
   "metadata": {},
   "outputs": [
    {
     "output_type": "execute_result",
     "data": {
      "text/plain": [
       "Index(['mean_fit_time', 'std_fit_time', 'mean_score_time', 'std_score_time',\n",
       "       'param_algo__max_depth', 'param_algo__min_samples_leaf', 'params',\n",
       "       'split0_test_score', 'split1_test_score', 'split2_test_score',\n",
       "       'mean_test_score', 'std_test_score', 'rank_test_score',\n",
       "       'split0_train_score', 'split1_train_score', 'split2_train_score',\n",
       "       'mean_train_score', 'std_train_score'],\n",
       "      dtype='object')"
      ]
     },
     "metadata": {},
     "execution_count": 114
    }
   ],
   "source": [
    "pd.DataFrame(DT_GS.cv_results_).columns"
   ]
  },
  {
   "cell_type": "code",
   "execution_count": 115,
   "metadata": {},
   "outputs": [
    {
     "output_type": "error",
     "ename": "KeyError",
     "evalue": "\"['mean_test_precision_score', 'mean_test_recall_score', 'param_algo__class_weight'] not in index\"",
     "traceback": [
      "\u001b[1;31m---------------------------------------------------------------------------\u001b[0m",
      "\u001b[1;31mKeyError\u001b[0m                                  Traceback (most recent call last)",
      "\u001b[1;32m<ipython-input-115-1fbc3a2ae487>\u001b[0m in \u001b[0;36m<module>\u001b[1;34m\u001b[0m\n\u001b[1;32m----> 1\u001b[1;33m \u001b[0mtab_hyper_DT\u001b[0m \u001b[1;33m=\u001b[0m \u001b[0mpd\u001b[0m\u001b[1;33m.\u001b[0m\u001b[0mDataFrame\u001b[0m\u001b[1;33m(\u001b[0m\u001b[0mDT_GS\u001b[0m\u001b[1;33m.\u001b[0m\u001b[0mcv_results_\u001b[0m\u001b[1;33m)\u001b[0m\u001b[1;33m[\u001b[0m\u001b[1;33m[\u001b[0m\u001b[1;34m'param_algo__max_depth'\u001b[0m\u001b[1;33m,\u001b[0m \u001b[1;34m'param_algo__min_samples_leaf'\u001b[0m\u001b[1;33m,\u001b[0m \u001b[1;34m'param_algo__class_weight'\u001b[0m\u001b[1;33m,\u001b[0m \u001b[1;34m'mean_test_precision_score'\u001b[0m\u001b[1;33m,\u001b[0m \u001b[1;34m'mean_test_recall_score'\u001b[0m\u001b[1;33m]\u001b[0m\u001b[1;33m]\u001b[0m\u001b[1;33m\u001b[0m\u001b[1;33m\u001b[0m\u001b[0m\n\u001b[0m\u001b[0;32m      2\u001b[0m \u001b[0mtab_hyper_DT\u001b[0m \u001b[1;33m=\u001b[0m \u001b[1;33m(\u001b[0m\u001b[0mtab_hyper_DT\u001b[0m\u001b[1;33m.\u001b[0m\u001b[0msort_values\u001b[0m\u001b[1;33m(\u001b[0m\u001b[0mby\u001b[0m\u001b[1;33m=\u001b[0m\u001b[1;34m'mean_test_precision_score'\u001b[0m\u001b[1;33m,\u001b[0m \u001b[0mascending\u001b[0m\u001b[1;33m=\u001b[0m\u001b[1;32mFalse\u001b[0m\u001b[1;33m)\u001b[0m\u001b[1;33m.\u001b[0m\u001b[0mreset_index\u001b[0m\u001b[1;33m(\u001b[0m\u001b[1;33m)\u001b[0m\u001b[1;33m)\u001b[0m\u001b[1;33m.\u001b[0m\u001b[0mdrop\u001b[0m\u001b[1;33m(\u001b[0m\u001b[0mcolumns\u001b[0m\u001b[1;33m=\u001b[0m\u001b[1;34m'index'\u001b[0m\u001b[1;33m)\u001b[0m\u001b[1;33m\u001b[0m\u001b[1;33m\u001b[0m\u001b[0m\n\u001b[0;32m      3\u001b[0m \u001b[0mtab_hyper_DT\u001b[0m\u001b[1;33m[\u001b[0m\u001b[1;33m(\u001b[0m\u001b[0mtab_hyper_DT\u001b[0m\u001b[1;33m[\u001b[0m\u001b[1;34m'mean_test_precision_score'\u001b[0m\u001b[1;33m]\u001b[0m \u001b[1;33m>\u001b[0m \u001b[1;36m0.8\u001b[0m\u001b[1;33m)\u001b[0m \u001b[1;33m&\u001b[0m \u001b[1;33m(\u001b[0m\u001b[0mtab_hyper_DT\u001b[0m\u001b[1;33m[\u001b[0m\u001b[1;34m'mean_test_recall_score'\u001b[0m\u001b[1;33m]\u001b[0m \u001b[1;33m<\u001b[0m \u001b[1;36m0.95\u001b[0m\u001b[1;33m)\u001b[0m\u001b[1;33m]\u001b[0m\u001b[1;33m\u001b[0m\u001b[1;33m\u001b[0m\u001b[0m\n",
      "\u001b[1;32m~\\AppData\\Local\\Programs\\Python\\Python39\\lib\\site-packages\\pandas\\core\\frame.py\u001b[0m in \u001b[0;36m__getitem__\u001b[1;34m(self, key)\u001b[0m\n\u001b[0;32m   3028\u001b[0m             \u001b[1;32mif\u001b[0m \u001b[0mis_iterator\u001b[0m\u001b[1;33m(\u001b[0m\u001b[0mkey\u001b[0m\u001b[1;33m)\u001b[0m\u001b[1;33m:\u001b[0m\u001b[1;33m\u001b[0m\u001b[1;33m\u001b[0m\u001b[0m\n\u001b[0;32m   3029\u001b[0m                 \u001b[0mkey\u001b[0m \u001b[1;33m=\u001b[0m \u001b[0mlist\u001b[0m\u001b[1;33m(\u001b[0m\u001b[0mkey\u001b[0m\u001b[1;33m)\u001b[0m\u001b[1;33m\u001b[0m\u001b[1;33m\u001b[0m\u001b[0m\n\u001b[1;32m-> 3030\u001b[1;33m             \u001b[0mindexer\u001b[0m \u001b[1;33m=\u001b[0m \u001b[0mself\u001b[0m\u001b[1;33m.\u001b[0m\u001b[0mloc\u001b[0m\u001b[1;33m.\u001b[0m\u001b[0m_get_listlike_indexer\u001b[0m\u001b[1;33m(\u001b[0m\u001b[0mkey\u001b[0m\u001b[1;33m,\u001b[0m \u001b[0maxis\u001b[0m\u001b[1;33m=\u001b[0m\u001b[1;36m1\u001b[0m\u001b[1;33m,\u001b[0m \u001b[0mraise_missing\u001b[0m\u001b[1;33m=\u001b[0m\u001b[1;32mTrue\u001b[0m\u001b[1;33m)\u001b[0m\u001b[1;33m[\u001b[0m\u001b[1;36m1\u001b[0m\u001b[1;33m]\u001b[0m\u001b[1;33m\u001b[0m\u001b[1;33m\u001b[0m\u001b[0m\n\u001b[0m\u001b[0;32m   3031\u001b[0m \u001b[1;33m\u001b[0m\u001b[0m\n\u001b[0;32m   3032\u001b[0m         \u001b[1;31m# take() does not accept boolean indexers\u001b[0m\u001b[1;33m\u001b[0m\u001b[1;33m\u001b[0m\u001b[1;33m\u001b[0m\u001b[0m\n",
      "\u001b[1;32m~\\AppData\\Local\\Programs\\Python\\Python39\\lib\\site-packages\\pandas\\core\\indexing.py\u001b[0m in \u001b[0;36m_get_listlike_indexer\u001b[1;34m(self, key, axis, raise_missing)\u001b[0m\n\u001b[0;32m   1264\u001b[0m             \u001b[0mkeyarr\u001b[0m\u001b[1;33m,\u001b[0m \u001b[0mindexer\u001b[0m\u001b[1;33m,\u001b[0m \u001b[0mnew_indexer\u001b[0m \u001b[1;33m=\u001b[0m \u001b[0max\u001b[0m\u001b[1;33m.\u001b[0m\u001b[0m_reindex_non_unique\u001b[0m\u001b[1;33m(\u001b[0m\u001b[0mkeyarr\u001b[0m\u001b[1;33m)\u001b[0m\u001b[1;33m\u001b[0m\u001b[1;33m\u001b[0m\u001b[0m\n\u001b[0;32m   1265\u001b[0m \u001b[1;33m\u001b[0m\u001b[0m\n\u001b[1;32m-> 1266\u001b[1;33m         \u001b[0mself\u001b[0m\u001b[1;33m.\u001b[0m\u001b[0m_validate_read_indexer\u001b[0m\u001b[1;33m(\u001b[0m\u001b[0mkeyarr\u001b[0m\u001b[1;33m,\u001b[0m \u001b[0mindexer\u001b[0m\u001b[1;33m,\u001b[0m \u001b[0maxis\u001b[0m\u001b[1;33m,\u001b[0m \u001b[0mraise_missing\u001b[0m\u001b[1;33m=\u001b[0m\u001b[0mraise_missing\u001b[0m\u001b[1;33m)\u001b[0m\u001b[1;33m\u001b[0m\u001b[1;33m\u001b[0m\u001b[0m\n\u001b[0m\u001b[0;32m   1267\u001b[0m         \u001b[1;32mreturn\u001b[0m \u001b[0mkeyarr\u001b[0m\u001b[1;33m,\u001b[0m \u001b[0mindexer\u001b[0m\u001b[1;33m\u001b[0m\u001b[1;33m\u001b[0m\u001b[0m\n\u001b[0;32m   1268\u001b[0m \u001b[1;33m\u001b[0m\u001b[0m\n",
      "\u001b[1;32m~\\AppData\\Local\\Programs\\Python\\Python39\\lib\\site-packages\\pandas\\core\\indexing.py\u001b[0m in \u001b[0;36m_validate_read_indexer\u001b[1;34m(self, key, indexer, axis, raise_missing)\u001b[0m\n\u001b[0;32m   1314\u001b[0m             \u001b[1;32mif\u001b[0m \u001b[0mraise_missing\u001b[0m\u001b[1;33m:\u001b[0m\u001b[1;33m\u001b[0m\u001b[1;33m\u001b[0m\u001b[0m\n\u001b[0;32m   1315\u001b[0m                 \u001b[0mnot_found\u001b[0m \u001b[1;33m=\u001b[0m \u001b[0mlist\u001b[0m\u001b[1;33m(\u001b[0m\u001b[0mset\u001b[0m\u001b[1;33m(\u001b[0m\u001b[0mkey\u001b[0m\u001b[1;33m)\u001b[0m \u001b[1;33m-\u001b[0m \u001b[0mset\u001b[0m\u001b[1;33m(\u001b[0m\u001b[0max\u001b[0m\u001b[1;33m)\u001b[0m\u001b[1;33m)\u001b[0m\u001b[1;33m\u001b[0m\u001b[1;33m\u001b[0m\u001b[0m\n\u001b[1;32m-> 1316\u001b[1;33m                 \u001b[1;32mraise\u001b[0m \u001b[0mKeyError\u001b[0m\u001b[1;33m(\u001b[0m\u001b[1;34mf\"{not_found} not in index\"\u001b[0m\u001b[1;33m)\u001b[0m\u001b[1;33m\u001b[0m\u001b[1;33m\u001b[0m\u001b[0m\n\u001b[0m\u001b[0;32m   1317\u001b[0m \u001b[1;33m\u001b[0m\u001b[0m\n\u001b[0;32m   1318\u001b[0m             \u001b[0mnot_found\u001b[0m \u001b[1;33m=\u001b[0m \u001b[0mkey\u001b[0m\u001b[1;33m[\u001b[0m\u001b[0mmissing_mask\u001b[0m\u001b[1;33m]\u001b[0m\u001b[1;33m\u001b[0m\u001b[1;33m\u001b[0m\u001b[0m\n",
      "\u001b[1;31mKeyError\u001b[0m: \"['mean_test_precision_score', 'mean_test_recall_score', 'param_algo__class_weight'] not in index\""
     ]
    }
   ],
   "source": [
    "tab_hyper_DT = pd.DataFrame(DT_GS.cv_results_)[['param_algo__max_depth', 'param_algo__min_samples_leaf', 'param_algo__class_weight', 'mean_test_precision_score', 'mean_test_recall_score']]\n",
    "tab_hyper_DT = (tab_hyper_DT.sort_values(by='mean_test_precision_score', ascending=False).reset_index()).drop(columns='index')\n",
    "tab_hyper_DT[(tab_hyper_DT['mean_test_precision_score'] > 0.8) & (tab_hyper_DT['mean_test_recall_score'] < 0.95)]"
   ]
  },
  {
   "cell_type": "markdown",
   "metadata": {},
   "source": [
    "______________\n",
    "_UNTUK yng best estimator_\n",
    "_____________"
   ]
  },
  {
   "cell_type": "code",
   "execution_count": 125,
   "metadata": {},
   "outputs": [],
   "source": [
    "DT_Tune = DT_GS.best_estimator_"
   ]
  },
  {
   "cell_type": "code",
   "execution_count": 126,
   "metadata": {},
   "outputs": [
    {
     "output_type": "execute_result",
     "data": {
      "text/plain": [
       "Pipeline(steps=[('prep',\n",
       "                 ColumnTransformer(transformers=[('numeric',\n",
       "                                                  Pipeline(steps=[('scaler',\n",
       "                                                                   RobustScaler())]),\n",
       "                                                  ['campaign', 'pdays',\n",
       "                                                   'previous', 'emp.var.rate',\n",
       "                                                   'cons.price.idx',\n",
       "                                                   'cons.conf.idx', 'euribor3m',\n",
       "                                                   'nr.employed']),\n",
       "                                                 ('categorical',\n",
       "                                                  Pipeline(steps=[('encoder',\n",
       "                                                                   OneHotEncoder())]),\n",
       "                                                  ['job', 'marital',\n",
       "                                                   'education', 'default',\n",
       "                                                   'housing', 'loan', 'contact',\n",
       "                                                   'month', 'day_of_week',\n",
       "                                                   'poutcome', 'age_bin',\n",
       "                                                   'duration_bin'])])),\n",
       "                ('algo',\n",
       "                 DecisionTreeClassifier(max_depth=30, max_features=0.4,\n",
       "                                        random_state=42))])"
      ]
     },
     "metadata": {},
     "execution_count": 126
    }
   ],
   "source": [
    "DT_Tune.fit(X_train_OS, y_train_OS)"
   ]
  },
  {
   "cell_type": "code",
   "execution_count": 127,
   "metadata": {},
   "outputs": [
    {
     "output_type": "stream",
     "name": "stdout",
     "text": [
      "Classification report data TEST DT Tuning best estimator\n",
      "\n",
      "               precision    recall  f1-score   support\n",
      "\n",
      "           0       0.94      0.94      0.94      7310\n",
      "           1       0.52      0.52      0.52       928\n",
      "\n",
      "    accuracy                           0.89      8238\n",
      "   macro avg       0.73      0.73      0.73      8238\n",
      "weighted avg       0.89      0.89      0.89      8238\n",
      "\n",
      "Classification report data TRAIN DT Tuning best estimator\n",
      "\n",
      "               precision    recall  f1-score   support\n",
      "\n",
      "           0       1.00      0.99      1.00     29238\n",
      "           1       0.99      1.00      1.00     29238\n",
      "\n",
      "    accuracy                           1.00     58476\n",
      "   macro avg       1.00      1.00      1.00     58476\n",
      "weighted avg       1.00      1.00      1.00     58476\n",
      "\n",
      "Confusion matrix data test DT Tuning best estimator\n",
      "\n"
     ]
    },
    {
     "output_type": "execute_result",
     "data": {
      "text/plain": [
       "      Pred1  Pred0\n",
       "Akt1    487    441\n",
       "Akt0    457   6853"
      ],
      "text/html": "<div>\n<style scoped>\n    .dataframe tbody tr th:only-of-type {\n        vertical-align: middle;\n    }\n\n    .dataframe tbody tr th {\n        vertical-align: top;\n    }\n\n    .dataframe thead th {\n        text-align: right;\n    }\n</style>\n<table border=\"1\" class=\"dataframe\">\n  <thead>\n    <tr style=\"text-align: right;\">\n      <th></th>\n      <th>Pred1</th>\n      <th>Pred0</th>\n    </tr>\n  </thead>\n  <tbody>\n    <tr>\n      <th>Akt1</th>\n      <td>487</td>\n      <td>441</td>\n    </tr>\n    <tr>\n      <th>Akt0</th>\n      <td>457</td>\n      <td>6853</td>\n    </tr>\n  </tbody>\n</table>\n</div>"
     },
     "metadata": {},
     "execution_count": 127
    }
   ],
   "source": [
    "conf_mat(DT_Tune, X_train_OS, X_test, y_train_OS, y_test, 'DT Tuning best estimator')"
   ]
  },
  {
   "cell_type": "markdown",
   "metadata": {},
   "source": [
    "______________\n",
    "_{\n",
    "    'algo__max_depth': 25,\n",
    "    'algo__min_samples_leaf': 6,\n",
    "    'algo__class_weight': None\n",
    "}_\n",
    "_____________"
   ]
  },
  {
   "cell_type": "code",
   "execution_count": 98,
   "metadata": {},
   "outputs": [],
   "source": [
    "pipe_DT_1 = Pipeline([\n",
    "    ('prep', preprocessor),\n",
    "    ('algo', DecisionTreeClassifier(max_depth=25, min_samples_leaf=6, random_state=42))\n",
    "])"
   ]
  },
  {
   "cell_type": "code",
   "execution_count": 99,
   "metadata": {},
   "outputs": [
    {
     "output_type": "execute_result",
     "data": {
      "text/plain": [
       "Pipeline(steps=[('prep',\n",
       "                 ColumnTransformer(transformers=[('numeric',\n",
       "                                                  Pipeline(steps=[('scaler',\n",
       "                                                                   RobustScaler())]),\n",
       "                                                  ['campaign', 'pdays',\n",
       "                                                   'previous', 'emp.var.rate',\n",
       "                                                   'cons.price.idx',\n",
       "                                                   'cons.conf.idx', 'euribor3m',\n",
       "                                                   'nr.employed']),\n",
       "                                                 ('categorical',\n",
       "                                                  Pipeline(steps=[('encoder',\n",
       "                                                                   OneHotEncoder())]),\n",
       "                                                  ['job', 'marital',\n",
       "                                                   'education', 'default',\n",
       "                                                   'housing', 'loan', 'contact',\n",
       "                                                   'month', 'day_of_week',\n",
       "                                                   'poutcome', 'age_bin',\n",
       "                                                   'duration_bin'])])),\n",
       "                ('algo',\n",
       "                 DecisionTreeClassifier(max_depth=25, min_samples_leaf=6,\n",
       "                                        random_state=42))])"
      ]
     },
     "metadata": {},
     "execution_count": 99
    }
   ],
   "source": [
    "pipe_DT_1.fit(X_train_OS, y_train_OS)"
   ]
  },
  {
   "cell_type": "code",
   "execution_count": 100,
   "metadata": {},
   "outputs": [
    {
     "output_type": "stream",
     "name": "stdout",
     "text": [
      "Classification report data TEST DT Tuning 1\n",
      "\n",
      "               precision    recall  f1-score   support\n",
      "\n",
      "           0       0.96      0.90      0.93      7310\n",
      "           1       0.47      0.73      0.58       928\n",
      "\n",
      "    accuracy                           0.88      8238\n",
      "   macro avg       0.72      0.82      0.75      8238\n",
      "weighted avg       0.91      0.88      0.89      8238\n",
      "\n",
      "Classification report data TRAIN DT Tuning 1\n",
      "\n",
      "               precision    recall  f1-score   support\n",
      "\n",
      "           0       0.98      0.93      0.95     29238\n",
      "           1       0.93      0.98      0.96     29238\n",
      "\n",
      "    accuracy                           0.96     58476\n",
      "   macro avg       0.96      0.96      0.96     58476\n",
      "weighted avg       0.96      0.96      0.96     58476\n",
      "\n",
      "Confusion matrix data test DT Tuning 1\n",
      "\n"
     ]
    },
    {
     "output_type": "execute_result",
     "data": {
      "text/plain": [
       "      Pred1  Pred0\n",
       "Akt1    681    247\n",
       "Akt0    756   6554"
      ],
      "text/html": "<div>\n<style scoped>\n    .dataframe tbody tr th:only-of-type {\n        vertical-align: middle;\n    }\n\n    .dataframe tbody tr th {\n        vertical-align: top;\n    }\n\n    .dataframe thead th {\n        text-align: right;\n    }\n</style>\n<table border=\"1\" class=\"dataframe\">\n  <thead>\n    <tr style=\"text-align: right;\">\n      <th></th>\n      <th>Pred1</th>\n      <th>Pred0</th>\n    </tr>\n  </thead>\n  <tbody>\n    <tr>\n      <th>Akt1</th>\n      <td>681</td>\n      <td>247</td>\n    </tr>\n    <tr>\n      <th>Akt0</th>\n      <td>756</td>\n      <td>6554</td>\n    </tr>\n  </tbody>\n</table>\n</div>"
     },
     "metadata": {},
     "execution_count": 100
    }
   ],
   "source": [
    "conf_mat(pipe_DT_1, X_train_OS, X_test, y_train_OS, y_test, 'DT Tuning 1')"
   ]
  },
  {
   "cell_type": "code",
   "execution_count": null,
   "metadata": {},
   "outputs": [],
   "source": []
  }
 ],
 "metadata": {
  "kernelspec": {
   "name": "python391jvsc74a57bd016eaa9c78330dbff9d978062bbaa00e6eef6ecc6465f57448e7de05ceee588fd",
   "display_name": "Python 3.9.1 64-bit"
  },
  "language_info": {
   "codemirror_mode": {
    "name": "ipython",
    "version": 3
   },
   "file_extension": ".py",
   "mimetype": "text/x-python",
   "name": "python",
   "nbconvert_exporter": "python",
   "pygments_lexer": "ipython3",
   "version": "3.9.1"
  }
 },
 "nbformat": 4,
 "nbformat_minor": 4
}