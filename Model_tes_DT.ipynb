{
 "cells": [
  {
   "cell_type": "code",
   "execution_count": 1,
   "metadata": {},
   "outputs": [],
   "source": [
    "import numpy as np\n",
    "import pandas as pd\n",
    "import matplotlib.pyplot as plt\n",
    "import seaborn as sns\n",
    "import warnings\n",
    "warnings.filterwarnings('ignore')\n",
    "\n",
    "from sklearn.linear_model import LogisticRegression\n",
    "from sklearn.ensemble import RandomForestClassifier\n",
    "from sklearn.tree import DecisionTreeClassifier\n",
    "from sklearn.neighbors import KNeighborsClassifier\n",
    "from sklearn.svm import SVC\n",
    "\n",
    "from sklearn.metrics import make_scorer, recall_score, precision_score, confusion_matrix, classification_report\n",
    "from sklearn.preprocessing import RobustScaler, OneHotEncoder, PowerTransformer, PolynomialFeatures\n",
    "from sklearn.pipeline import Pipeline\n",
    "from sklearn.compose import ColumnTransformer\n",
    "from sklearn.utils import resample\n",
    "\n",
    "from sklearn.model_selection import train_test_split, StratifiedKFold, GridSearchCV, RandomizedSearchCV\n",
    "import imblearn\n",
    "from imblearn.over_sampling import SMOTE\n",
    "pd.set_option('display.max_columns', None)\n",
    "\n",
    "import joblib"
   ]
  },
  {
   "cell_type": "markdown",
   "metadata": {},
   "source": [
    "https://www.kaggle.com/volodymyrgavrysh/bank-marketing-campaigns-dataset"
   ]
  },
  {
   "cell_type": "markdown",
   "metadata": {},
   "source": [
    "__Conducted campaigns were based mostly on direct phone calls, offering bank client to place a term deposit.\n",
    "If after all marking afforts client had agreed to place deposit - target variable marked 'yes', otherwise 'no'__"
   ]
  },
  {
   "cell_type": "markdown",
   "metadata": {},
   "source": [
    "# Feature Desc\n",
    "\n",
    "### bank client data:\n",
    "\n",
    "1. age\n",
    "    - (numeric)\n",
    "\n",
    "2. job : type of job \n",
    "    - (categorical: \"admin.\",\"blue-collar\",\"entrepreneur\",\"housemaid\",\"management\",\"retired\",\"self-employed\",\"services\",\"student\",\"technician\",\"unemployed\",\"unknown\")\n",
    "\n",
    "3. marital : marital status \n",
    "    - (categorical: \"divorced\",\"married\",\"single\",\"unknown\"; note: \"divorced\" means divorced or widowed)\n",
    "\n",
    "4. education \n",
    "    - (categorical: \"basic.4y\",\"basic.6y\",\"basic.9y\",\"high.school\",\"illiterate\",\"professional.course\",\"university.degree\",\"unknown\")\n",
    "\n",
    "5. default: has credit in default? (lalai bayar (?))\n",
    "    - (categorical: \"no\",\"yes\",\"unknown\")\n",
    "\n",
    "6. housing: has housing loan? \n",
    "    - (categorical: \"no\",\"yes\",\"unknown\")\n",
    "\n",
    "7. loan: has personal loan?\n",
    "    - (categorical: \"no\",\"yes\",\"unknown\")\n",
    "    \n",
    "### related with the last contact of the current campaign:\n",
    "8. contact: contact communication type\n",
    "    - (categorical: \"cellular\",\"telephone\")\n",
    "9. month: last contact month of year\n",
    "    - (categorical: \"jan\", \"feb\", \"mar\", …, \"nov\", \"dec\")\n",
    "\n",
    "10. dayofweek: last contact day of the week\n",
    "    - (categorical: \"mon\",\"tue\",\"wed\",\"thu\",\"fri\")\n",
    "\n",
    "11. duration: last contact duration, in seconds (numeric). ==> (obvious feature (?))\n",
    "    - __Important note__: this attribute highly affects the output target (e.g., if duration=0 then y=\"no\"). \n",
    "    - Yet, the duration is not known before a call is performed. Also, after the end of the call y is obviously known. Thus, this input should only be included for benchmark purposes and should be discarded if the intention is to have a realistic predictive model.\n",
    "\n",
    "### other attributes:\n",
    "12. campaign: number of contacts performed during this campaign and for this client \n",
    "    - (numeric, includes last contact)\n",
    "\n",
    "13. pdays: number of days that passed by after the client was last contacted from a previous campaign\n",
    "    - (numeric; 999 means client was not previously contacted)\n",
    "\n",
    "14. previous: number of contacts performed before this campaign and for this client\n",
    "    - (numeric)\n",
    "\n",
    "15. poutcome: outcome of the previous marketing campaign \n",
    "    - (categorical: \"failure\",\"nonexistent\",\"success\")\n",
    "\n",
    "### social and economic context attributes\n",
    "16. emp.var.rate: employment variation rate - quarterly indicator (???)\n",
    "    - (numeric)\n",
    "\n",
    "17. cons.price.idx: consumer price index - monthly indicator\n",
    "    - changes in the price level of a weighted average __market basket__ of consumer goods and services purchased by households\n",
    "    - affect inflation\n",
    "    - (numeric)\n",
    "\n",
    "18. cons.conf.idx: consumer confidence index - monthly indicator\n",
    "    - degree of __consumers optimism__ are expressing through their activities of savings and spending.\n",
    "    - affect consumer behavior\n",
    "    - (numeric)\n",
    "\n",
    "19. euribor3m: euribor 3 month rate - daily indicator\n",
    "    - Euribor (euro interbank offered rate)\n",
    "    - ??\n",
    "    - (numeric)\n",
    "\n",
    "20. nr.employed: number of employees - quarterly indicator\n",
    "    - Number of employed persons for a quarter. (for the bank ??)\n",
    "    - (numeric)\n",
    "\n",
    "### Output variable (desired target):\n",
    "\n",
    "21. y - has the client subscribed a term deposit?\n",
    "    - (binary: \"yes\",\"no\")"
   ]
  },
  {
   "cell_type": "code",
   "execution_count": 2,
   "metadata": {},
   "outputs": [
    {
     "output_type": "execute_result",
     "data": {
      "text/plain": [
       "   age        job  marital    education  default housing loan    contact  \\\n",
       "0   56  housemaid  married     basic.4y       no      no   no  telephone   \n",
       "1   57   services  married  high.school  unknown      no   no  telephone   \n",
       "2   37   services  married  high.school       no     yes   no  telephone   \n",
       "3   40     admin.  married     basic.6y       no      no   no  telephone   \n",
       "4   56   services  married  high.school       no      no  yes  telephone   \n",
       "\n",
       "  month day_of_week  duration  campaign  pdays  previous     poutcome  \\\n",
       "0   may         mon       261         1    999         0  nonexistent   \n",
       "1   may         mon       149         1    999         0  nonexistent   \n",
       "2   may         mon       226         1    999         0  nonexistent   \n",
       "3   may         mon       151         1    999         0  nonexistent   \n",
       "4   may         mon       307         1    999         0  nonexistent   \n",
       "\n",
       "   emp.var.rate  cons.price.idx  cons.conf.idx  euribor3m  nr.employed   y  \n",
       "0           1.1          93.994          -36.4      4.857       5191.0  no  \n",
       "1           1.1          93.994          -36.4      4.857       5191.0  no  \n",
       "2           1.1          93.994          -36.4      4.857       5191.0  no  \n",
       "3           1.1          93.994          -36.4      4.857       5191.0  no  \n",
       "4           1.1          93.994          -36.4      4.857       5191.0  no  "
      ],
      "text/html": "<div>\n<style scoped>\n    .dataframe tbody tr th:only-of-type {\n        vertical-align: middle;\n    }\n\n    .dataframe tbody tr th {\n        vertical-align: top;\n    }\n\n    .dataframe thead th {\n        text-align: right;\n    }\n</style>\n<table border=\"1\" class=\"dataframe\">\n  <thead>\n    <tr style=\"text-align: right;\">\n      <th></th>\n      <th>age</th>\n      <th>job</th>\n      <th>marital</th>\n      <th>education</th>\n      <th>default</th>\n      <th>housing</th>\n      <th>loan</th>\n      <th>contact</th>\n      <th>month</th>\n      <th>day_of_week</th>\n      <th>duration</th>\n      <th>campaign</th>\n      <th>pdays</th>\n      <th>previous</th>\n      <th>poutcome</th>\n      <th>emp.var.rate</th>\n      <th>cons.price.idx</th>\n      <th>cons.conf.idx</th>\n      <th>euribor3m</th>\n      <th>nr.employed</th>\n      <th>y</th>\n    </tr>\n  </thead>\n  <tbody>\n    <tr>\n      <th>0</th>\n      <td>56</td>\n      <td>housemaid</td>\n      <td>married</td>\n      <td>basic.4y</td>\n      <td>no</td>\n      <td>no</td>\n      <td>no</td>\n      <td>telephone</td>\n      <td>may</td>\n      <td>mon</td>\n      <td>261</td>\n      <td>1</td>\n      <td>999</td>\n      <td>0</td>\n      <td>nonexistent</td>\n      <td>1.1</td>\n      <td>93.994</td>\n      <td>-36.4</td>\n      <td>4.857</td>\n      <td>5191.0</td>\n      <td>no</td>\n    </tr>\n    <tr>\n      <th>1</th>\n      <td>57</td>\n      <td>services</td>\n      <td>married</td>\n      <td>high.school</td>\n      <td>unknown</td>\n      <td>no</td>\n      <td>no</td>\n      <td>telephone</td>\n      <td>may</td>\n      <td>mon</td>\n      <td>149</td>\n      <td>1</td>\n      <td>999</td>\n      <td>0</td>\n      <td>nonexistent</td>\n      <td>1.1</td>\n      <td>93.994</td>\n      <td>-36.4</td>\n      <td>4.857</td>\n      <td>5191.0</td>\n      <td>no</td>\n    </tr>\n    <tr>\n      <th>2</th>\n      <td>37</td>\n      <td>services</td>\n      <td>married</td>\n      <td>high.school</td>\n      <td>no</td>\n      <td>yes</td>\n      <td>no</td>\n      <td>telephone</td>\n      <td>may</td>\n      <td>mon</td>\n      <td>226</td>\n      <td>1</td>\n      <td>999</td>\n      <td>0</td>\n      <td>nonexistent</td>\n      <td>1.1</td>\n      <td>93.994</td>\n      <td>-36.4</td>\n      <td>4.857</td>\n      <td>5191.0</td>\n      <td>no</td>\n    </tr>\n    <tr>\n      <th>3</th>\n      <td>40</td>\n      <td>admin.</td>\n      <td>married</td>\n      <td>basic.6y</td>\n      <td>no</td>\n      <td>no</td>\n      <td>no</td>\n      <td>telephone</td>\n      <td>may</td>\n      <td>mon</td>\n      <td>151</td>\n      <td>1</td>\n      <td>999</td>\n      <td>0</td>\n      <td>nonexistent</td>\n      <td>1.1</td>\n      <td>93.994</td>\n      <td>-36.4</td>\n      <td>4.857</td>\n      <td>5191.0</td>\n      <td>no</td>\n    </tr>\n    <tr>\n      <th>4</th>\n      <td>56</td>\n      <td>services</td>\n      <td>married</td>\n      <td>high.school</td>\n      <td>no</td>\n      <td>no</td>\n      <td>yes</td>\n      <td>telephone</td>\n      <td>may</td>\n      <td>mon</td>\n      <td>307</td>\n      <td>1</td>\n      <td>999</td>\n      <td>0</td>\n      <td>nonexistent</td>\n      <td>1.1</td>\n      <td>93.994</td>\n      <td>-36.4</td>\n      <td>4.857</td>\n      <td>5191.0</td>\n      <td>no</td>\n    </tr>\n  </tbody>\n</table>\n</div>"
     },
     "metadata": {},
     "execution_count": 2
    }
   ],
   "source": [
    "df = pd.read_csv('bank-additional-full.csv', sep=';')\n",
    "df.head()"
   ]
  },
  {
   "cell_type": "code",
   "execution_count": 3,
   "metadata": {},
   "outputs": [],
   "source": [
    "df.education = df.education.apply(lambda x : x.replace(\".\", \" \"))"
   ]
  },
  {
   "cell_type": "markdown",
   "metadata": {},
   "source": [
    "# Data Description"
   ]
  },
  {
   "cell_type": "code",
   "execution_count": 4,
   "metadata": {},
   "outputs": [
    {
     "output_type": "execute_result",
     "data": {
      "text/plain": [
       "     Data Features Data Types  Null  Null Percentage  Unique  \\\n",
       "0              age      int64     0              0.0      78   \n",
       "1              job     object     0              0.0      12   \n",
       "2          marital     object     0              0.0       4   \n",
       "3        education     object     0              0.0       8   \n",
       "4          default     object     0              0.0       3   \n",
       "5          housing     object     0              0.0       3   \n",
       "6             loan     object     0              0.0       3   \n",
       "7          contact     object     0              0.0       2   \n",
       "8            month     object     0              0.0      10   \n",
       "9      day_of_week     object     0              0.0       5   \n",
       "10        duration      int64     0              0.0    1544   \n",
       "11        campaign      int64     0              0.0      42   \n",
       "12           pdays      int64     0              0.0      27   \n",
       "13        previous      int64     0              0.0       8   \n",
       "14        poutcome     object     0              0.0       3   \n",
       "15    emp.var.rate    float64     0              0.0      10   \n",
       "16  cons.price.idx    float64     0              0.0      26   \n",
       "17   cons.conf.idx    float64     0              0.0      26   \n",
       "18       euribor3m    float64     0              0.0     316   \n",
       "19     nr.employed    float64     0              0.0      11   \n",
       "20               y     object     0              0.0       2   \n",
       "\n",
       "                                 Unique Sample  \n",
       "0                                 [38, 55, 72]  \n",
       "1        [technician, blue-collar, unemployed]  \n",
       "2                  [divorced, single, unknown]  \n",
       "3   [illiterate, unknown, professional course]  \n",
       "4                           [no, unknown, yes]  \n",
       "5                           [no, yes, unknown]  \n",
       "6                           [no, yes, unknown]  \n",
       "7                        [telephone, cellular]  \n",
       "8                              [jun, oct, apr]  \n",
       "9                              [tue, mon, fri]  \n",
       "10                            [75, 1272, 1361]  \n",
       "11                                [40, 22, 12]  \n",
       "12                                 [14, 12, 8]  \n",
       "13                                   [0, 2, 7]  \n",
       "14             [nonexistent, failure, success]  \n",
       "15                           [-1.1, -3.0, 1.1]  \n",
       "16                    [93.994, 92.201, 92.649]  \n",
       "17                       [-33.6, -49.5, -39.8]  \n",
       "18                       [0.843, 1.556, 1.085]  \n",
       "19                    [4991.6, 5176.3, 5017.5]  \n",
       "20                                   [no, yes]  "
      ],
      "text/html": "<div>\n<style scoped>\n    .dataframe tbody tr th:only-of-type {\n        vertical-align: middle;\n    }\n\n    .dataframe tbody tr th {\n        vertical-align: top;\n    }\n\n    .dataframe thead th {\n        text-align: right;\n    }\n</style>\n<table border=\"1\" class=\"dataframe\">\n  <thead>\n    <tr style=\"text-align: right;\">\n      <th></th>\n      <th>Data Features</th>\n      <th>Data Types</th>\n      <th>Null</th>\n      <th>Null Percentage</th>\n      <th>Unique</th>\n      <th>Unique Sample</th>\n    </tr>\n  </thead>\n  <tbody>\n    <tr>\n      <th>0</th>\n      <td>age</td>\n      <td>int64</td>\n      <td>0</td>\n      <td>0.0</td>\n      <td>78</td>\n      <td>[38, 55, 72]</td>\n    </tr>\n    <tr>\n      <th>1</th>\n      <td>job</td>\n      <td>object</td>\n      <td>0</td>\n      <td>0.0</td>\n      <td>12</td>\n      <td>[technician, blue-collar, unemployed]</td>\n    </tr>\n    <tr>\n      <th>2</th>\n      <td>marital</td>\n      <td>object</td>\n      <td>0</td>\n      <td>0.0</td>\n      <td>4</td>\n      <td>[divorced, single, unknown]</td>\n    </tr>\n    <tr>\n      <th>3</th>\n      <td>education</td>\n      <td>object</td>\n      <td>0</td>\n      <td>0.0</td>\n      <td>8</td>\n      <td>[illiterate, unknown, professional course]</td>\n    </tr>\n    <tr>\n      <th>4</th>\n      <td>default</td>\n      <td>object</td>\n      <td>0</td>\n      <td>0.0</td>\n      <td>3</td>\n      <td>[no, unknown, yes]</td>\n    </tr>\n    <tr>\n      <th>5</th>\n      <td>housing</td>\n      <td>object</td>\n      <td>0</td>\n      <td>0.0</td>\n      <td>3</td>\n      <td>[no, yes, unknown]</td>\n    </tr>\n    <tr>\n      <th>6</th>\n      <td>loan</td>\n      <td>object</td>\n      <td>0</td>\n      <td>0.0</td>\n      <td>3</td>\n      <td>[no, yes, unknown]</td>\n    </tr>\n    <tr>\n      <th>7</th>\n      <td>contact</td>\n      <td>object</td>\n      <td>0</td>\n      <td>0.0</td>\n      <td>2</td>\n      <td>[telephone, cellular]</td>\n    </tr>\n    <tr>\n      <th>8</th>\n      <td>month</td>\n      <td>object</td>\n      <td>0</td>\n      <td>0.0</td>\n      <td>10</td>\n      <td>[jun, oct, apr]</td>\n    </tr>\n    <tr>\n      <th>9</th>\n      <td>day_of_week</td>\n      <td>object</td>\n      <td>0</td>\n      <td>0.0</td>\n      <td>5</td>\n      <td>[tue, mon, fri]</td>\n    </tr>\n    <tr>\n      <th>10</th>\n      <td>duration</td>\n      <td>int64</td>\n      <td>0</td>\n      <td>0.0</td>\n      <td>1544</td>\n      <td>[75, 1272, 1361]</td>\n    </tr>\n    <tr>\n      <th>11</th>\n      <td>campaign</td>\n      <td>int64</td>\n      <td>0</td>\n      <td>0.0</td>\n      <td>42</td>\n      <td>[40, 22, 12]</td>\n    </tr>\n    <tr>\n      <th>12</th>\n      <td>pdays</td>\n      <td>int64</td>\n      <td>0</td>\n      <td>0.0</td>\n      <td>27</td>\n      <td>[14, 12, 8]</td>\n    </tr>\n    <tr>\n      <th>13</th>\n      <td>previous</td>\n      <td>int64</td>\n      <td>0</td>\n      <td>0.0</td>\n      <td>8</td>\n      <td>[0, 2, 7]</td>\n    </tr>\n    <tr>\n      <th>14</th>\n      <td>poutcome</td>\n      <td>object</td>\n      <td>0</td>\n      <td>0.0</td>\n      <td>3</td>\n      <td>[nonexistent, failure, success]</td>\n    </tr>\n    <tr>\n      <th>15</th>\n      <td>emp.var.rate</td>\n      <td>float64</td>\n      <td>0</td>\n      <td>0.0</td>\n      <td>10</td>\n      <td>[-1.1, -3.0, 1.1]</td>\n    </tr>\n    <tr>\n      <th>16</th>\n      <td>cons.price.idx</td>\n      <td>float64</td>\n      <td>0</td>\n      <td>0.0</td>\n      <td>26</td>\n      <td>[93.994, 92.201, 92.649]</td>\n    </tr>\n    <tr>\n      <th>17</th>\n      <td>cons.conf.idx</td>\n      <td>float64</td>\n      <td>0</td>\n      <td>0.0</td>\n      <td>26</td>\n      <td>[-33.6, -49.5, -39.8]</td>\n    </tr>\n    <tr>\n      <th>18</th>\n      <td>euribor3m</td>\n      <td>float64</td>\n      <td>0</td>\n      <td>0.0</td>\n      <td>316</td>\n      <td>[0.843, 1.556, 1.085]</td>\n    </tr>\n    <tr>\n      <th>19</th>\n      <td>nr.employed</td>\n      <td>float64</td>\n      <td>0</td>\n      <td>0.0</td>\n      <td>11</td>\n      <td>[4991.6, 5176.3, 5017.5]</td>\n    </tr>\n    <tr>\n      <th>20</th>\n      <td>y</td>\n      <td>object</td>\n      <td>0</td>\n      <td>0.0</td>\n      <td>2</td>\n      <td>[no, yes]</td>\n    </tr>\n  </tbody>\n</table>\n</div>"
     },
     "metadata": {},
     "execution_count": 4
    }
   ],
   "source": [
    "dfDesc = []\n",
    "for i in df.columns:\n",
    "    if df[i].nunique() > 3 :\n",
    "        bla = df[i].drop_duplicates().sample(3).values\n",
    "    else :\n",
    "        bla = df[i].drop_duplicates().values\n",
    "    \n",
    "    dfDesc.append([\n",
    "        i,\n",
    "        df[i].dtypes,\n",
    "        df[i].isna().sum(),\n",
    "        round((((df[i].isna().sum()) / len(df)) * 100), 2),\n",
    "        df[i].nunique(),\n",
    "        bla\n",
    "    ])\n",
    "    \n",
    "pd.DataFrame(dfDesc, columns=[\n",
    "    \"Data Features\",\n",
    "    \"Data Types\",\n",
    "    \"Null\",\n",
    "    \"Null Percentage\",\n",
    "    \"Unique\",\n",
    "    \"Unique Sample\"\n",
    "])"
   ]
  },
  {
   "cell_type": "markdown",
   "metadata": {},
   "source": [
    "__Insisght__:\n",
    "- Tidak ada data null"
   ]
  },
  {
   "cell_type": "markdown",
   "metadata": {},
   "source": [
    "# Stats Description"
   ]
  },
  {
   "cell_type": "code",
   "execution_count": 5,
   "metadata": {},
   "outputs": [
    {
     "output_type": "execute_result",
     "data": {
      "text/plain": [
       "                  count         mean         std       min       25%  \\\n",
       "age             41188.0    40.024060   10.421250    17.000    32.000   \n",
       "duration        41188.0   258.285010  259.279249     0.000   102.000   \n",
       "campaign        41188.0     2.567593    2.770014     1.000     1.000   \n",
       "pdays           41188.0   962.475454  186.910907     0.000   999.000   \n",
       "previous        41188.0     0.172963    0.494901     0.000     0.000   \n",
       "emp.var.rate    41188.0     0.081886    1.570960    -3.400    -1.800   \n",
       "cons.price.idx  41188.0    93.575664    0.578840    92.201    93.075   \n",
       "cons.conf.idx   41188.0   -40.502600    4.628198   -50.800   -42.700   \n",
       "euribor3m       41188.0     3.621291    1.734447     0.634     1.344   \n",
       "nr.employed     41188.0  5167.035911   72.251528  4963.600  5099.100   \n",
       "\n",
       "                     50%       75%       max  \n",
       "age               38.000    47.000    98.000  \n",
       "duration         180.000   319.000  4918.000  \n",
       "campaign           2.000     3.000    56.000  \n",
       "pdays            999.000   999.000   999.000  \n",
       "previous           0.000     0.000     7.000  \n",
       "emp.var.rate       1.100     1.400     1.400  \n",
       "cons.price.idx    93.749    93.994    94.767  \n",
       "cons.conf.idx    -41.800   -36.400   -26.900  \n",
       "euribor3m          4.857     4.961     5.045  \n",
       "nr.employed     5191.000  5228.100  5228.100  "
      ],
      "text/html": "<div>\n<style scoped>\n    .dataframe tbody tr th:only-of-type {\n        vertical-align: middle;\n    }\n\n    .dataframe tbody tr th {\n        vertical-align: top;\n    }\n\n    .dataframe thead th {\n        text-align: right;\n    }\n</style>\n<table border=\"1\" class=\"dataframe\">\n  <thead>\n    <tr style=\"text-align: right;\">\n      <th></th>\n      <th>count</th>\n      <th>mean</th>\n      <th>std</th>\n      <th>min</th>\n      <th>25%</th>\n      <th>50%</th>\n      <th>75%</th>\n      <th>max</th>\n    </tr>\n  </thead>\n  <tbody>\n    <tr>\n      <th>age</th>\n      <td>41188.0</td>\n      <td>40.024060</td>\n      <td>10.421250</td>\n      <td>17.000</td>\n      <td>32.000</td>\n      <td>38.000</td>\n      <td>47.000</td>\n      <td>98.000</td>\n    </tr>\n    <tr>\n      <th>duration</th>\n      <td>41188.0</td>\n      <td>258.285010</td>\n      <td>259.279249</td>\n      <td>0.000</td>\n      <td>102.000</td>\n      <td>180.000</td>\n      <td>319.000</td>\n      <td>4918.000</td>\n    </tr>\n    <tr>\n      <th>campaign</th>\n      <td>41188.0</td>\n      <td>2.567593</td>\n      <td>2.770014</td>\n      <td>1.000</td>\n      <td>1.000</td>\n      <td>2.000</td>\n      <td>3.000</td>\n      <td>56.000</td>\n    </tr>\n    <tr>\n      <th>pdays</th>\n      <td>41188.0</td>\n      <td>962.475454</td>\n      <td>186.910907</td>\n      <td>0.000</td>\n      <td>999.000</td>\n      <td>999.000</td>\n      <td>999.000</td>\n      <td>999.000</td>\n    </tr>\n    <tr>\n      <th>previous</th>\n      <td>41188.0</td>\n      <td>0.172963</td>\n      <td>0.494901</td>\n      <td>0.000</td>\n      <td>0.000</td>\n      <td>0.000</td>\n      <td>0.000</td>\n      <td>7.000</td>\n    </tr>\n    <tr>\n      <th>emp.var.rate</th>\n      <td>41188.0</td>\n      <td>0.081886</td>\n      <td>1.570960</td>\n      <td>-3.400</td>\n      <td>-1.800</td>\n      <td>1.100</td>\n      <td>1.400</td>\n      <td>1.400</td>\n    </tr>\n    <tr>\n      <th>cons.price.idx</th>\n      <td>41188.0</td>\n      <td>93.575664</td>\n      <td>0.578840</td>\n      <td>92.201</td>\n      <td>93.075</td>\n      <td>93.749</td>\n      <td>93.994</td>\n      <td>94.767</td>\n    </tr>\n    <tr>\n      <th>cons.conf.idx</th>\n      <td>41188.0</td>\n      <td>-40.502600</td>\n      <td>4.628198</td>\n      <td>-50.800</td>\n      <td>-42.700</td>\n      <td>-41.800</td>\n      <td>-36.400</td>\n      <td>-26.900</td>\n    </tr>\n    <tr>\n      <th>euribor3m</th>\n      <td>41188.0</td>\n      <td>3.621291</td>\n      <td>1.734447</td>\n      <td>0.634</td>\n      <td>1.344</td>\n      <td>4.857</td>\n      <td>4.961</td>\n      <td>5.045</td>\n    </tr>\n    <tr>\n      <th>nr.employed</th>\n      <td>41188.0</td>\n      <td>5167.035911</td>\n      <td>72.251528</td>\n      <td>4963.600</td>\n      <td>5099.100</td>\n      <td>5191.000</td>\n      <td>5228.100</td>\n      <td>5228.100</td>\n    </tr>\n  </tbody>\n</table>\n</div>"
     },
     "metadata": {},
     "execution_count": 5
    }
   ],
   "source": [
    "df.describe().T"
   ]
  },
  {
   "cell_type": "code",
   "execution_count": 6,
   "metadata": {},
   "outputs": [
    {
     "output_type": "execute_result",
     "data": {
      "text/plain": [
       "           job  marital          education default housing   loan   contact  \\\n",
       "count    41188    41188              41188   41188   41188  41188     41188   \n",
       "unique      12        4                  8       3       3      3         2   \n",
       "top     admin.  married  university degree      no     yes     no  cellular   \n",
       "freq     10422    24928              12168   32588   21576  33950     26144   \n",
       "\n",
       "        month day_of_week     poutcome      y  \n",
       "count   41188       41188        41188  41188  \n",
       "unique     10           5            3      2  \n",
       "top       may         thu  nonexistent     no  \n",
       "freq    13769        8623        35563  36548  "
      ],
      "text/html": "<div>\n<style scoped>\n    .dataframe tbody tr th:only-of-type {\n        vertical-align: middle;\n    }\n\n    .dataframe tbody tr th {\n        vertical-align: top;\n    }\n\n    .dataframe thead th {\n        text-align: right;\n    }\n</style>\n<table border=\"1\" class=\"dataframe\">\n  <thead>\n    <tr style=\"text-align: right;\">\n      <th></th>\n      <th>job</th>\n      <th>marital</th>\n      <th>education</th>\n      <th>default</th>\n      <th>housing</th>\n      <th>loan</th>\n      <th>contact</th>\n      <th>month</th>\n      <th>day_of_week</th>\n      <th>poutcome</th>\n      <th>y</th>\n    </tr>\n  </thead>\n  <tbody>\n    <tr>\n      <th>count</th>\n      <td>41188</td>\n      <td>41188</td>\n      <td>41188</td>\n      <td>41188</td>\n      <td>41188</td>\n      <td>41188</td>\n      <td>41188</td>\n      <td>41188</td>\n      <td>41188</td>\n      <td>41188</td>\n      <td>41188</td>\n    </tr>\n    <tr>\n      <th>unique</th>\n      <td>12</td>\n      <td>4</td>\n      <td>8</td>\n      <td>3</td>\n      <td>3</td>\n      <td>3</td>\n      <td>2</td>\n      <td>10</td>\n      <td>5</td>\n      <td>3</td>\n      <td>2</td>\n    </tr>\n    <tr>\n      <th>top</th>\n      <td>admin.</td>\n      <td>married</td>\n      <td>university degree</td>\n      <td>no</td>\n      <td>yes</td>\n      <td>no</td>\n      <td>cellular</td>\n      <td>may</td>\n      <td>thu</td>\n      <td>nonexistent</td>\n      <td>no</td>\n    </tr>\n    <tr>\n      <th>freq</th>\n      <td>10422</td>\n      <td>24928</td>\n      <td>12168</td>\n      <td>32588</td>\n      <td>21576</td>\n      <td>33950</td>\n      <td>26144</td>\n      <td>13769</td>\n      <td>8623</td>\n      <td>35563</td>\n      <td>36548</td>\n    </tr>\n  </tbody>\n</table>\n</div>"
     },
     "metadata": {},
     "execution_count": 6
    }
   ],
   "source": [
    "df.describe(include='O')"
   ]
  },
  {
   "cell_type": "markdown",
   "metadata": {},
   "source": [
    "# Cek Imbalance Data dan Pembagian data numerik dan kategorik"
   ]
  },
  {
   "cell_type": "code",
   "execution_count": 7,
   "metadata": {},
   "outputs": [
    {
     "output_type": "execute_result",
     "data": {
      "text/plain": [
       "no     36548\n",
       "yes     4640\n",
       "Name: y, dtype: int64"
      ]
     },
     "metadata": {},
     "execution_count": 7
    }
   ],
   "source": [
    "df['y'].value_counts()"
   ]
  },
  {
   "cell_type": "code",
   "execution_count": 8,
   "metadata": {},
   "outputs": [],
   "source": [
    "num=['age', 'duration', 'campaign', 'pdays', 'previous', 'emp.var.rate', 'cons.price.idx', 'cons.conf.idx', 'euribor3m', 'nr.employed']\n",
    "cat=[i for i in df.columns if i not in num]"
   ]
  },
  {
   "cell_type": "markdown",
   "metadata": {},
   "source": [
    "# Cek Outliers"
   ]
  },
  {
   "cell_type": "code",
   "execution_count": 9,
   "metadata": {},
   "outputs": [
    {
     "output_type": "execute_result",
     "data": {
      "text/plain": [
       "    Data Features  Jumlah Outliers  Upper Fence  Lower Fence\n",
       "0             age              469      69.5000       9.5000\n",
       "1        duration             2963     644.5000    -223.5000\n",
       "2        campaign             2406       6.0000      -2.0000\n",
       "3           pdays             1515     999.0000     999.0000\n",
       "4        previous             5625       0.0000       0.0000\n",
       "5    emp.var.rate                0       6.2000      -6.6000\n",
       "6  cons.price.idx                0      95.3725      91.6965\n",
       "7   cons.conf.idx              447     -26.9500     -52.1500\n",
       "8       euribor3m                0      10.3865      -4.0815\n",
       "9     nr.employed                0    5421.6000    4905.6000"
      ],
      "text/html": "<div>\n<style scoped>\n    .dataframe tbody tr th:only-of-type {\n        vertical-align: middle;\n    }\n\n    .dataframe tbody tr th {\n        vertical-align: top;\n    }\n\n    .dataframe thead th {\n        text-align: right;\n    }\n</style>\n<table border=\"1\" class=\"dataframe\">\n  <thead>\n    <tr style=\"text-align: right;\">\n      <th></th>\n      <th>Data Features</th>\n      <th>Jumlah Outliers</th>\n      <th>Upper Fence</th>\n      <th>Lower Fence</th>\n    </tr>\n  </thead>\n  <tbody>\n    <tr>\n      <th>0</th>\n      <td>age</td>\n      <td>469</td>\n      <td>69.5000</td>\n      <td>9.5000</td>\n    </tr>\n    <tr>\n      <th>1</th>\n      <td>duration</td>\n      <td>2963</td>\n      <td>644.5000</td>\n      <td>-223.5000</td>\n    </tr>\n    <tr>\n      <th>2</th>\n      <td>campaign</td>\n      <td>2406</td>\n      <td>6.0000</td>\n      <td>-2.0000</td>\n    </tr>\n    <tr>\n      <th>3</th>\n      <td>pdays</td>\n      <td>1515</td>\n      <td>999.0000</td>\n      <td>999.0000</td>\n    </tr>\n    <tr>\n      <th>4</th>\n      <td>previous</td>\n      <td>5625</td>\n      <td>0.0000</td>\n      <td>0.0000</td>\n    </tr>\n    <tr>\n      <th>5</th>\n      <td>emp.var.rate</td>\n      <td>0</td>\n      <td>6.2000</td>\n      <td>-6.6000</td>\n    </tr>\n    <tr>\n      <th>6</th>\n      <td>cons.price.idx</td>\n      <td>0</td>\n      <td>95.3725</td>\n      <td>91.6965</td>\n    </tr>\n    <tr>\n      <th>7</th>\n      <td>cons.conf.idx</td>\n      <td>447</td>\n      <td>-26.9500</td>\n      <td>-52.1500</td>\n    </tr>\n    <tr>\n      <th>8</th>\n      <td>euribor3m</td>\n      <td>0</td>\n      <td>10.3865</td>\n      <td>-4.0815</td>\n    </tr>\n    <tr>\n      <th>9</th>\n      <td>nr.employed</td>\n      <td>0</td>\n      <td>5421.6000</td>\n      <td>4905.6000</td>\n    </tr>\n  </tbody>\n</table>\n</div>"
     },
     "metadata": {},
     "execution_count": 9
    }
   ],
   "source": [
    "Desc_outliers = []\n",
    "\n",
    "for i in df.describe().columns:\n",
    "    Q1 = df.describe()[i]['25%']\n",
    "    Q3 = df.describe()[i]['75%']\n",
    "    IQR = Q3 - Q1\n",
    "    upper_fence = Q3 + (1.5*IQR)\n",
    "    lower_fence = Q1 - (1.5*IQR)\n",
    "    hitung = 0\n",
    "    \n",
    "    for j in df[i]:\n",
    "        if (j < lower_fence) | (j > upper_fence) :\n",
    "            hitung+=1\n",
    "    Desc_outliers.append([\n",
    "        i,\n",
    "        hitung,\n",
    "        upper_fence,\n",
    "        lower_fence\n",
    "    ])\n",
    "\n",
    "out = pd.DataFrame(Desc_outliers, columns=[\n",
    "    \"Data Features\",\n",
    "    \"Jumlah Outliers\",\n",
    "    \"Upper Fence\",\n",
    "    \"Lower Fence\"\n",
    "])\n",
    "out"
   ]
  },
  {
   "cell_type": "markdown",
   "metadata": {},
   "source": [
    "__Insight__:\n",
    "\n",
    "- Pd kolom age, duration, campaign, pdays, previous dan cons.conf.idx memiliki outliers yg cukup banyak"
   ]
  },
  {
   "cell_type": "code",
   "execution_count": 10,
   "metadata": {},
   "outputs": [
    {
     "output_type": "execute_result",
     "data": {
      "text/plain": [
       "0    35563\n",
       "1     4561\n",
       "2      754\n",
       "3      216\n",
       "4       70\n",
       "5       18\n",
       "6        5\n",
       "7        1\n",
       "Name: previous, dtype: int64"
      ]
     },
     "metadata": {},
     "execution_count": 10
    }
   ],
   "source": [
    "df['previous'].value_counts()"
   ]
  },
  {
   "cell_type": "markdown",
   "metadata": {},
   "source": [
    "__Insight__:\n",
    "\n",
    "- Pd kolom pdays bentuk boxplotnya unik karena nilai 999 nya sangat lebih banyak dari nilai lainnya memiliki rentang yang jauh dengan 999\n",
    "- Pd kolom previous bentuk boxplotnya unik karena nilai 0 nya sangat lebih banyak dari niali lainnya. antar nilai memiliki rentang 1. "
   ]
  },
  {
   "cell_type": "markdown",
   "metadata": {},
   "source": [
    "# ML"
   ]
  },
  {
   "cell_type": "markdown",
   "metadata": {},
   "source": [
    "### GOALS \n",
    "\n",
    "__Nurunin jumlah False Positif__ \n",
    "\n",
    "__Naikin Nilai Precision kelas 1 (YES)__"
   ]
  },
  {
   "cell_type": "markdown",
   "metadata": {},
   "source": [
    "### PR\n",
    "\n",
    "1. coba label encoder untuk categorical\n",
    "\n",
    "2. coba di bin age, duration(per 180/3 meni, yng diatas 1000 jadi 1000++)"
   ]
  },
  {
   "cell_type": "markdown",
   "metadata": {},
   "source": [
    "## Binning Data\n",
    "\n",
    "Lakukan binning pada kolom age dan duration"
   ]
  },
  {
   "cell_type": "code",
   "execution_count": 11,
   "metadata": {},
   "outputs": [],
   "source": [
    "age_bin = [-1, 10, 20, 40, df['age'].max()] ## Membuat Kelompok Usia\n",
    "labels = ['Kids', 'Teenager', 'Adult', 'Elder'] ## Label untuk Kelompok Usia\n",
    "df['age_bin'] = pd.cut(df['age'], bins=age_bin, labels=labels)"
   ]
  },
  {
   "cell_type": "code",
   "execution_count": 12,
   "metadata": {},
   "outputs": [],
   "source": [
    "duration_bin = [-1, 180, 360, 540, 720, 900,df['duration'].max()]\n",
    "label_duration = ['0-180', '180-360', '360-540', '540-720', '720-900', '>900']\n",
    "df['duration_bin'] = pd.cut(df['duration'], bins=duration_bin, labels=label_duration)"
   ]
  },
  {
   "cell_type": "code",
   "execution_count": 13,
   "metadata": {},
   "outputs": [
    {
     "output_type": "execute_result",
     "data": {
      "text/plain": [
       "no     36548\n",
       "yes     4640\n",
       "Name: y, dtype: int64"
      ]
     },
     "metadata": {},
     "execution_count": 13
    }
   ],
   "source": [
    "df['y'].value_counts()"
   ]
  },
  {
   "cell_type": "markdown",
   "metadata": {},
   "source": [
    "1 ==> Nasabah subscribe deposit (yes)\n",
    "\n",
    "0 ==> Nasabah TIDAK subscribe deposit (no)"
   ]
  },
  {
   "cell_type": "code",
   "execution_count": 14,
   "metadata": {},
   "outputs": [],
   "source": [
    "df['y'] = df['y'].map({'yes' : 1, 'no' : 0})"
   ]
  },
  {
   "cell_type": "code",
   "execution_count": 15,
   "metadata": {},
   "outputs": [
    {
     "output_type": "execute_result",
     "data": {
      "text/plain": [
       "dtype('int64')"
      ]
     },
     "metadata": {},
     "execution_count": 15
    }
   ],
   "source": [
    "df['y'].dtypes"
   ]
  },
  {
   "cell_type": "markdown",
   "metadata": {},
   "source": [
    "## Cek Imbalance Data"
   ]
  },
  {
   "cell_type": "code",
   "execution_count": 16,
   "metadata": {},
   "outputs": [
    {
     "output_type": "execute_result",
     "data": {
      "text/plain": [
       "0    88.73\n",
       "1    11.27\n",
       "Name: y, dtype: float64"
      ]
     },
     "metadata": {},
     "execution_count": 16
    }
   ],
   "source": [
    "round(df['y'].value_counts()/len(df)*100, 2)"
   ]
  },
  {
   "cell_type": "code",
   "execution_count": 17,
   "metadata": {},
   "outputs": [],
   "source": [
    "df = df.drop(columns=['age', 'duration'])"
   ]
  },
  {
   "cell_type": "markdown",
   "metadata": {},
   "source": [
    "## Splitting Data"
   ]
  },
  {
   "cell_type": "code",
   "execution_count": 18,
   "metadata": {},
   "outputs": [],
   "source": [
    "X = df.drop(columns='y')\n",
    "y = df['y']"
   ]
  },
  {
   "cell_type": "code",
   "execution_count": 19,
   "metadata": {},
   "outputs": [],
   "source": [
    "X_train, X_test, y_train, y_test = train_test_split(X, y, stratify=y, test_size=.20, random_state=42)"
   ]
  },
  {
   "cell_type": "markdown",
   "metadata": {},
   "source": [
    "## Pipeline"
   ]
  },
  {
   "cell_type": "code",
   "execution_count": 20,
   "metadata": {},
   "outputs": [
    {
     "output_type": "execute_result",
     "data": {
      "text/plain": [
       "Index(['job', 'marital', 'education', 'default', 'housing', 'loan', 'contact',\n",
       "       'month', 'day_of_week', 'campaign', 'pdays', 'previous', 'poutcome',\n",
       "       'emp.var.rate', 'cons.price.idx', 'cons.conf.idx', 'euribor3m',\n",
       "       'nr.employed', 'y', 'age_bin', 'duration_bin'],\n",
       "      dtype='object')"
      ]
     },
     "metadata": {},
     "execution_count": 20
    }
   ],
   "source": [
    "df.columns"
   ]
  },
  {
   "cell_type": "code",
   "execution_count": 90,
   "metadata": {},
   "outputs": [],
   "source": [
    "num_columns = ['campaign', 'pdays', 'previous', 'emp.var.rate', 'cons.price.idx', 'cons.conf.idx', 'euribor3m', 'nr.employed']\n",
    "cat_columns = ['job', 'marital', 'education', 'default', 'housing', 'loan', 'contact', 'month', 'day_of_week', 'poutcome', 'age_bin', 'duration_bin']"
   ]
  },
  {
   "cell_type": "code",
   "execution_count": 22,
   "metadata": {},
   "outputs": [
    {
     "output_type": "execute_result",
     "data": {
      "text/plain": [
       "['campaign',\n",
       " 'pdays',\n",
       " 'previous',\n",
       " 'emp.var.rate',\n",
       " 'cons.price.idx',\n",
       " 'cons.conf.idx',\n",
       " 'euribor3m',\n",
       " 'nr.employed']"
      ]
     },
     "metadata": {},
     "execution_count": 22
    }
   ],
   "source": [
    "num_columns"
   ]
  },
  {
   "cell_type": "code",
   "execution_count": 23,
   "metadata": {},
   "outputs": [
    {
     "output_type": "execute_result",
     "data": {
      "text/plain": [
       "['job',\n",
       " 'marital',\n",
       " 'education',\n",
       " 'default',\n",
       " 'housing',\n",
       " 'loan',\n",
       " 'contact',\n",
       " 'month',\n",
       " 'day_of_week',\n",
       " 'poutcome',\n",
       " 'y',\n",
       " 'age_bin',\n",
       " 'duration_bin']"
      ]
     },
     "metadata": {},
     "execution_count": 23
    }
   ],
   "source": [
    "cat_columns"
   ]
  },
  {
   "cell_type": "code",
   "execution_count": 91,
   "metadata": {},
   "outputs": [],
   "source": [
    "numeric_pipeline = Pipeline([\n",
    "    ('scaler', RobustScaler())\n",
    "#     ('poly', PolynomialFeatures(degree=2, include_bias=False)),\n",
    "#     ('power', PowerTransformer(method='yeo-johnson'))\n",
    "])\n",
    "\n",
    "categoric_pipeline = Pipeline([\n",
    "    ('encoder', OneHotEncoder())\n",
    "])\n",
    "\n",
    "preprocessor = ColumnTransformer([\n",
    "    ('numeric', numeric_pipeline, num_columns),\n",
    "    ('categorical', categoric_pipeline, cat_columns)\n",
    "])\n",
    "\n",
    "pipe_DT = Pipeline([\n",
    "    ('prep', preprocessor),\n",
    "    ('algo', DecisionTreeClassifier())\n",
    "])\n",
    "\n",
    "pipe_KNN = Pipeline([\n",
    "    ('prep', preprocessor),\n",
    "    ('algo', KNeighborsClassifier())\n",
    "])"
   ]
  },
  {
   "cell_type": "markdown",
   "metadata": {},
   "source": [
    "## Def Eva Metrix\n",
    "\n",
    "Fungsi def yg isinya evaluation metrix.\n",
    "Evaluation matrix yang dipakai kali ini adalah Cunfusion matrix dan Classification report"
   ]
  },
  {
   "cell_type": "code",
   "execution_count": 27,
   "metadata": {},
   "outputs": [],
   "source": [
    "def conf_mat (Model, X_train, X_test, y_train, y_test,Nama):\n",
    "    y_pred_test = Model.predict(X_test)\n",
    "    cm_test = confusion_matrix(y_test, y_pred_test, labels=[1,0])\n",
    "    df = pd.DataFrame(cm_test, index = ['Akt1', 'Akt0'], columns=['Pred1', 'Pred0'])\n",
    "    print( 'Classification report data TEST ' + Nama + '\\n\\n', classification_report(y_test, y_pred_test))\n",
    "    \n",
    "    y_pred_train = Model.predict(X_train)\n",
    "    print( 'Classification report data TRAIN ' + Nama + '\\n\\n', classification_report(y_train, y_pred_train))\n",
    "#     return plt.title('Confusion matrix data test ' + Nama + '\\n'), sns.heatmap(df, annot=True)\n",
    "    print ('Confusion matrix data test ' + Nama + '\\n')\n",
    "    return df"
   ]
  },
  {
   "cell_type": "code",
   "execution_count": 28,
   "metadata": {},
   "outputs": [],
   "source": [
    "def prec_rec (Model, X_test, y_test, Nama):\n",
    "    data = {}\n",
    "    prec = []\n",
    "    rec = []\n",
    "    # for i in Model :\n",
    "    y_pred_ts = Model.predict(X_test)\n",
    "    precision = precision_score(y_test, y_pred_ts)\n",
    "    recall = recall_score(y_test, y_pred_ts)\n",
    "    prec.append(precision)\n",
    "    rec.append(recall)\n",
    "    data[Nama] = [prec[0], rec[0]]\n",
    "    \n",
    "    df = pd.DataFrame(data, index=['Precison', 'Recall'])\n",
    "    return df"
   ]
  },
  {
   "cell_type": "markdown",
   "metadata": {},
   "source": [
    "## Over Sampling\n",
    "\n",
    "Melakukan teknik Oversampling untuk mengatasa data imbalance sebelum modelling"
   ]
  },
  {
   "cell_type": "code",
   "execution_count": 29,
   "metadata": {},
   "outputs": [
    {
     "output_type": "execute_result",
     "data": {
      "text/plain": [
       "                job   marital            education  default housing loan  \\\n",
       "25611   blue-collar   married             basic 9y  unknown      no   no   \n",
       "26010  entrepreneur   married    university degree       no      no   no   \n",
       "40194       retired   married             basic 4y       no      no   no   \n",
       "297          admin.   married    university degree       no     yes   no   \n",
       "36344       retired  divorced    university degree       no      no   no   \n",
       "...             ...       ...                  ...      ...     ...  ...   \n",
       "40205      services    single          high school       no     yes   no   \n",
       "27316    technician   married  professional course       no     yes   no   \n",
       "14392        admin.   married             basic 9y       no      no  yes   \n",
       "7494         admin.   married    university degree       no      no   no   \n",
       "10747        admin.   married    university degree       no      no  yes   \n",
       "\n",
       "         contact month day_of_week  campaign  pdays  previous     poutcome  \\\n",
       "25611   cellular   nov         wed         4    999         0  nonexistent   \n",
       "26010  telephone   nov         wed         2    999         1      failure   \n",
       "40194   cellular   jul         mon         1    999         0  nonexistent   \n",
       "297    telephone   may         mon         2    999         0  nonexistent   \n",
       "36344   cellular   jun         tue         2    999         0  nonexistent   \n",
       "...          ...   ...         ...       ...    ...       ...          ...   \n",
       "40205   cellular   jul         tue         1    999         0  nonexistent   \n",
       "27316   cellular   nov         fri         1    999         1      failure   \n",
       "14392   cellular   jul         mon         4    999         0  nonexistent   \n",
       "7494   telephone   may         fri         1    999         0  nonexistent   \n",
       "10747  telephone   jun         tue         3    999         0  nonexistent   \n",
       "\n",
       "       emp.var.rate  cons.price.idx  cons.conf.idx  euribor3m  nr.employed  \\\n",
       "25611          -0.1          93.200          -42.0      4.120       5195.8   \n",
       "26010          -0.1          93.200          -42.0      4.120       5195.8   \n",
       "40194          -1.7          94.215          -40.3      0.870       4991.6   \n",
       "297             1.1          93.994          -36.4      4.857       5191.0   \n",
       "36344          -2.9          92.963          -40.8      1.262       5076.2   \n",
       "...             ...             ...            ...        ...          ...   \n",
       "40205          -1.7          94.215          -40.3      0.876       4991.6   \n",
       "27316          -0.1          93.200          -42.0      4.021       5195.8   \n",
       "14392           1.4          93.918          -42.7      4.962       5228.1   \n",
       "7494            1.1          93.994          -36.4      4.864       5191.0   \n",
       "10747           1.4          94.465          -41.8      4.961       5228.1   \n",
       "\n",
       "      age_bin duration_bin  \n",
       "25611   Elder      180-360  \n",
       "26010   Adult      180-360  \n",
       "40194   Elder         >900  \n",
       "297     Adult        0-180  \n",
       "36344   Elder      360-540  \n",
       "...       ...          ...  \n",
       "40205   Adult      180-360  \n",
       "27316   Elder        0-180  \n",
       "14392   Elder        0-180  \n",
       "7494    Adult        0-180  \n",
       "10747   Adult      540-720  \n",
       "\n",
       "[32950 rows x 20 columns]"
      ],
      "text/html": "<div>\n<style scoped>\n    .dataframe tbody tr th:only-of-type {\n        vertical-align: middle;\n    }\n\n    .dataframe tbody tr th {\n        vertical-align: top;\n    }\n\n    .dataframe thead th {\n        text-align: right;\n    }\n</style>\n<table border=\"1\" class=\"dataframe\">\n  <thead>\n    <tr style=\"text-align: right;\">\n      <th></th>\n      <th>job</th>\n      <th>marital</th>\n      <th>education</th>\n      <th>default</th>\n      <th>housing</th>\n      <th>loan</th>\n      <th>contact</th>\n      <th>month</th>\n      <th>day_of_week</th>\n      <th>campaign</th>\n      <th>pdays</th>\n      <th>previous</th>\n      <th>poutcome</th>\n      <th>emp.var.rate</th>\n      <th>cons.price.idx</th>\n      <th>cons.conf.idx</th>\n      <th>euribor3m</th>\n      <th>nr.employed</th>\n      <th>age_bin</th>\n      <th>duration_bin</th>\n    </tr>\n  </thead>\n  <tbody>\n    <tr>\n      <th>25611</th>\n      <td>blue-collar</td>\n      <td>married</td>\n      <td>basic 9y</td>\n      <td>unknown</td>\n      <td>no</td>\n      <td>no</td>\n      <td>cellular</td>\n      <td>nov</td>\n      <td>wed</td>\n      <td>4</td>\n      <td>999</td>\n      <td>0</td>\n      <td>nonexistent</td>\n      <td>-0.1</td>\n      <td>93.200</td>\n      <td>-42.0</td>\n      <td>4.120</td>\n      <td>5195.8</td>\n      <td>Elder</td>\n      <td>180-360</td>\n    </tr>\n    <tr>\n      <th>26010</th>\n      <td>entrepreneur</td>\n      <td>married</td>\n      <td>university degree</td>\n      <td>no</td>\n      <td>no</td>\n      <td>no</td>\n      <td>telephone</td>\n      <td>nov</td>\n      <td>wed</td>\n      <td>2</td>\n      <td>999</td>\n      <td>1</td>\n      <td>failure</td>\n      <td>-0.1</td>\n      <td>93.200</td>\n      <td>-42.0</td>\n      <td>4.120</td>\n      <td>5195.8</td>\n      <td>Adult</td>\n      <td>180-360</td>\n    </tr>\n    <tr>\n      <th>40194</th>\n      <td>retired</td>\n      <td>married</td>\n      <td>basic 4y</td>\n      <td>no</td>\n      <td>no</td>\n      <td>no</td>\n      <td>cellular</td>\n      <td>jul</td>\n      <td>mon</td>\n      <td>1</td>\n      <td>999</td>\n      <td>0</td>\n      <td>nonexistent</td>\n      <td>-1.7</td>\n      <td>94.215</td>\n      <td>-40.3</td>\n      <td>0.870</td>\n      <td>4991.6</td>\n      <td>Elder</td>\n      <td>&gt;900</td>\n    </tr>\n    <tr>\n      <th>297</th>\n      <td>admin.</td>\n      <td>married</td>\n      <td>university degree</td>\n      <td>no</td>\n      <td>yes</td>\n      <td>no</td>\n      <td>telephone</td>\n      <td>may</td>\n      <td>mon</td>\n      <td>2</td>\n      <td>999</td>\n      <td>0</td>\n      <td>nonexistent</td>\n      <td>1.1</td>\n      <td>93.994</td>\n      <td>-36.4</td>\n      <td>4.857</td>\n      <td>5191.0</td>\n      <td>Adult</td>\n      <td>0-180</td>\n    </tr>\n    <tr>\n      <th>36344</th>\n      <td>retired</td>\n      <td>divorced</td>\n      <td>university degree</td>\n      <td>no</td>\n      <td>no</td>\n      <td>no</td>\n      <td>cellular</td>\n      <td>jun</td>\n      <td>tue</td>\n      <td>2</td>\n      <td>999</td>\n      <td>0</td>\n      <td>nonexistent</td>\n      <td>-2.9</td>\n      <td>92.963</td>\n      <td>-40.8</td>\n      <td>1.262</td>\n      <td>5076.2</td>\n      <td>Elder</td>\n      <td>360-540</td>\n    </tr>\n    <tr>\n      <th>...</th>\n      <td>...</td>\n      <td>...</td>\n      <td>...</td>\n      <td>...</td>\n      <td>...</td>\n      <td>...</td>\n      <td>...</td>\n      <td>...</td>\n      <td>...</td>\n      <td>...</td>\n      <td>...</td>\n      <td>...</td>\n      <td>...</td>\n      <td>...</td>\n      <td>...</td>\n      <td>...</td>\n      <td>...</td>\n      <td>...</td>\n      <td>...</td>\n      <td>...</td>\n    </tr>\n    <tr>\n      <th>40205</th>\n      <td>services</td>\n      <td>single</td>\n      <td>high school</td>\n      <td>no</td>\n      <td>yes</td>\n      <td>no</td>\n      <td>cellular</td>\n      <td>jul</td>\n      <td>tue</td>\n      <td>1</td>\n      <td>999</td>\n      <td>0</td>\n      <td>nonexistent</td>\n      <td>-1.7</td>\n      <td>94.215</td>\n      <td>-40.3</td>\n      <td>0.876</td>\n      <td>4991.6</td>\n      <td>Adult</td>\n      <td>180-360</td>\n    </tr>\n    <tr>\n      <th>27316</th>\n      <td>technician</td>\n      <td>married</td>\n      <td>professional course</td>\n      <td>no</td>\n      <td>yes</td>\n      <td>no</td>\n      <td>cellular</td>\n      <td>nov</td>\n      <td>fri</td>\n      <td>1</td>\n      <td>999</td>\n      <td>1</td>\n      <td>failure</td>\n      <td>-0.1</td>\n      <td>93.200</td>\n      <td>-42.0</td>\n      <td>4.021</td>\n      <td>5195.8</td>\n      <td>Elder</td>\n      <td>0-180</td>\n    </tr>\n    <tr>\n      <th>14392</th>\n      <td>admin.</td>\n      <td>married</td>\n      <td>basic 9y</td>\n      <td>no</td>\n      <td>no</td>\n      <td>yes</td>\n      <td>cellular</td>\n      <td>jul</td>\n      <td>mon</td>\n      <td>4</td>\n      <td>999</td>\n      <td>0</td>\n      <td>nonexistent</td>\n      <td>1.4</td>\n      <td>93.918</td>\n      <td>-42.7</td>\n      <td>4.962</td>\n      <td>5228.1</td>\n      <td>Elder</td>\n      <td>0-180</td>\n    </tr>\n    <tr>\n      <th>7494</th>\n      <td>admin.</td>\n      <td>married</td>\n      <td>university degree</td>\n      <td>no</td>\n      <td>no</td>\n      <td>no</td>\n      <td>telephone</td>\n      <td>may</td>\n      <td>fri</td>\n      <td>1</td>\n      <td>999</td>\n      <td>0</td>\n      <td>nonexistent</td>\n      <td>1.1</td>\n      <td>93.994</td>\n      <td>-36.4</td>\n      <td>4.864</td>\n      <td>5191.0</td>\n      <td>Adult</td>\n      <td>0-180</td>\n    </tr>\n    <tr>\n      <th>10747</th>\n      <td>admin.</td>\n      <td>married</td>\n      <td>university degree</td>\n      <td>no</td>\n      <td>no</td>\n      <td>yes</td>\n      <td>telephone</td>\n      <td>jun</td>\n      <td>tue</td>\n      <td>3</td>\n      <td>999</td>\n      <td>0</td>\n      <td>nonexistent</td>\n      <td>1.4</td>\n      <td>94.465</td>\n      <td>-41.8</td>\n      <td>4.961</td>\n      <td>5228.1</td>\n      <td>Adult</td>\n      <td>540-720</td>\n    </tr>\n  </tbody>\n</table>\n<p>32950 rows × 20 columns</p>\n</div>"
     },
     "metadata": {},
     "execution_count": 29
    }
   ],
   "source": [
    "X_train"
   ]
  },
  {
   "cell_type": "code",
   "execution_count": 30,
   "metadata": {},
   "outputs": [
    {
     "output_type": "execute_result",
     "data": {
      "text/plain": [
       "25611    0\n",
       "26010    0\n",
       "40194    1\n",
       "297      0\n",
       "36344    0\n",
       "        ..\n",
       "40205    0\n",
       "27316    0\n",
       "14392    0\n",
       "7494     0\n",
       "10747    0\n",
       "Name: y, Length: 32950, dtype: int64"
      ]
     },
     "metadata": {},
     "execution_count": 30
    }
   ],
   "source": [
    "y_train"
   ]
  },
  {
   "cell_type": "code",
   "execution_count": 31,
   "metadata": {},
   "outputs": [],
   "source": [
    "df_train = pd.concat([X_train,y_train], axis=1)"
   ]
  },
  {
   "cell_type": "code",
   "execution_count": 32,
   "metadata": {},
   "outputs": [
    {
     "output_type": "execute_result",
     "data": {
      "text/plain": [
       "                job   marital          education  default housing loan  \\\n",
       "25611   blue-collar   married           basic 9y  unknown      no   no   \n",
       "26010  entrepreneur   married  university degree       no      no   no   \n",
       "40194       retired   married           basic 4y       no      no   no   \n",
       "297          admin.   married  university degree       no     yes   no   \n",
       "36344       retired  divorced  university degree       no      no   no   \n",
       "\n",
       "         contact month day_of_week  campaign  pdays  previous     poutcome  \\\n",
       "25611   cellular   nov         wed         4    999         0  nonexistent   \n",
       "26010  telephone   nov         wed         2    999         1      failure   \n",
       "40194   cellular   jul         mon         1    999         0  nonexistent   \n",
       "297    telephone   may         mon         2    999         0  nonexistent   \n",
       "36344   cellular   jun         tue         2    999         0  nonexistent   \n",
       "\n",
       "       emp.var.rate  cons.price.idx  cons.conf.idx  euribor3m  nr.employed  \\\n",
       "25611          -0.1          93.200          -42.0      4.120       5195.8   \n",
       "26010          -0.1          93.200          -42.0      4.120       5195.8   \n",
       "40194          -1.7          94.215          -40.3      0.870       4991.6   \n",
       "297             1.1          93.994          -36.4      4.857       5191.0   \n",
       "36344          -2.9          92.963          -40.8      1.262       5076.2   \n",
       "\n",
       "      age_bin duration_bin  y  \n",
       "25611   Elder      180-360  0  \n",
       "26010   Adult      180-360  0  \n",
       "40194   Elder         >900  1  \n",
       "297     Adult        0-180  0  \n",
       "36344   Elder      360-540  0  "
      ],
      "text/html": "<div>\n<style scoped>\n    .dataframe tbody tr th:only-of-type {\n        vertical-align: middle;\n    }\n\n    .dataframe tbody tr th {\n        vertical-align: top;\n    }\n\n    .dataframe thead th {\n        text-align: right;\n    }\n</style>\n<table border=\"1\" class=\"dataframe\">\n  <thead>\n    <tr style=\"text-align: right;\">\n      <th></th>\n      <th>job</th>\n      <th>marital</th>\n      <th>education</th>\n      <th>default</th>\n      <th>housing</th>\n      <th>loan</th>\n      <th>contact</th>\n      <th>month</th>\n      <th>day_of_week</th>\n      <th>campaign</th>\n      <th>pdays</th>\n      <th>previous</th>\n      <th>poutcome</th>\n      <th>emp.var.rate</th>\n      <th>cons.price.idx</th>\n      <th>cons.conf.idx</th>\n      <th>euribor3m</th>\n      <th>nr.employed</th>\n      <th>age_bin</th>\n      <th>duration_bin</th>\n      <th>y</th>\n    </tr>\n  </thead>\n  <tbody>\n    <tr>\n      <th>25611</th>\n      <td>blue-collar</td>\n      <td>married</td>\n      <td>basic 9y</td>\n      <td>unknown</td>\n      <td>no</td>\n      <td>no</td>\n      <td>cellular</td>\n      <td>nov</td>\n      <td>wed</td>\n      <td>4</td>\n      <td>999</td>\n      <td>0</td>\n      <td>nonexistent</td>\n      <td>-0.1</td>\n      <td>93.200</td>\n      <td>-42.0</td>\n      <td>4.120</td>\n      <td>5195.8</td>\n      <td>Elder</td>\n      <td>180-360</td>\n      <td>0</td>\n    </tr>\n    <tr>\n      <th>26010</th>\n      <td>entrepreneur</td>\n      <td>married</td>\n      <td>university degree</td>\n      <td>no</td>\n      <td>no</td>\n      <td>no</td>\n      <td>telephone</td>\n      <td>nov</td>\n      <td>wed</td>\n      <td>2</td>\n      <td>999</td>\n      <td>1</td>\n      <td>failure</td>\n      <td>-0.1</td>\n      <td>93.200</td>\n      <td>-42.0</td>\n      <td>4.120</td>\n      <td>5195.8</td>\n      <td>Adult</td>\n      <td>180-360</td>\n      <td>0</td>\n    </tr>\n    <tr>\n      <th>40194</th>\n      <td>retired</td>\n      <td>married</td>\n      <td>basic 4y</td>\n      <td>no</td>\n      <td>no</td>\n      <td>no</td>\n      <td>cellular</td>\n      <td>jul</td>\n      <td>mon</td>\n      <td>1</td>\n      <td>999</td>\n      <td>0</td>\n      <td>nonexistent</td>\n      <td>-1.7</td>\n      <td>94.215</td>\n      <td>-40.3</td>\n      <td>0.870</td>\n      <td>4991.6</td>\n      <td>Elder</td>\n      <td>&gt;900</td>\n      <td>1</td>\n    </tr>\n    <tr>\n      <th>297</th>\n      <td>admin.</td>\n      <td>married</td>\n      <td>university degree</td>\n      <td>no</td>\n      <td>yes</td>\n      <td>no</td>\n      <td>telephone</td>\n      <td>may</td>\n      <td>mon</td>\n      <td>2</td>\n      <td>999</td>\n      <td>0</td>\n      <td>nonexistent</td>\n      <td>1.1</td>\n      <td>93.994</td>\n      <td>-36.4</td>\n      <td>4.857</td>\n      <td>5191.0</td>\n      <td>Adult</td>\n      <td>0-180</td>\n      <td>0</td>\n    </tr>\n    <tr>\n      <th>36344</th>\n      <td>retired</td>\n      <td>divorced</td>\n      <td>university degree</td>\n      <td>no</td>\n      <td>no</td>\n      <td>no</td>\n      <td>cellular</td>\n      <td>jun</td>\n      <td>tue</td>\n      <td>2</td>\n      <td>999</td>\n      <td>0</td>\n      <td>nonexistent</td>\n      <td>-2.9</td>\n      <td>92.963</td>\n      <td>-40.8</td>\n      <td>1.262</td>\n      <td>5076.2</td>\n      <td>Elder</td>\n      <td>360-540</td>\n      <td>0</td>\n    </tr>\n  </tbody>\n</table>\n</div>"
     },
     "metadata": {},
     "execution_count": 32
    }
   ],
   "source": [
    "df_train.head()"
   ]
  },
  {
   "cell_type": "code",
   "execution_count": 33,
   "metadata": {},
   "outputs": [
    {
     "output_type": "execute_result",
     "data": {
      "text/plain": [
       "0    29238\n",
       "1     3712\n",
       "Name: y, dtype: int64"
      ]
     },
     "metadata": {},
     "execution_count": 33
    }
   ],
   "source": [
    "df_train['y'].value_counts()"
   ]
  },
  {
   "cell_type": "code",
   "execution_count": 34,
   "metadata": {},
   "outputs": [],
   "source": [
    "non_default = df_train[df_train['y'] == 0] # kelas majority"
   ]
  },
  {
   "cell_type": "code",
   "execution_count": 35,
   "metadata": {},
   "outputs": [],
   "source": [
    "default = df_train[df_train['y'] == 1] # kelas minority"
   ]
  },
  {
   "cell_type": "code",
   "execution_count": 36,
   "metadata": {},
   "outputs": [
    {
     "output_type": "execute_result",
     "data": {
      "text/plain": [
       "               job   marital            education  default housing loan  \\\n",
       "40194      retired   married             basic 4y       no      no   no   \n",
       "37395      student    single             basic 9y       no      no   no   \n",
       "31118  blue-collar   married             basic 9y       no     yes   no   \n",
       "39226       admin.    single    university degree       no      no  yes   \n",
       "39224   unemployed  divorced    university degree       no      no   no   \n",
       "...            ...       ...                  ...      ...     ...  ...   \n",
       "37603      retired   married  professional course       no     yes  yes   \n",
       "36595      student    single          high school       no      no   no   \n",
       "8135    technician    single  professional course  unknown      no   no   \n",
       "35126   technician    single    university degree       no     yes  yes   \n",
       "30274  blue-collar    single             basic 9y       no     yes   no   \n",
       "\n",
       "         contact month day_of_week  campaign  pdays  previous     poutcome  \\\n",
       "40194   cellular   jul         mon         1    999         0  nonexistent   \n",
       "37395  telephone   aug         wed         1    999         0  nonexistent   \n",
       "31118   cellular   may         wed         1    999         0  nonexistent   \n",
       "39226   cellular   mar         tue         2      3         1      success   \n",
       "39224   cellular   mar         tue         3      6         3      success   \n",
       "...          ...   ...         ...       ...    ...       ...          ...   \n",
       "37603   cellular   aug         mon         1    999         0  nonexistent   \n",
       "36595   cellular   jun         thu         1    999         0  nonexistent   \n",
       "8135   telephone   jun         mon         4    999         0  nonexistent   \n",
       "35126   cellular   may         fri         3    999         0  nonexistent   \n",
       "30274   cellular   apr         thu         1      2         1      success   \n",
       "\n",
       "       emp.var.rate  cons.price.idx  cons.conf.idx  euribor3m  nr.employed  \\\n",
       "40194          -1.7          94.215          -40.3      0.870       4991.6   \n",
       "37395          -2.9          92.201          -31.4      0.879       5076.2   \n",
       "31118          -1.8          92.893          -46.2      1.334       5099.1   \n",
       "39226          -1.8          93.369          -34.8      0.652       5008.7   \n",
       "39224          -1.8          93.369          -34.8      0.652       5008.7   \n",
       "...             ...             ...            ...        ...          ...   \n",
       "37603          -2.9          92.201          -31.4      0.861       5076.2   \n",
       "36595          -2.9          92.963          -40.8      1.260       5076.2   \n",
       "8135            1.4          94.465          -41.8      4.865       5228.1   \n",
       "35126          -1.8          92.893          -46.2      1.250       5099.1   \n",
       "30274          -1.8          93.075          -47.1      1.365       5099.1   \n",
       "\n",
       "      age_bin duration_bin  y  \n",
       "40194   Elder         >900  1  \n",
       "37395   Adult      360-540  1  \n",
       "31118   Adult         >900  1  \n",
       "39226   Adult      180-360  1  \n",
       "39224   Elder      180-360  1  \n",
       "...       ...          ... ..  \n",
       "37603   Elder      180-360  1  \n",
       "36595   Adult      360-540  1  \n",
       "8135    Adult      360-540  1  \n",
       "35126   Adult      360-540  1  \n",
       "30274   Adult      180-360  1  \n",
       "\n",
       "[3712 rows x 21 columns]"
      ],
      "text/html": "<div>\n<style scoped>\n    .dataframe tbody tr th:only-of-type {\n        vertical-align: middle;\n    }\n\n    .dataframe tbody tr th {\n        vertical-align: top;\n    }\n\n    .dataframe thead th {\n        text-align: right;\n    }\n</style>\n<table border=\"1\" class=\"dataframe\">\n  <thead>\n    <tr style=\"text-align: right;\">\n      <th></th>\n      <th>job</th>\n      <th>marital</th>\n      <th>education</th>\n      <th>default</th>\n      <th>housing</th>\n      <th>loan</th>\n      <th>contact</th>\n      <th>month</th>\n      <th>day_of_week</th>\n      <th>campaign</th>\n      <th>pdays</th>\n      <th>previous</th>\n      <th>poutcome</th>\n      <th>emp.var.rate</th>\n      <th>cons.price.idx</th>\n      <th>cons.conf.idx</th>\n      <th>euribor3m</th>\n      <th>nr.employed</th>\n      <th>age_bin</th>\n      <th>duration_bin</th>\n      <th>y</th>\n    </tr>\n  </thead>\n  <tbody>\n    <tr>\n      <th>40194</th>\n      <td>retired</td>\n      <td>married</td>\n      <td>basic 4y</td>\n      <td>no</td>\n      <td>no</td>\n      <td>no</td>\n      <td>cellular</td>\n      <td>jul</td>\n      <td>mon</td>\n      <td>1</td>\n      <td>999</td>\n      <td>0</td>\n      <td>nonexistent</td>\n      <td>-1.7</td>\n      <td>94.215</td>\n      <td>-40.3</td>\n      <td>0.870</td>\n      <td>4991.6</td>\n      <td>Elder</td>\n      <td>&gt;900</td>\n      <td>1</td>\n    </tr>\n    <tr>\n      <th>37395</th>\n      <td>student</td>\n      <td>single</td>\n      <td>basic 9y</td>\n      <td>no</td>\n      <td>no</td>\n      <td>no</td>\n      <td>telephone</td>\n      <td>aug</td>\n      <td>wed</td>\n      <td>1</td>\n      <td>999</td>\n      <td>0</td>\n      <td>nonexistent</td>\n      <td>-2.9</td>\n      <td>92.201</td>\n      <td>-31.4</td>\n      <td>0.879</td>\n      <td>5076.2</td>\n      <td>Adult</td>\n      <td>360-540</td>\n      <td>1</td>\n    </tr>\n    <tr>\n      <th>31118</th>\n      <td>blue-collar</td>\n      <td>married</td>\n      <td>basic 9y</td>\n      <td>no</td>\n      <td>yes</td>\n      <td>no</td>\n      <td>cellular</td>\n      <td>may</td>\n      <td>wed</td>\n      <td>1</td>\n      <td>999</td>\n      <td>0</td>\n      <td>nonexistent</td>\n      <td>-1.8</td>\n      <td>92.893</td>\n      <td>-46.2</td>\n      <td>1.334</td>\n      <td>5099.1</td>\n      <td>Adult</td>\n      <td>&gt;900</td>\n      <td>1</td>\n    </tr>\n    <tr>\n      <th>39226</th>\n      <td>admin.</td>\n      <td>single</td>\n      <td>university degree</td>\n      <td>no</td>\n      <td>no</td>\n      <td>yes</td>\n      <td>cellular</td>\n      <td>mar</td>\n      <td>tue</td>\n      <td>2</td>\n      <td>3</td>\n      <td>1</td>\n      <td>success</td>\n      <td>-1.8</td>\n      <td>93.369</td>\n      <td>-34.8</td>\n      <td>0.652</td>\n      <td>5008.7</td>\n      <td>Adult</td>\n      <td>180-360</td>\n      <td>1</td>\n    </tr>\n    <tr>\n      <th>39224</th>\n      <td>unemployed</td>\n      <td>divorced</td>\n      <td>university degree</td>\n      <td>no</td>\n      <td>no</td>\n      <td>no</td>\n      <td>cellular</td>\n      <td>mar</td>\n      <td>tue</td>\n      <td>3</td>\n      <td>6</td>\n      <td>3</td>\n      <td>success</td>\n      <td>-1.8</td>\n      <td>93.369</td>\n      <td>-34.8</td>\n      <td>0.652</td>\n      <td>5008.7</td>\n      <td>Elder</td>\n      <td>180-360</td>\n      <td>1</td>\n    </tr>\n    <tr>\n      <th>...</th>\n      <td>...</td>\n      <td>...</td>\n      <td>...</td>\n      <td>...</td>\n      <td>...</td>\n      <td>...</td>\n      <td>...</td>\n      <td>...</td>\n      <td>...</td>\n      <td>...</td>\n      <td>...</td>\n      <td>...</td>\n      <td>...</td>\n      <td>...</td>\n      <td>...</td>\n      <td>...</td>\n      <td>...</td>\n      <td>...</td>\n      <td>...</td>\n      <td>...</td>\n      <td>...</td>\n    </tr>\n    <tr>\n      <th>37603</th>\n      <td>retired</td>\n      <td>married</td>\n      <td>professional course</td>\n      <td>no</td>\n      <td>yes</td>\n      <td>yes</td>\n      <td>cellular</td>\n      <td>aug</td>\n      <td>mon</td>\n      <td>1</td>\n      <td>999</td>\n      <td>0</td>\n      <td>nonexistent</td>\n      <td>-2.9</td>\n      <td>92.201</td>\n      <td>-31.4</td>\n      <td>0.861</td>\n      <td>5076.2</td>\n      <td>Elder</td>\n      <td>180-360</td>\n      <td>1</td>\n    </tr>\n    <tr>\n      <th>36595</th>\n      <td>student</td>\n      <td>single</td>\n      <td>high school</td>\n      <td>no</td>\n      <td>no</td>\n      <td>no</td>\n      <td>cellular</td>\n      <td>jun</td>\n      <td>thu</td>\n      <td>1</td>\n      <td>999</td>\n      <td>0</td>\n      <td>nonexistent</td>\n      <td>-2.9</td>\n      <td>92.963</td>\n      <td>-40.8</td>\n      <td>1.260</td>\n      <td>5076.2</td>\n      <td>Adult</td>\n      <td>360-540</td>\n      <td>1</td>\n    </tr>\n    <tr>\n      <th>8135</th>\n      <td>technician</td>\n      <td>single</td>\n      <td>professional course</td>\n      <td>unknown</td>\n      <td>no</td>\n      <td>no</td>\n      <td>telephone</td>\n      <td>jun</td>\n      <td>mon</td>\n      <td>4</td>\n      <td>999</td>\n      <td>0</td>\n      <td>nonexistent</td>\n      <td>1.4</td>\n      <td>94.465</td>\n      <td>-41.8</td>\n      <td>4.865</td>\n      <td>5228.1</td>\n      <td>Adult</td>\n      <td>360-540</td>\n      <td>1</td>\n    </tr>\n    <tr>\n      <th>35126</th>\n      <td>technician</td>\n      <td>single</td>\n      <td>university degree</td>\n      <td>no</td>\n      <td>yes</td>\n      <td>yes</td>\n      <td>cellular</td>\n      <td>may</td>\n      <td>fri</td>\n      <td>3</td>\n      <td>999</td>\n      <td>0</td>\n      <td>nonexistent</td>\n      <td>-1.8</td>\n      <td>92.893</td>\n      <td>-46.2</td>\n      <td>1.250</td>\n      <td>5099.1</td>\n      <td>Adult</td>\n      <td>360-540</td>\n      <td>1</td>\n    </tr>\n    <tr>\n      <th>30274</th>\n      <td>blue-collar</td>\n      <td>single</td>\n      <td>basic 9y</td>\n      <td>no</td>\n      <td>yes</td>\n      <td>no</td>\n      <td>cellular</td>\n      <td>apr</td>\n      <td>thu</td>\n      <td>1</td>\n      <td>2</td>\n      <td>1</td>\n      <td>success</td>\n      <td>-1.8</td>\n      <td>93.075</td>\n      <td>-47.1</td>\n      <td>1.365</td>\n      <td>5099.1</td>\n      <td>Adult</td>\n      <td>180-360</td>\n      <td>1</td>\n    </tr>\n  </tbody>\n</table>\n<p>3712 rows × 21 columns</p>\n</div>"
     },
     "metadata": {},
     "execution_count": 36
    }
   ],
   "source": [
    "default"
   ]
  },
  {
   "cell_type": "code",
   "execution_count": 37,
   "metadata": {},
   "outputs": [],
   "source": [
    "default_oversample = resample(default, \n",
    "                           replace = True, \n",
    "                           n_samples = len(non_default),\n",
    "                           random_state=42)"
   ]
  },
  {
   "cell_type": "code",
   "execution_count": 38,
   "metadata": {},
   "outputs": [],
   "source": [
    "df_OverSample= pd.concat([non_default, default_oversample])"
   ]
  },
  {
   "cell_type": "code",
   "execution_count": 39,
   "metadata": {},
   "outputs": [
    {
     "output_type": "execute_result",
     "data": {
      "text/plain": [
       "0    29238\n",
       "1    29238\n",
       "Name: y, dtype: int64"
      ]
     },
     "metadata": {},
     "execution_count": 39
    }
   ],
   "source": [
    "df_OverSample['y'].value_counts()"
   ]
  },
  {
   "cell_type": "code",
   "execution_count": 40,
   "metadata": {},
   "outputs": [
    {
     "output_type": "execute_result",
     "data": {
      "text/plain": [
       "                job   marital          education  default housing loan  \\\n",
       "25611   blue-collar   married           basic 9y  unknown      no   no   \n",
       "26010  entrepreneur   married  university degree       no      no   no   \n",
       "297          admin.   married  university degree       no     yes   no   \n",
       "36344       retired  divorced  university degree       no      no   no   \n",
       "21806        admin.    single  university degree       no      no   no   \n",
       "...             ...       ...                ...      ...     ...  ...   \n",
       "12425  entrepreneur   married           basic 6y       no     yes  yes   \n",
       "38689        admin.    single        high school       no     yes   no   \n",
       "34610   blue-collar    single           basic 9y       no     yes  yes   \n",
       "37465        admin.    single  university degree       no     yes  yes   \n",
       "40929       student    single            unknown       no     yes  yes   \n",
       "\n",
       "         contact month day_of_week  campaign  pdays  previous     poutcome  \\\n",
       "25611   cellular   nov         wed         4    999         0  nonexistent   \n",
       "26010  telephone   nov         wed         2    999         1      failure   \n",
       "297    telephone   may         mon         2    999         0  nonexistent   \n",
       "36344   cellular   jun         tue         2    999         0  nonexistent   \n",
       "21806   cellular   aug         wed         2    999         0  nonexistent   \n",
       "...          ...   ...         ...       ...    ...       ...          ...   \n",
       "12425   cellular   jul         mon         1    999         0  nonexistent   \n",
       "38689   cellular   nov         mon         1      3         1      success   \n",
       "34610   cellular   may         thu         4    999         0  nonexistent   \n",
       "37465   cellular   aug         thu         3      3         1      success   \n",
       "40929   cellular   oct         tue         1      3         4      success   \n",
       "\n",
       "       emp.var.rate  cons.price.idx  cons.conf.idx  euribor3m  nr.employed  \\\n",
       "25611          -0.1          93.200          -42.0      4.120       5195.8   \n",
       "26010          -0.1          93.200          -42.0      4.120       5195.8   \n",
       "297             1.1          93.994          -36.4      4.857       5191.0   \n",
       "36344          -2.9          92.963          -40.8      1.262       5076.2   \n",
       "21806           1.4          93.444          -36.1      4.964       5228.1   \n",
       "...             ...             ...            ...        ...          ...   \n",
       "12425           1.4          93.918          -42.7      4.960       5228.1   \n",
       "38689          -3.4          92.649          -30.1      0.715       5017.5   \n",
       "34610          -1.8          92.893          -46.2      1.266       5099.1   \n",
       "37465          -2.9          92.201          -31.4      0.873       5076.2   \n",
       "40929          -1.1          94.601          -49.5      0.982       4963.6   \n",
       "\n",
       "        age_bin duration_bin  y  \n",
       "25611     Elder      180-360  0  \n",
       "26010     Adult      180-360  0  \n",
       "297       Adult        0-180  0  \n",
       "36344     Elder      360-540  0  \n",
       "21806     Adult      180-360  0  \n",
       "...         ...          ... ..  \n",
       "12425     Adult      720-900  1  \n",
       "38689     Adult      180-360  1  \n",
       "34610     Adult      180-360  1  \n",
       "37465     Adult      180-360  1  \n",
       "40929  Teenager      180-360  1  \n",
       "\n",
       "[58476 rows x 21 columns]"
      ],
      "text/html": "<div>\n<style scoped>\n    .dataframe tbody tr th:only-of-type {\n        vertical-align: middle;\n    }\n\n    .dataframe tbody tr th {\n        vertical-align: top;\n    }\n\n    .dataframe thead th {\n        text-align: right;\n    }\n</style>\n<table border=\"1\" class=\"dataframe\">\n  <thead>\n    <tr style=\"text-align: right;\">\n      <th></th>\n      <th>job</th>\n      <th>marital</th>\n      <th>education</th>\n      <th>default</th>\n      <th>housing</th>\n      <th>loan</th>\n      <th>contact</th>\n      <th>month</th>\n      <th>day_of_week</th>\n      <th>campaign</th>\n      <th>pdays</th>\n      <th>previous</th>\n      <th>poutcome</th>\n      <th>emp.var.rate</th>\n      <th>cons.price.idx</th>\n      <th>cons.conf.idx</th>\n      <th>euribor3m</th>\n      <th>nr.employed</th>\n      <th>age_bin</th>\n      <th>duration_bin</th>\n      <th>y</th>\n    </tr>\n  </thead>\n  <tbody>\n    <tr>\n      <th>25611</th>\n      <td>blue-collar</td>\n      <td>married</td>\n      <td>basic 9y</td>\n      <td>unknown</td>\n      <td>no</td>\n      <td>no</td>\n      <td>cellular</td>\n      <td>nov</td>\n      <td>wed</td>\n      <td>4</td>\n      <td>999</td>\n      <td>0</td>\n      <td>nonexistent</td>\n      <td>-0.1</td>\n      <td>93.200</td>\n      <td>-42.0</td>\n      <td>4.120</td>\n      <td>5195.8</td>\n      <td>Elder</td>\n      <td>180-360</td>\n      <td>0</td>\n    </tr>\n    <tr>\n      <th>26010</th>\n      <td>entrepreneur</td>\n      <td>married</td>\n      <td>university degree</td>\n      <td>no</td>\n      <td>no</td>\n      <td>no</td>\n      <td>telephone</td>\n      <td>nov</td>\n      <td>wed</td>\n      <td>2</td>\n      <td>999</td>\n      <td>1</td>\n      <td>failure</td>\n      <td>-0.1</td>\n      <td>93.200</td>\n      <td>-42.0</td>\n      <td>4.120</td>\n      <td>5195.8</td>\n      <td>Adult</td>\n      <td>180-360</td>\n      <td>0</td>\n    </tr>\n    <tr>\n      <th>297</th>\n      <td>admin.</td>\n      <td>married</td>\n      <td>university degree</td>\n      <td>no</td>\n      <td>yes</td>\n      <td>no</td>\n      <td>telephone</td>\n      <td>may</td>\n      <td>mon</td>\n      <td>2</td>\n      <td>999</td>\n      <td>0</td>\n      <td>nonexistent</td>\n      <td>1.1</td>\n      <td>93.994</td>\n      <td>-36.4</td>\n      <td>4.857</td>\n      <td>5191.0</td>\n      <td>Adult</td>\n      <td>0-180</td>\n      <td>0</td>\n    </tr>\n    <tr>\n      <th>36344</th>\n      <td>retired</td>\n      <td>divorced</td>\n      <td>university degree</td>\n      <td>no</td>\n      <td>no</td>\n      <td>no</td>\n      <td>cellular</td>\n      <td>jun</td>\n      <td>tue</td>\n      <td>2</td>\n      <td>999</td>\n      <td>0</td>\n      <td>nonexistent</td>\n      <td>-2.9</td>\n      <td>92.963</td>\n      <td>-40.8</td>\n      <td>1.262</td>\n      <td>5076.2</td>\n      <td>Elder</td>\n      <td>360-540</td>\n      <td>0</td>\n    </tr>\n    <tr>\n      <th>21806</th>\n      <td>admin.</td>\n      <td>single</td>\n      <td>university degree</td>\n      <td>no</td>\n      <td>no</td>\n      <td>no</td>\n      <td>cellular</td>\n      <td>aug</td>\n      <td>wed</td>\n      <td>2</td>\n      <td>999</td>\n      <td>0</td>\n      <td>nonexistent</td>\n      <td>1.4</td>\n      <td>93.444</td>\n      <td>-36.1</td>\n      <td>4.964</td>\n      <td>5228.1</td>\n      <td>Adult</td>\n      <td>180-360</td>\n      <td>0</td>\n    </tr>\n    <tr>\n      <th>...</th>\n      <td>...</td>\n      <td>...</td>\n      <td>...</td>\n      <td>...</td>\n      <td>...</td>\n      <td>...</td>\n      <td>...</td>\n      <td>...</td>\n      <td>...</td>\n      <td>...</td>\n      <td>...</td>\n      <td>...</td>\n      <td>...</td>\n      <td>...</td>\n      <td>...</td>\n      <td>...</td>\n      <td>...</td>\n      <td>...</td>\n      <td>...</td>\n      <td>...</td>\n      <td>...</td>\n    </tr>\n    <tr>\n      <th>12425</th>\n      <td>entrepreneur</td>\n      <td>married</td>\n      <td>basic 6y</td>\n      <td>no</td>\n      <td>yes</td>\n      <td>yes</td>\n      <td>cellular</td>\n      <td>jul</td>\n      <td>mon</td>\n      <td>1</td>\n      <td>999</td>\n      <td>0</td>\n      <td>nonexistent</td>\n      <td>1.4</td>\n      <td>93.918</td>\n      <td>-42.7</td>\n      <td>4.960</td>\n      <td>5228.1</td>\n      <td>Adult</td>\n      <td>720-900</td>\n      <td>1</td>\n    </tr>\n    <tr>\n      <th>38689</th>\n      <td>admin.</td>\n      <td>single</td>\n      <td>high school</td>\n      <td>no</td>\n      <td>yes</td>\n      <td>no</td>\n      <td>cellular</td>\n      <td>nov</td>\n      <td>mon</td>\n      <td>1</td>\n      <td>3</td>\n      <td>1</td>\n      <td>success</td>\n      <td>-3.4</td>\n      <td>92.649</td>\n      <td>-30.1</td>\n      <td>0.715</td>\n      <td>5017.5</td>\n      <td>Adult</td>\n      <td>180-360</td>\n      <td>1</td>\n    </tr>\n    <tr>\n      <th>34610</th>\n      <td>blue-collar</td>\n      <td>single</td>\n      <td>basic 9y</td>\n      <td>no</td>\n      <td>yes</td>\n      <td>yes</td>\n      <td>cellular</td>\n      <td>may</td>\n      <td>thu</td>\n      <td>4</td>\n      <td>999</td>\n      <td>0</td>\n      <td>nonexistent</td>\n      <td>-1.8</td>\n      <td>92.893</td>\n      <td>-46.2</td>\n      <td>1.266</td>\n      <td>5099.1</td>\n      <td>Adult</td>\n      <td>180-360</td>\n      <td>1</td>\n    </tr>\n    <tr>\n      <th>37465</th>\n      <td>admin.</td>\n      <td>single</td>\n      <td>university degree</td>\n      <td>no</td>\n      <td>yes</td>\n      <td>yes</td>\n      <td>cellular</td>\n      <td>aug</td>\n      <td>thu</td>\n      <td>3</td>\n      <td>3</td>\n      <td>1</td>\n      <td>success</td>\n      <td>-2.9</td>\n      <td>92.201</td>\n      <td>-31.4</td>\n      <td>0.873</td>\n      <td>5076.2</td>\n      <td>Adult</td>\n      <td>180-360</td>\n      <td>1</td>\n    </tr>\n    <tr>\n      <th>40929</th>\n      <td>student</td>\n      <td>single</td>\n      <td>unknown</td>\n      <td>no</td>\n      <td>yes</td>\n      <td>yes</td>\n      <td>cellular</td>\n      <td>oct</td>\n      <td>tue</td>\n      <td>1</td>\n      <td>3</td>\n      <td>4</td>\n      <td>success</td>\n      <td>-1.1</td>\n      <td>94.601</td>\n      <td>-49.5</td>\n      <td>0.982</td>\n      <td>4963.6</td>\n      <td>Teenager</td>\n      <td>180-360</td>\n      <td>1</td>\n    </tr>\n  </tbody>\n</table>\n<p>58476 rows × 21 columns</p>\n</div>"
     },
     "metadata": {},
     "execution_count": 40
    }
   ],
   "source": [
    "df_OverSample"
   ]
  },
  {
   "cell_type": "code",
   "execution_count": 41,
   "metadata": {},
   "outputs": [],
   "source": [
    "X_train_OS = df_OverSample.drop(columns='y')\n",
    "y_train_OS = df_OverSample['y']"
   ]
  },
  {
   "cell_type": "markdown",
   "metadata": {},
   "source": [
    "## Modelling"
   ]
  },
  {
   "cell_type": "markdown",
   "metadata": {},
   "source": [
    "1 ==> Nasabah subscribe deposit (yes)\n",
    "\n",
    "0 ==> Nasabah TIDAK subscribe deposit (no)"
   ]
  },
  {
   "cell_type": "markdown",
   "metadata": {},
   "source": [
    "__DT__"
   ]
  },
  {
   "cell_type": "code",
   "execution_count": 42,
   "metadata": {},
   "outputs": [
    {
     "output_type": "execute_result",
     "data": {
      "text/plain": [
       "Index(['job', 'marital', 'education', 'default', 'housing', 'loan', 'contact',\n",
       "       'month', 'day_of_week', 'campaign', 'pdays', 'previous', 'poutcome',\n",
       "       'emp.var.rate', 'cons.price.idx', 'cons.conf.idx', 'euribor3m',\n",
       "       'nr.employed', 'y', 'age_bin', 'duration_bin'],\n",
       "      dtype='object')"
      ]
     },
     "metadata": {},
     "execution_count": 42
    }
   ],
   "source": [
    "df.columns"
   ]
  },
  {
   "cell_type": "code",
   "execution_count": 68,
   "metadata": {},
   "outputs": [],
   "source": [
    "num_columns = ['campaign', 'pdays', 'previous', 'emp.var.rate', 'cons.price.idx', 'cons.conf.idx', 'euribor3m', 'nr.employed']\n",
    "cat_columns = ['job', 'marital', 'education', 'default', 'housing', 'loan', 'contact', 'month', 'day_of_week', 'poutcome', 'age_bin', 'duration_bin']"
   ]
  },
  {
   "cell_type": "code",
   "execution_count": 69,
   "metadata": {},
   "outputs": [
    {
     "output_type": "execute_result",
     "data": {
      "text/plain": [
       "       campaign  pdays  previous  emp.var.rate  cons.price.idx  cons.conf.idx  \\\n",
       "0             1    999         0           1.1          93.994          -36.4   \n",
       "1             1    999         0           1.1          93.994          -36.4   \n",
       "2             1    999         0           1.1          93.994          -36.4   \n",
       "3             1    999         0           1.1          93.994          -36.4   \n",
       "4             1    999         0           1.1          93.994          -36.4   \n",
       "...         ...    ...       ...           ...             ...            ...   \n",
       "41183         1    999         0          -1.1          94.767          -50.8   \n",
       "41184         1    999         0          -1.1          94.767          -50.8   \n",
       "41185         2    999         0          -1.1          94.767          -50.8   \n",
       "41186         1    999         0          -1.1          94.767          -50.8   \n",
       "41187         3    999         1          -1.1          94.767          -50.8   \n",
       "\n",
       "       euribor3m  nr.employed  \n",
       "0          4.857       5191.0  \n",
       "1          4.857       5191.0  \n",
       "2          4.857       5191.0  \n",
       "3          4.857       5191.0  \n",
       "4          4.857       5191.0  \n",
       "...          ...          ...  \n",
       "41183      1.028       4963.6  \n",
       "41184      1.028       4963.6  \n",
       "41185      1.028       4963.6  \n",
       "41186      1.028       4963.6  \n",
       "41187      1.028       4963.6  \n",
       "\n",
       "[41188 rows x 8 columns]"
      ],
      "text/html": "<div>\n<style scoped>\n    .dataframe tbody tr th:only-of-type {\n        vertical-align: middle;\n    }\n\n    .dataframe tbody tr th {\n        vertical-align: top;\n    }\n\n    .dataframe thead th {\n        text-align: right;\n    }\n</style>\n<table border=\"1\" class=\"dataframe\">\n  <thead>\n    <tr style=\"text-align: right;\">\n      <th></th>\n      <th>campaign</th>\n      <th>pdays</th>\n      <th>previous</th>\n      <th>emp.var.rate</th>\n      <th>cons.price.idx</th>\n      <th>cons.conf.idx</th>\n      <th>euribor3m</th>\n      <th>nr.employed</th>\n    </tr>\n  </thead>\n  <tbody>\n    <tr>\n      <th>0</th>\n      <td>1</td>\n      <td>999</td>\n      <td>0</td>\n      <td>1.1</td>\n      <td>93.994</td>\n      <td>-36.4</td>\n      <td>4.857</td>\n      <td>5191.0</td>\n    </tr>\n    <tr>\n      <th>1</th>\n      <td>1</td>\n      <td>999</td>\n      <td>0</td>\n      <td>1.1</td>\n      <td>93.994</td>\n      <td>-36.4</td>\n      <td>4.857</td>\n      <td>5191.0</td>\n    </tr>\n    <tr>\n      <th>2</th>\n      <td>1</td>\n      <td>999</td>\n      <td>0</td>\n      <td>1.1</td>\n      <td>93.994</td>\n      <td>-36.4</td>\n      <td>4.857</td>\n      <td>5191.0</td>\n    </tr>\n    <tr>\n      <th>3</th>\n      <td>1</td>\n      <td>999</td>\n      <td>0</td>\n      <td>1.1</td>\n      <td>93.994</td>\n      <td>-36.4</td>\n      <td>4.857</td>\n      <td>5191.0</td>\n    </tr>\n    <tr>\n      <th>4</th>\n      <td>1</td>\n      <td>999</td>\n      <td>0</td>\n      <td>1.1</td>\n      <td>93.994</td>\n      <td>-36.4</td>\n      <td>4.857</td>\n      <td>5191.0</td>\n    </tr>\n    <tr>\n      <th>...</th>\n      <td>...</td>\n      <td>...</td>\n      <td>...</td>\n      <td>...</td>\n      <td>...</td>\n      <td>...</td>\n      <td>...</td>\n      <td>...</td>\n    </tr>\n    <tr>\n      <th>41183</th>\n      <td>1</td>\n      <td>999</td>\n      <td>0</td>\n      <td>-1.1</td>\n      <td>94.767</td>\n      <td>-50.8</td>\n      <td>1.028</td>\n      <td>4963.6</td>\n    </tr>\n    <tr>\n      <th>41184</th>\n      <td>1</td>\n      <td>999</td>\n      <td>0</td>\n      <td>-1.1</td>\n      <td>94.767</td>\n      <td>-50.8</td>\n      <td>1.028</td>\n      <td>4963.6</td>\n    </tr>\n    <tr>\n      <th>41185</th>\n      <td>2</td>\n      <td>999</td>\n      <td>0</td>\n      <td>-1.1</td>\n      <td>94.767</td>\n      <td>-50.8</td>\n      <td>1.028</td>\n      <td>4963.6</td>\n    </tr>\n    <tr>\n      <th>41186</th>\n      <td>1</td>\n      <td>999</td>\n      <td>0</td>\n      <td>-1.1</td>\n      <td>94.767</td>\n      <td>-50.8</td>\n      <td>1.028</td>\n      <td>4963.6</td>\n    </tr>\n    <tr>\n      <th>41187</th>\n      <td>3</td>\n      <td>999</td>\n      <td>1</td>\n      <td>-1.1</td>\n      <td>94.767</td>\n      <td>-50.8</td>\n      <td>1.028</td>\n      <td>4963.6</td>\n    </tr>\n  </tbody>\n</table>\n<p>41188 rows × 8 columns</p>\n</div>"
     },
     "metadata": {},
     "execution_count": 69
    }
   ],
   "source": [
    "df[num_columns]"
   ]
  },
  {
   "cell_type": "code",
   "execution_count": 70,
   "metadata": {},
   "outputs": [
    {
     "output_type": "execute_result",
     "data": {
      "text/plain": [
       "               job  marital            education  default housing loan  \\\n",
       "0        housemaid  married             basic 4y       no      no   no   \n",
       "1         services  married          high school  unknown      no   no   \n",
       "2         services  married          high school       no     yes   no   \n",
       "3           admin.  married             basic 6y       no      no   no   \n",
       "4         services  married          high school       no      no  yes   \n",
       "...            ...      ...                  ...      ...     ...  ...   \n",
       "41183      retired  married  professional course       no     yes   no   \n",
       "41184  blue-collar  married  professional course       no      no   no   \n",
       "41185      retired  married    university degree       no     yes   no   \n",
       "41186   technician  married  professional course       no      no   no   \n",
       "41187      retired  married  professional course       no     yes   no   \n",
       "\n",
       "         contact month day_of_week     poutcome age_bin duration_bin  \n",
       "0      telephone   may         mon  nonexistent   Elder      180-360  \n",
       "1      telephone   may         mon  nonexistent   Elder        0-180  \n",
       "2      telephone   may         mon  nonexistent   Adult      180-360  \n",
       "3      telephone   may         mon  nonexistent   Adult        0-180  \n",
       "4      telephone   may         mon  nonexistent   Elder      180-360  \n",
       "...          ...   ...         ...          ...     ...          ...  \n",
       "41183   cellular   nov         fri  nonexistent   Elder      180-360  \n",
       "41184   cellular   nov         fri  nonexistent   Elder      360-540  \n",
       "41185   cellular   nov         fri  nonexistent   Elder      180-360  \n",
       "41186   cellular   nov         fri  nonexistent   Elder      360-540  \n",
       "41187   cellular   nov         fri      failure   Elder      180-360  \n",
       "\n",
       "[41188 rows x 12 columns]"
      ],
      "text/html": "<div>\n<style scoped>\n    .dataframe tbody tr th:only-of-type {\n        vertical-align: middle;\n    }\n\n    .dataframe tbody tr th {\n        vertical-align: top;\n    }\n\n    .dataframe thead th {\n        text-align: right;\n    }\n</style>\n<table border=\"1\" class=\"dataframe\">\n  <thead>\n    <tr style=\"text-align: right;\">\n      <th></th>\n      <th>job</th>\n      <th>marital</th>\n      <th>education</th>\n      <th>default</th>\n      <th>housing</th>\n      <th>loan</th>\n      <th>contact</th>\n      <th>month</th>\n      <th>day_of_week</th>\n      <th>poutcome</th>\n      <th>age_bin</th>\n      <th>duration_bin</th>\n    </tr>\n  </thead>\n  <tbody>\n    <tr>\n      <th>0</th>\n      <td>housemaid</td>\n      <td>married</td>\n      <td>basic 4y</td>\n      <td>no</td>\n      <td>no</td>\n      <td>no</td>\n      <td>telephone</td>\n      <td>may</td>\n      <td>mon</td>\n      <td>nonexistent</td>\n      <td>Elder</td>\n      <td>180-360</td>\n    </tr>\n    <tr>\n      <th>1</th>\n      <td>services</td>\n      <td>married</td>\n      <td>high school</td>\n      <td>unknown</td>\n      <td>no</td>\n      <td>no</td>\n      <td>telephone</td>\n      <td>may</td>\n      <td>mon</td>\n      <td>nonexistent</td>\n      <td>Elder</td>\n      <td>0-180</td>\n    </tr>\n    <tr>\n      <th>2</th>\n      <td>services</td>\n      <td>married</td>\n      <td>high school</td>\n      <td>no</td>\n      <td>yes</td>\n      <td>no</td>\n      <td>telephone</td>\n      <td>may</td>\n      <td>mon</td>\n      <td>nonexistent</td>\n      <td>Adult</td>\n      <td>180-360</td>\n    </tr>\n    <tr>\n      <th>3</th>\n      <td>admin.</td>\n      <td>married</td>\n      <td>basic 6y</td>\n      <td>no</td>\n      <td>no</td>\n      <td>no</td>\n      <td>telephone</td>\n      <td>may</td>\n      <td>mon</td>\n      <td>nonexistent</td>\n      <td>Adult</td>\n      <td>0-180</td>\n    </tr>\n    <tr>\n      <th>4</th>\n      <td>services</td>\n      <td>married</td>\n      <td>high school</td>\n      <td>no</td>\n      <td>no</td>\n      <td>yes</td>\n      <td>telephone</td>\n      <td>may</td>\n      <td>mon</td>\n      <td>nonexistent</td>\n      <td>Elder</td>\n      <td>180-360</td>\n    </tr>\n    <tr>\n      <th>...</th>\n      <td>...</td>\n      <td>...</td>\n      <td>...</td>\n      <td>...</td>\n      <td>...</td>\n      <td>...</td>\n      <td>...</td>\n      <td>...</td>\n      <td>...</td>\n      <td>...</td>\n      <td>...</td>\n      <td>...</td>\n    </tr>\n    <tr>\n      <th>41183</th>\n      <td>retired</td>\n      <td>married</td>\n      <td>professional course</td>\n      <td>no</td>\n      <td>yes</td>\n      <td>no</td>\n      <td>cellular</td>\n      <td>nov</td>\n      <td>fri</td>\n      <td>nonexistent</td>\n      <td>Elder</td>\n      <td>180-360</td>\n    </tr>\n    <tr>\n      <th>41184</th>\n      <td>blue-collar</td>\n      <td>married</td>\n      <td>professional course</td>\n      <td>no</td>\n      <td>no</td>\n      <td>no</td>\n      <td>cellular</td>\n      <td>nov</td>\n      <td>fri</td>\n      <td>nonexistent</td>\n      <td>Elder</td>\n      <td>360-540</td>\n    </tr>\n    <tr>\n      <th>41185</th>\n      <td>retired</td>\n      <td>married</td>\n      <td>university degree</td>\n      <td>no</td>\n      <td>yes</td>\n      <td>no</td>\n      <td>cellular</td>\n      <td>nov</td>\n      <td>fri</td>\n      <td>nonexistent</td>\n      <td>Elder</td>\n      <td>180-360</td>\n    </tr>\n    <tr>\n      <th>41186</th>\n      <td>technician</td>\n      <td>married</td>\n      <td>professional course</td>\n      <td>no</td>\n      <td>no</td>\n      <td>no</td>\n      <td>cellular</td>\n      <td>nov</td>\n      <td>fri</td>\n      <td>nonexistent</td>\n      <td>Elder</td>\n      <td>360-540</td>\n    </tr>\n    <tr>\n      <th>41187</th>\n      <td>retired</td>\n      <td>married</td>\n      <td>professional course</td>\n      <td>no</td>\n      <td>yes</td>\n      <td>no</td>\n      <td>cellular</td>\n      <td>nov</td>\n      <td>fri</td>\n      <td>failure</td>\n      <td>Elder</td>\n      <td>180-360</td>\n    </tr>\n  </tbody>\n</table>\n<p>41188 rows × 12 columns</p>\n</div>"
     },
     "metadata": {},
     "execution_count": 70
    }
   ],
   "source": [
    "df[cat_columns]"
   ]
  },
  {
   "cell_type": "code",
   "execution_count": 71,
   "metadata": {},
   "outputs": [
    {
     "output_type": "execute_result",
     "data": {
      "text/plain": [
       "['campaign',\n",
       " 'pdays',\n",
       " 'previous',\n",
       " 'emp.var.rate',\n",
       " 'cons.price.idx',\n",
       " 'cons.conf.idx',\n",
       " 'euribor3m',\n",
       " 'nr.employed']"
      ]
     },
     "metadata": {},
     "execution_count": 71
    }
   ],
   "source": [
    "num_columns"
   ]
  },
  {
   "cell_type": "code",
   "execution_count": null,
   "metadata": {},
   "outputs": [],
   "source": []
  },
  {
   "cell_type": "code",
   "execution_count": 72,
   "metadata": {},
   "outputs": [
    {
     "output_type": "execute_result",
     "data": {
      "text/plain": [
       "                campaign     pdays  previous  emp.var.rate  cons.price.idx  \\\n",
       "campaign        1.000000  0.052584 -0.079141      0.150754        0.127836   \n",
       "pdays           0.052584  1.000000 -0.587514      0.271004        0.078889   \n",
       "previous       -0.079141 -0.587514  1.000000     -0.420489       -0.203130   \n",
       "emp.var.rate    0.150754  0.271004 -0.420489      1.000000        0.775334   \n",
       "cons.price.idx  0.127836  0.078889 -0.203130      0.775334        1.000000   \n",
       "cons.conf.idx  -0.013733 -0.091342 -0.050936      0.196041        0.058986   \n",
       "euribor3m       0.135133  0.296899 -0.454494      0.972245        0.688230   \n",
       "nr.employed     0.144095  0.372605 -0.501333      0.906970        0.522034   \n",
       "y              -0.066357 -0.324914  0.230181     -0.298334       -0.136211   \n",
       "\n",
       "                cons.conf.idx  euribor3m  nr.employed         y  \n",
       "campaign            -0.013733   0.135133     0.144095 -0.066357  \n",
       "pdays               -0.091342   0.296899     0.372605 -0.324914  \n",
       "previous            -0.050936  -0.454494    -0.501333  0.230181  \n",
       "emp.var.rate         0.196041   0.972245     0.906970 -0.298334  \n",
       "cons.price.idx       0.058986   0.688230     0.522034 -0.136211  \n",
       "cons.conf.idx        1.000000   0.277686     0.100513  0.054878  \n",
       "euribor3m            0.277686   1.000000     0.945154 -0.307771  \n",
       "nr.employed          0.100513   0.945154     1.000000 -0.354678  \n",
       "y                    0.054878  -0.307771    -0.354678  1.000000  "
      ],
      "text/html": "<div>\n<style scoped>\n    .dataframe tbody tr th:only-of-type {\n        vertical-align: middle;\n    }\n\n    .dataframe tbody tr th {\n        vertical-align: top;\n    }\n\n    .dataframe thead th {\n        text-align: right;\n    }\n</style>\n<table border=\"1\" class=\"dataframe\">\n  <thead>\n    <tr style=\"text-align: right;\">\n      <th></th>\n      <th>campaign</th>\n      <th>pdays</th>\n      <th>previous</th>\n      <th>emp.var.rate</th>\n      <th>cons.price.idx</th>\n      <th>cons.conf.idx</th>\n      <th>euribor3m</th>\n      <th>nr.employed</th>\n      <th>y</th>\n    </tr>\n  </thead>\n  <tbody>\n    <tr>\n      <th>campaign</th>\n      <td>1.000000</td>\n      <td>0.052584</td>\n      <td>-0.079141</td>\n      <td>0.150754</td>\n      <td>0.127836</td>\n      <td>-0.013733</td>\n      <td>0.135133</td>\n      <td>0.144095</td>\n      <td>-0.066357</td>\n    </tr>\n    <tr>\n      <th>pdays</th>\n      <td>0.052584</td>\n      <td>1.000000</td>\n      <td>-0.587514</td>\n      <td>0.271004</td>\n      <td>0.078889</td>\n      <td>-0.091342</td>\n      <td>0.296899</td>\n      <td>0.372605</td>\n      <td>-0.324914</td>\n    </tr>\n    <tr>\n      <th>previous</th>\n      <td>-0.079141</td>\n      <td>-0.587514</td>\n      <td>1.000000</td>\n      <td>-0.420489</td>\n      <td>-0.203130</td>\n      <td>-0.050936</td>\n      <td>-0.454494</td>\n      <td>-0.501333</td>\n      <td>0.230181</td>\n    </tr>\n    <tr>\n      <th>emp.var.rate</th>\n      <td>0.150754</td>\n      <td>0.271004</td>\n      <td>-0.420489</td>\n      <td>1.000000</td>\n      <td>0.775334</td>\n      <td>0.196041</td>\n      <td>0.972245</td>\n      <td>0.906970</td>\n      <td>-0.298334</td>\n    </tr>\n    <tr>\n      <th>cons.price.idx</th>\n      <td>0.127836</td>\n      <td>0.078889</td>\n      <td>-0.203130</td>\n      <td>0.775334</td>\n      <td>1.000000</td>\n      <td>0.058986</td>\n      <td>0.688230</td>\n      <td>0.522034</td>\n      <td>-0.136211</td>\n    </tr>\n    <tr>\n      <th>cons.conf.idx</th>\n      <td>-0.013733</td>\n      <td>-0.091342</td>\n      <td>-0.050936</td>\n      <td>0.196041</td>\n      <td>0.058986</td>\n      <td>1.000000</td>\n      <td>0.277686</td>\n      <td>0.100513</td>\n      <td>0.054878</td>\n    </tr>\n    <tr>\n      <th>euribor3m</th>\n      <td>0.135133</td>\n      <td>0.296899</td>\n      <td>-0.454494</td>\n      <td>0.972245</td>\n      <td>0.688230</td>\n      <td>0.277686</td>\n      <td>1.000000</td>\n      <td>0.945154</td>\n      <td>-0.307771</td>\n    </tr>\n    <tr>\n      <th>nr.employed</th>\n      <td>0.144095</td>\n      <td>0.372605</td>\n      <td>-0.501333</td>\n      <td>0.906970</td>\n      <td>0.522034</td>\n      <td>0.100513</td>\n      <td>0.945154</td>\n      <td>1.000000</td>\n      <td>-0.354678</td>\n    </tr>\n    <tr>\n      <th>y</th>\n      <td>-0.066357</td>\n      <td>-0.324914</td>\n      <td>0.230181</td>\n      <td>-0.298334</td>\n      <td>-0.136211</td>\n      <td>0.054878</td>\n      <td>-0.307771</td>\n      <td>-0.354678</td>\n      <td>1.000000</td>\n    </tr>\n  </tbody>\n</table>\n</div>"
     },
     "metadata": {},
     "execution_count": 72
    }
   ],
   "source": [
    "df.corr()"
   ]
  },
  {
   "cell_type": "code",
   "execution_count": 73,
   "metadata": {},
   "outputs": [
    {
     "output_type": "execute_result",
     "data": {
      "text/plain": [
       "                job   marital          education  default housing loan  \\\n",
       "25611   blue-collar   married           basic 9y  unknown      no   no   \n",
       "26010  entrepreneur   married  university degree       no      no   no   \n",
       "297          admin.   married  university degree       no     yes   no   \n",
       "36344       retired  divorced  university degree       no      no   no   \n",
       "21806        admin.    single  university degree       no      no   no   \n",
       "...             ...       ...                ...      ...     ...  ...   \n",
       "12425  entrepreneur   married           basic 6y       no     yes  yes   \n",
       "38689        admin.    single        high school       no     yes   no   \n",
       "34610   blue-collar    single           basic 9y       no     yes  yes   \n",
       "37465        admin.    single  university degree       no     yes  yes   \n",
       "40929       student    single            unknown       no     yes  yes   \n",
       "\n",
       "         contact month day_of_week  campaign  pdays  previous     poutcome  \\\n",
       "25611   cellular   nov         wed         4    999         0  nonexistent   \n",
       "26010  telephone   nov         wed         2    999         1      failure   \n",
       "297    telephone   may         mon         2    999         0  nonexistent   \n",
       "36344   cellular   jun         tue         2    999         0  nonexistent   \n",
       "21806   cellular   aug         wed         2    999         0  nonexistent   \n",
       "...          ...   ...         ...       ...    ...       ...          ...   \n",
       "12425   cellular   jul         mon         1    999         0  nonexistent   \n",
       "38689   cellular   nov         mon         1      3         1      success   \n",
       "34610   cellular   may         thu         4    999         0  nonexistent   \n",
       "37465   cellular   aug         thu         3      3         1      success   \n",
       "40929   cellular   oct         tue         1      3         4      success   \n",
       "\n",
       "       emp.var.rate  cons.price.idx  cons.conf.idx  euribor3m  nr.employed  \\\n",
       "25611          -0.1          93.200          -42.0      4.120       5195.8   \n",
       "26010          -0.1          93.200          -42.0      4.120       5195.8   \n",
       "297             1.1          93.994          -36.4      4.857       5191.0   \n",
       "36344          -2.9          92.963          -40.8      1.262       5076.2   \n",
       "21806           1.4          93.444          -36.1      4.964       5228.1   \n",
       "...             ...             ...            ...        ...          ...   \n",
       "12425           1.4          93.918          -42.7      4.960       5228.1   \n",
       "38689          -3.4          92.649          -30.1      0.715       5017.5   \n",
       "34610          -1.8          92.893          -46.2      1.266       5099.1   \n",
       "37465          -2.9          92.201          -31.4      0.873       5076.2   \n",
       "40929          -1.1          94.601          -49.5      0.982       4963.6   \n",
       "\n",
       "        age_bin duration_bin  \n",
       "25611     Elder      180-360  \n",
       "26010     Adult      180-360  \n",
       "297       Adult        0-180  \n",
       "36344     Elder      360-540  \n",
       "21806     Adult      180-360  \n",
       "...         ...          ...  \n",
       "12425     Adult      720-900  \n",
       "38689     Adult      180-360  \n",
       "34610     Adult      180-360  \n",
       "37465     Adult      180-360  \n",
       "40929  Teenager      180-360  \n",
       "\n",
       "[58476 rows x 20 columns]"
      ],
      "text/html": "<div>\n<style scoped>\n    .dataframe tbody tr th:only-of-type {\n        vertical-align: middle;\n    }\n\n    .dataframe tbody tr th {\n        vertical-align: top;\n    }\n\n    .dataframe thead th {\n        text-align: right;\n    }\n</style>\n<table border=\"1\" class=\"dataframe\">\n  <thead>\n    <tr style=\"text-align: right;\">\n      <th></th>\n      <th>job</th>\n      <th>marital</th>\n      <th>education</th>\n      <th>default</th>\n      <th>housing</th>\n      <th>loan</th>\n      <th>contact</th>\n      <th>month</th>\n      <th>day_of_week</th>\n      <th>campaign</th>\n      <th>pdays</th>\n      <th>previous</th>\n      <th>poutcome</th>\n      <th>emp.var.rate</th>\n      <th>cons.price.idx</th>\n      <th>cons.conf.idx</th>\n      <th>euribor3m</th>\n      <th>nr.employed</th>\n      <th>age_bin</th>\n      <th>duration_bin</th>\n    </tr>\n  </thead>\n  <tbody>\n    <tr>\n      <th>25611</th>\n      <td>blue-collar</td>\n      <td>married</td>\n      <td>basic 9y</td>\n      <td>unknown</td>\n      <td>no</td>\n      <td>no</td>\n      <td>cellular</td>\n      <td>nov</td>\n      <td>wed</td>\n      <td>4</td>\n      <td>999</td>\n      <td>0</td>\n      <td>nonexistent</td>\n      <td>-0.1</td>\n      <td>93.200</td>\n      <td>-42.0</td>\n      <td>4.120</td>\n      <td>5195.8</td>\n      <td>Elder</td>\n      <td>180-360</td>\n    </tr>\n    <tr>\n      <th>26010</th>\n      <td>entrepreneur</td>\n      <td>married</td>\n      <td>university degree</td>\n      <td>no</td>\n      <td>no</td>\n      <td>no</td>\n      <td>telephone</td>\n      <td>nov</td>\n      <td>wed</td>\n      <td>2</td>\n      <td>999</td>\n      <td>1</td>\n      <td>failure</td>\n      <td>-0.1</td>\n      <td>93.200</td>\n      <td>-42.0</td>\n      <td>4.120</td>\n      <td>5195.8</td>\n      <td>Adult</td>\n      <td>180-360</td>\n    </tr>\n    <tr>\n      <th>297</th>\n      <td>admin.</td>\n      <td>married</td>\n      <td>university degree</td>\n      <td>no</td>\n      <td>yes</td>\n      <td>no</td>\n      <td>telephone</td>\n      <td>may</td>\n      <td>mon</td>\n      <td>2</td>\n      <td>999</td>\n      <td>0</td>\n      <td>nonexistent</td>\n      <td>1.1</td>\n      <td>93.994</td>\n      <td>-36.4</td>\n      <td>4.857</td>\n      <td>5191.0</td>\n      <td>Adult</td>\n      <td>0-180</td>\n    </tr>\n    <tr>\n      <th>36344</th>\n      <td>retired</td>\n      <td>divorced</td>\n      <td>university degree</td>\n      <td>no</td>\n      <td>no</td>\n      <td>no</td>\n      <td>cellular</td>\n      <td>jun</td>\n      <td>tue</td>\n      <td>2</td>\n      <td>999</td>\n      <td>0</td>\n      <td>nonexistent</td>\n      <td>-2.9</td>\n      <td>92.963</td>\n      <td>-40.8</td>\n      <td>1.262</td>\n      <td>5076.2</td>\n      <td>Elder</td>\n      <td>360-540</td>\n    </tr>\n    <tr>\n      <th>21806</th>\n      <td>admin.</td>\n      <td>single</td>\n      <td>university degree</td>\n      <td>no</td>\n      <td>no</td>\n      <td>no</td>\n      <td>cellular</td>\n      <td>aug</td>\n      <td>wed</td>\n      <td>2</td>\n      <td>999</td>\n      <td>0</td>\n      <td>nonexistent</td>\n      <td>1.4</td>\n      <td>93.444</td>\n      <td>-36.1</td>\n      <td>4.964</td>\n      <td>5228.1</td>\n      <td>Adult</td>\n      <td>180-360</td>\n    </tr>\n    <tr>\n      <th>...</th>\n      <td>...</td>\n      <td>...</td>\n      <td>...</td>\n      <td>...</td>\n      <td>...</td>\n      <td>...</td>\n      <td>...</td>\n      <td>...</td>\n      <td>...</td>\n      <td>...</td>\n      <td>...</td>\n      <td>...</td>\n      <td>...</td>\n      <td>...</td>\n      <td>...</td>\n      <td>...</td>\n      <td>...</td>\n      <td>...</td>\n      <td>...</td>\n      <td>...</td>\n    </tr>\n    <tr>\n      <th>12425</th>\n      <td>entrepreneur</td>\n      <td>married</td>\n      <td>basic 6y</td>\n      <td>no</td>\n      <td>yes</td>\n      <td>yes</td>\n      <td>cellular</td>\n      <td>jul</td>\n      <td>mon</td>\n      <td>1</td>\n      <td>999</td>\n      <td>0</td>\n      <td>nonexistent</td>\n      <td>1.4</td>\n      <td>93.918</td>\n      <td>-42.7</td>\n      <td>4.960</td>\n      <td>5228.1</td>\n      <td>Adult</td>\n      <td>720-900</td>\n    </tr>\n    <tr>\n      <th>38689</th>\n      <td>admin.</td>\n      <td>single</td>\n      <td>high school</td>\n      <td>no</td>\n      <td>yes</td>\n      <td>no</td>\n      <td>cellular</td>\n      <td>nov</td>\n      <td>mon</td>\n      <td>1</td>\n      <td>3</td>\n      <td>1</td>\n      <td>success</td>\n      <td>-3.4</td>\n      <td>92.649</td>\n      <td>-30.1</td>\n      <td>0.715</td>\n      <td>5017.5</td>\n      <td>Adult</td>\n      <td>180-360</td>\n    </tr>\n    <tr>\n      <th>34610</th>\n      <td>blue-collar</td>\n      <td>single</td>\n      <td>basic 9y</td>\n      <td>no</td>\n      <td>yes</td>\n      <td>yes</td>\n      <td>cellular</td>\n      <td>may</td>\n      <td>thu</td>\n      <td>4</td>\n      <td>999</td>\n      <td>0</td>\n      <td>nonexistent</td>\n      <td>-1.8</td>\n      <td>92.893</td>\n      <td>-46.2</td>\n      <td>1.266</td>\n      <td>5099.1</td>\n      <td>Adult</td>\n      <td>180-360</td>\n    </tr>\n    <tr>\n      <th>37465</th>\n      <td>admin.</td>\n      <td>single</td>\n      <td>university degree</td>\n      <td>no</td>\n      <td>yes</td>\n      <td>yes</td>\n      <td>cellular</td>\n      <td>aug</td>\n      <td>thu</td>\n      <td>3</td>\n      <td>3</td>\n      <td>1</td>\n      <td>success</td>\n      <td>-2.9</td>\n      <td>92.201</td>\n      <td>-31.4</td>\n      <td>0.873</td>\n      <td>5076.2</td>\n      <td>Adult</td>\n      <td>180-360</td>\n    </tr>\n    <tr>\n      <th>40929</th>\n      <td>student</td>\n      <td>single</td>\n      <td>unknown</td>\n      <td>no</td>\n      <td>yes</td>\n      <td>yes</td>\n      <td>cellular</td>\n      <td>oct</td>\n      <td>tue</td>\n      <td>1</td>\n      <td>3</td>\n      <td>4</td>\n      <td>success</td>\n      <td>-1.1</td>\n      <td>94.601</td>\n      <td>-49.5</td>\n      <td>0.982</td>\n      <td>4963.6</td>\n      <td>Teenager</td>\n      <td>180-360</td>\n    </tr>\n  </tbody>\n</table>\n<p>58476 rows × 20 columns</p>\n</div>"
     },
     "metadata": {},
     "execution_count": 73
    }
   ],
   "source": [
    "X_train_OS"
   ]
  },
  {
   "cell_type": "code",
   "execution_count": 74,
   "metadata": {},
   "outputs": [],
   "source": [
    "xlabel = X_train_OS.copy(deep=True)"
   ]
  },
  {
   "cell_type": "code",
   "execution_count": 75,
   "metadata": {},
   "outputs": [
    {
     "output_type": "execute_result",
     "data": {
      "text/plain": [
       "Index(['job', 'marital', 'education', 'default', 'housing', 'loan', 'contact',\n",
       "       'month', 'day_of_week', 'campaign', 'pdays', 'previous', 'poutcome',\n",
       "       'emp.var.rate', 'cons.price.idx', 'cons.conf.idx', 'euribor3m',\n",
       "       'nr.employed', 'age_bin', 'duration_bin'],\n",
       "      dtype='object')"
      ]
     },
     "metadata": {},
     "execution_count": 75
    }
   ],
   "source": [
    "xlabel.columns"
   ]
  },
  {
   "cell_type": "code",
   "execution_count": 76,
   "metadata": {},
   "outputs": [
    {
     "output_type": "execute_result",
     "data": {
      "text/plain": [
       "array(['basic 9y', 'university degree', 'basic 4y', 'high school',\n",
       "       'professional course', 'unknown', 'basic 6y', 'illiterate'],\n",
       "      dtype=object)"
      ]
     },
     "metadata": {},
     "execution_count": 76
    }
   ],
   "source": [
    "xlabel.education.unique()"
   ]
  },
  {
   "cell_type": "code",
   "execution_count": 77,
   "metadata": {},
   "outputs": [],
   "source": [
    "X_test_label = X_test.copy(deep=True)"
   ]
  },
  {
   "cell_type": "code",
   "execution_count": 78,
   "metadata": {},
   "outputs": [],
   "source": [
    "xlabel['education'] = xlabel['education'].map(\n",
    "    {\n",
    "        \"unknown\" : 0,\n",
    "        \"illiterate\" : 0,\n",
    "        \"basic 4y\" : 1,\n",
    "        \"basic 6y\" : 2,\n",
    "        \"basic 9y\" : 3,\n",
    "        \"high school\" : 4,\n",
    "        \"university degree\" : 5,\n",
    "        \"professional course\" : 6\n",
    "    }\n",
    ")"
   ]
  },
  {
   "cell_type": "code",
   "execution_count": 79,
   "metadata": {},
   "outputs": [],
   "source": [
    "X_test_label['education'] = X_test_label['education'].map(\n",
    "    {\n",
    "        \"unknown\" : 0,\n",
    "        \"illiterate\" : 0,\n",
    "        \"basic 4y\" : 1,\n",
    "        \"basic 6y\" : 2,\n",
    "        \"basic 9y\" : 3,\n",
    "        \"high school\" : 4,\n",
    "        \"university degree\" : 5,\n",
    "        \"professional course\" : 6\n",
    "    }\n",
    ")"
   ]
  },
  {
   "cell_type": "code",
   "execution_count": 80,
   "metadata": {},
   "outputs": [
    {
     "output_type": "execute_result",
     "data": {
      "text/plain": [
       "['Elder', 'Adult', 'Teenager']\n",
       "Categories (3, object): ['Teenager' < 'Adult' < 'Elder']"
      ]
     },
     "metadata": {},
     "execution_count": 80
    }
   ],
   "source": [
    "xlabel['age_bin'].unique()"
   ]
  },
  {
   "cell_type": "code",
   "execution_count": 81,
   "metadata": {},
   "outputs": [],
   "source": [
    "xlabel['age_bin'] = xlabel['age_bin'].map(\n",
    "    {\n",
    "        \"Teenager\" : 0,\n",
    "        \"Adult\" : 1,\n",
    "        \"Elder\" : 2\n",
    "    }\n",
    ")"
   ]
  },
  {
   "cell_type": "code",
   "execution_count": 82,
   "metadata": {},
   "outputs": [],
   "source": [
    "X_test_label['age_bin'] = X_test_label['age_bin'].map(\n",
    "    {\n",
    "        \"Teenager\" : 0,\n",
    "        \"Adult\" : 1,\n",
    "        \"Elder\" : 2\n",
    "    }\n",
    ")"
   ]
  },
  {
   "cell_type": "code",
   "execution_count": 83,
   "metadata": {},
   "outputs": [
    {
     "output_type": "execute_result",
     "data": {
      "text/plain": [
       "['180-360', '0-180', '360-540', '540-720', '>900', '720-900']\n",
       "Categories (6, object): ['0-180' < '180-360' < '360-540' < '540-720' < '720-900' < '>900']"
      ]
     },
     "metadata": {},
     "execution_count": 83
    }
   ],
   "source": [
    "xlabel['duration_bin'].unique()"
   ]
  },
  {
   "cell_type": "code",
   "execution_count": 84,
   "metadata": {},
   "outputs": [],
   "source": [
    "xlabel['duration_bin'] = xlabel['duration_bin'].map(\n",
    "    {\n",
    "        '180-360' : 1, '0-180' : 0, '360-540' : 2, '540-720' : 3, '>900' : 5, '720-900' : 4\n",
    "    }\n",
    ")"
   ]
  },
  {
   "cell_type": "code",
   "execution_count": 85,
   "metadata": {},
   "outputs": [],
   "source": [
    "X_test_label['duration_bin'] = X_test_label['duration_bin'].map(\n",
    "    {\n",
    "        '180-360' : 1, '0-180' : 0, '360-540' : 2, '540-720' : 3, '>900' : 5, '720-900' : 4\n",
    "    }\n",
    ")"
   ]
  },
  {
   "cell_type": "code",
   "execution_count": 86,
   "metadata": {},
   "outputs": [
    {
     "output_type": "execute_result",
     "data": {
      "text/plain": [
       "                job   marital          education  default housing loan  \\\n",
       "25611   blue-collar   married           basic 9y  unknown      no   no   \n",
       "26010  entrepreneur   married  university degree       no      no   no   \n",
       "297          admin.   married  university degree       no     yes   no   \n",
       "36344       retired  divorced  university degree       no      no   no   \n",
       "21806        admin.    single  university degree       no      no   no   \n",
       "...             ...       ...                ...      ...     ...  ...   \n",
       "12425  entrepreneur   married           basic 6y       no     yes  yes   \n",
       "38689        admin.    single        high school       no     yes   no   \n",
       "34610   blue-collar    single           basic 9y       no     yes  yes   \n",
       "37465        admin.    single  university degree       no     yes  yes   \n",
       "40929       student    single            unknown       no     yes  yes   \n",
       "\n",
       "         contact month day_of_week  campaign  pdays  previous     poutcome  \\\n",
       "25611   cellular   nov         wed         4    999         0  nonexistent   \n",
       "26010  telephone   nov         wed         2    999         1      failure   \n",
       "297    telephone   may         mon         2    999         0  nonexistent   \n",
       "36344   cellular   jun         tue         2    999         0  nonexistent   \n",
       "21806   cellular   aug         wed         2    999         0  nonexistent   \n",
       "...          ...   ...         ...       ...    ...       ...          ...   \n",
       "12425   cellular   jul         mon         1    999         0  nonexistent   \n",
       "38689   cellular   nov         mon         1      3         1      success   \n",
       "34610   cellular   may         thu         4    999         0  nonexistent   \n",
       "37465   cellular   aug         thu         3      3         1      success   \n",
       "40929   cellular   oct         tue         1      3         4      success   \n",
       "\n",
       "       emp.var.rate  cons.price.idx  cons.conf.idx  euribor3m  nr.employed  \\\n",
       "25611          -0.1          93.200          -42.0      4.120       5195.8   \n",
       "26010          -0.1          93.200          -42.0      4.120       5195.8   \n",
       "297             1.1          93.994          -36.4      4.857       5191.0   \n",
       "36344          -2.9          92.963          -40.8      1.262       5076.2   \n",
       "21806           1.4          93.444          -36.1      4.964       5228.1   \n",
       "...             ...             ...            ...        ...          ...   \n",
       "12425           1.4          93.918          -42.7      4.960       5228.1   \n",
       "38689          -3.4          92.649          -30.1      0.715       5017.5   \n",
       "34610          -1.8          92.893          -46.2      1.266       5099.1   \n",
       "37465          -2.9          92.201          -31.4      0.873       5076.2   \n",
       "40929          -1.1          94.601          -49.5      0.982       4963.6   \n",
       "\n",
       "        age_bin duration_bin  \n",
       "25611     Elder      180-360  \n",
       "26010     Adult      180-360  \n",
       "297       Adult        0-180  \n",
       "36344     Elder      360-540  \n",
       "21806     Adult      180-360  \n",
       "...         ...          ...  \n",
       "12425     Adult      720-900  \n",
       "38689     Adult      180-360  \n",
       "34610     Adult      180-360  \n",
       "37465     Adult      180-360  \n",
       "40929  Teenager      180-360  \n",
       "\n",
       "[58476 rows x 20 columns]"
      ],
      "text/html": "<div>\n<style scoped>\n    .dataframe tbody tr th:only-of-type {\n        vertical-align: middle;\n    }\n\n    .dataframe tbody tr th {\n        vertical-align: top;\n    }\n\n    .dataframe thead th {\n        text-align: right;\n    }\n</style>\n<table border=\"1\" class=\"dataframe\">\n  <thead>\n    <tr style=\"text-align: right;\">\n      <th></th>\n      <th>job</th>\n      <th>marital</th>\n      <th>education</th>\n      <th>default</th>\n      <th>housing</th>\n      <th>loan</th>\n      <th>contact</th>\n      <th>month</th>\n      <th>day_of_week</th>\n      <th>campaign</th>\n      <th>pdays</th>\n      <th>previous</th>\n      <th>poutcome</th>\n      <th>emp.var.rate</th>\n      <th>cons.price.idx</th>\n      <th>cons.conf.idx</th>\n      <th>euribor3m</th>\n      <th>nr.employed</th>\n      <th>age_bin</th>\n      <th>duration_bin</th>\n    </tr>\n  </thead>\n  <tbody>\n    <tr>\n      <th>25611</th>\n      <td>blue-collar</td>\n      <td>married</td>\n      <td>basic 9y</td>\n      <td>unknown</td>\n      <td>no</td>\n      <td>no</td>\n      <td>cellular</td>\n      <td>nov</td>\n      <td>wed</td>\n      <td>4</td>\n      <td>999</td>\n      <td>0</td>\n      <td>nonexistent</td>\n      <td>-0.1</td>\n      <td>93.200</td>\n      <td>-42.0</td>\n      <td>4.120</td>\n      <td>5195.8</td>\n      <td>Elder</td>\n      <td>180-360</td>\n    </tr>\n    <tr>\n      <th>26010</th>\n      <td>entrepreneur</td>\n      <td>married</td>\n      <td>university degree</td>\n      <td>no</td>\n      <td>no</td>\n      <td>no</td>\n      <td>telephone</td>\n      <td>nov</td>\n      <td>wed</td>\n      <td>2</td>\n      <td>999</td>\n      <td>1</td>\n      <td>failure</td>\n      <td>-0.1</td>\n      <td>93.200</td>\n      <td>-42.0</td>\n      <td>4.120</td>\n      <td>5195.8</td>\n      <td>Adult</td>\n      <td>180-360</td>\n    </tr>\n    <tr>\n      <th>297</th>\n      <td>admin.</td>\n      <td>married</td>\n      <td>university degree</td>\n      <td>no</td>\n      <td>yes</td>\n      <td>no</td>\n      <td>telephone</td>\n      <td>may</td>\n      <td>mon</td>\n      <td>2</td>\n      <td>999</td>\n      <td>0</td>\n      <td>nonexistent</td>\n      <td>1.1</td>\n      <td>93.994</td>\n      <td>-36.4</td>\n      <td>4.857</td>\n      <td>5191.0</td>\n      <td>Adult</td>\n      <td>0-180</td>\n    </tr>\n    <tr>\n      <th>36344</th>\n      <td>retired</td>\n      <td>divorced</td>\n      <td>university degree</td>\n      <td>no</td>\n      <td>no</td>\n      <td>no</td>\n      <td>cellular</td>\n      <td>jun</td>\n      <td>tue</td>\n      <td>2</td>\n      <td>999</td>\n      <td>0</td>\n      <td>nonexistent</td>\n      <td>-2.9</td>\n      <td>92.963</td>\n      <td>-40.8</td>\n      <td>1.262</td>\n      <td>5076.2</td>\n      <td>Elder</td>\n      <td>360-540</td>\n    </tr>\n    <tr>\n      <th>21806</th>\n      <td>admin.</td>\n      <td>single</td>\n      <td>university degree</td>\n      <td>no</td>\n      <td>no</td>\n      <td>no</td>\n      <td>cellular</td>\n      <td>aug</td>\n      <td>wed</td>\n      <td>2</td>\n      <td>999</td>\n      <td>0</td>\n      <td>nonexistent</td>\n      <td>1.4</td>\n      <td>93.444</td>\n      <td>-36.1</td>\n      <td>4.964</td>\n      <td>5228.1</td>\n      <td>Adult</td>\n      <td>180-360</td>\n    </tr>\n    <tr>\n      <th>...</th>\n      <td>...</td>\n      <td>...</td>\n      <td>...</td>\n      <td>...</td>\n      <td>...</td>\n      <td>...</td>\n      <td>...</td>\n      <td>...</td>\n      <td>...</td>\n      <td>...</td>\n      <td>...</td>\n      <td>...</td>\n      <td>...</td>\n      <td>...</td>\n      <td>...</td>\n      <td>...</td>\n      <td>...</td>\n      <td>...</td>\n      <td>...</td>\n      <td>...</td>\n    </tr>\n    <tr>\n      <th>12425</th>\n      <td>entrepreneur</td>\n      <td>married</td>\n      <td>basic 6y</td>\n      <td>no</td>\n      <td>yes</td>\n      <td>yes</td>\n      <td>cellular</td>\n      <td>jul</td>\n      <td>mon</td>\n      <td>1</td>\n      <td>999</td>\n      <td>0</td>\n      <td>nonexistent</td>\n      <td>1.4</td>\n      <td>93.918</td>\n      <td>-42.7</td>\n      <td>4.960</td>\n      <td>5228.1</td>\n      <td>Adult</td>\n      <td>720-900</td>\n    </tr>\n    <tr>\n      <th>38689</th>\n      <td>admin.</td>\n      <td>single</td>\n      <td>high school</td>\n      <td>no</td>\n      <td>yes</td>\n      <td>no</td>\n      <td>cellular</td>\n      <td>nov</td>\n      <td>mon</td>\n      <td>1</td>\n      <td>3</td>\n      <td>1</td>\n      <td>success</td>\n      <td>-3.4</td>\n      <td>92.649</td>\n      <td>-30.1</td>\n      <td>0.715</td>\n      <td>5017.5</td>\n      <td>Adult</td>\n      <td>180-360</td>\n    </tr>\n    <tr>\n      <th>34610</th>\n      <td>blue-collar</td>\n      <td>single</td>\n      <td>basic 9y</td>\n      <td>no</td>\n      <td>yes</td>\n      <td>yes</td>\n      <td>cellular</td>\n      <td>may</td>\n      <td>thu</td>\n      <td>4</td>\n      <td>999</td>\n      <td>0</td>\n      <td>nonexistent</td>\n      <td>-1.8</td>\n      <td>92.893</td>\n      <td>-46.2</td>\n      <td>1.266</td>\n      <td>5099.1</td>\n      <td>Adult</td>\n      <td>180-360</td>\n    </tr>\n    <tr>\n      <th>37465</th>\n      <td>admin.</td>\n      <td>single</td>\n      <td>university degree</td>\n      <td>no</td>\n      <td>yes</td>\n      <td>yes</td>\n      <td>cellular</td>\n      <td>aug</td>\n      <td>thu</td>\n      <td>3</td>\n      <td>3</td>\n      <td>1</td>\n      <td>success</td>\n      <td>-2.9</td>\n      <td>92.201</td>\n      <td>-31.4</td>\n      <td>0.873</td>\n      <td>5076.2</td>\n      <td>Adult</td>\n      <td>180-360</td>\n    </tr>\n    <tr>\n      <th>40929</th>\n      <td>student</td>\n      <td>single</td>\n      <td>unknown</td>\n      <td>no</td>\n      <td>yes</td>\n      <td>yes</td>\n      <td>cellular</td>\n      <td>oct</td>\n      <td>tue</td>\n      <td>1</td>\n      <td>3</td>\n      <td>4</td>\n      <td>success</td>\n      <td>-1.1</td>\n      <td>94.601</td>\n      <td>-49.5</td>\n      <td>0.982</td>\n      <td>4963.6</td>\n      <td>Teenager</td>\n      <td>180-360</td>\n    </tr>\n  </tbody>\n</table>\n<p>58476 rows × 20 columns</p>\n</div>"
     },
     "metadata": {},
     "execution_count": 86
    }
   ],
   "source": [
    "X_train_OS"
   ]
  },
  {
   "cell_type": "code",
   "execution_count": 87,
   "metadata": {},
   "outputs": [
    {
     "output_type": "execute_result",
     "data": {
      "text/plain": [
       "Index(['job', 'marital', 'education', 'default', 'housing', 'loan', 'contact',\n",
       "       'month', 'day_of_week', 'campaign', 'pdays', 'previous', 'poutcome',\n",
       "       'emp.var.rate', 'cons.price.idx', 'cons.conf.idx', 'euribor3m',\n",
       "       'nr.employed', 'age_bin', 'duration_bin'],\n",
       "      dtype='object')"
      ]
     },
     "metadata": {},
     "execution_count": 87
    }
   ],
   "source": [
    "X_train_OS.columns"
   ]
  },
  {
   "cell_type": "code",
   "execution_count": 88,
   "metadata": {},
   "outputs": [
    {
     "output_type": "execute_result",
     "data": {
      "text/plain": [
       "25611    0\n",
       "26010    0\n",
       "297      0\n",
       "36344    0\n",
       "21806    0\n",
       "        ..\n",
       "12425    1\n",
       "38689    1\n",
       "34610    1\n",
       "37465    1\n",
       "40929    1\n",
       "Name: y, Length: 58476, dtype: int64"
      ]
     },
     "metadata": {},
     "execution_count": 88
    }
   ],
   "source": [
    "y_train_OS"
   ]
  },
  {
   "cell_type": "code",
   "execution_count": 92,
   "metadata": {},
   "outputs": [
    {
     "output_type": "execute_result",
     "data": {
      "text/plain": [
       "Pipeline(steps=[('prep',\n",
       "                 ColumnTransformer(transformers=[('numeric',\n",
       "                                                  Pipeline(steps=[('scaler',\n",
       "                                                                   RobustScaler())]),\n",
       "                                                  ['campaign', 'pdays',\n",
       "                                                   'previous', 'emp.var.rate',\n",
       "                                                   'cons.price.idx',\n",
       "                                                   'cons.conf.idx', 'euribor3m',\n",
       "                                                   'nr.employed']),\n",
       "                                                 ('categorical',\n",
       "                                                  Pipeline(steps=[('encoder',\n",
       "                                                                   OneHotEncoder())]),\n",
       "                                                  ['job', 'marital',\n",
       "                                                   'education', 'default',\n",
       "                                                   'housing', 'loan', 'contact',\n",
       "                                                   'month', 'day_of_week',\n",
       "                                                   'poutcome', 'age_bin',\n",
       "                                                   'duration_bin'])])),\n",
       "                ('algo', DecisionTreeClassifier())])"
      ]
     },
     "metadata": {},
     "execution_count": 92
    }
   ],
   "source": [
    "pipe_DT.fit(X_train_OS, y_train_OS)"
   ]
  },
  {
   "cell_type": "code",
   "execution_count": 93,
   "metadata": {},
   "outputs": [
    {
     "output_type": "stream",
     "name": "stdout",
     "text": [
      "Classification report data TEST DT Over Sampling\n",
      "\n",
      "               precision    recall  f1-score   support\n",
      "\n",
      "           0       0.94      0.94      0.94      7310\n",
      "           1       0.52      0.50      0.51       928\n",
      "\n",
      "    accuracy                           0.89      8238\n",
      "   macro avg       0.73      0.72      0.72      8238\n",
      "weighted avg       0.89      0.89      0.89      8238\n",
      "\n",
      "Classification report data TRAIN DT Over Sampling\n",
      "\n",
      "               precision    recall  f1-score   support\n",
      "\n",
      "           0       1.00      1.00      1.00     29238\n",
      "           1       1.00      1.00      1.00     29238\n",
      "\n",
      "    accuracy                           1.00     58476\n",
      "   macro avg       1.00      1.00      1.00     58476\n",
      "weighted avg       1.00      1.00      1.00     58476\n",
      "\n",
      "Confusion matrix data test DT Over Sampling\n",
      "\n"
     ]
    },
    {
     "output_type": "execute_result",
     "data": {
      "text/plain": [
       "      Pred1  Pred0\n",
       "Akt1    465    463\n",
       "Akt0    434   6876"
      ],
      "text/html": "<div>\n<style scoped>\n    .dataframe tbody tr th:only-of-type {\n        vertical-align: middle;\n    }\n\n    .dataframe tbody tr th {\n        vertical-align: top;\n    }\n\n    .dataframe thead th {\n        text-align: right;\n    }\n</style>\n<table border=\"1\" class=\"dataframe\">\n  <thead>\n    <tr style=\"text-align: right;\">\n      <th></th>\n      <th>Pred1</th>\n      <th>Pred0</th>\n    </tr>\n  </thead>\n  <tbody>\n    <tr>\n      <th>Akt1</th>\n      <td>465</td>\n      <td>463</td>\n    </tr>\n    <tr>\n      <th>Akt0</th>\n      <td>434</td>\n      <td>6876</td>\n    </tr>\n  </tbody>\n</table>\n</div>"
     },
     "metadata": {},
     "execution_count": 93
    }
   ],
   "source": [
    "conf_mat(pipe_DT, X_train_OS, X_test, y_train_OS, y_test, 'DT Over Sampling')"
   ]
  },
  {
   "cell_type": "code",
   "execution_count": 95,
   "metadata": {},
   "outputs": [
    {
     "output_type": "execute_result",
     "data": {
      "text/plain": [
       "Pipeline(steps=[('prep',\n",
       "                 ColumnTransformer(transformers=[('numeric',\n",
       "                                                  Pipeline(steps=[('scaler',\n",
       "                                                                   RobustScaler())]),\n",
       "                                                  ['campaign', 'pdays',\n",
       "                                                   'previous', 'emp.var.rate',\n",
       "                                                   'cons.price.idx',\n",
       "                                                   'cons.conf.idx', 'euribor3m',\n",
       "                                                   'nr.employed']),\n",
       "                                                 ('categorical',\n",
       "                                                  Pipeline(steps=[('encoder',\n",
       "                                                                   OneHotEncoder())]),\n",
       "                                                  ['job', 'marital',\n",
       "                                                   'education', 'default',\n",
       "                                                   'housing', 'loan', 'contact',\n",
       "                                                   'month', 'day_of_week',\n",
       "                                                   'poutcome', 'age_bin',\n",
       "                                                   'duration_bin'])])),\n",
       "                ('algo', KNeighborsClassifier())])"
      ]
     },
     "metadata": {},
     "execution_count": 95
    }
   ],
   "source": [
    "pipe_KNN.fit(X_train_OS, y_train_OS)"
   ]
  },
  {
   "cell_type": "code",
   "execution_count": 96,
   "metadata": {},
   "outputs": [
    {
     "output_type": "stream",
     "name": "stdout",
     "text": [
      "Classification report data TEST KNN Over Sampling\n",
      "\n",
      "               precision    recall  f1-score   support\n",
      "\n",
      "           0       0.96      0.88      0.92      7310\n",
      "           1       0.42      0.68      0.52       928\n",
      "\n",
      "    accuracy                           0.86      8238\n",
      "   macro avg       0.69      0.78      0.72      8238\n",
      "weighted avg       0.90      0.86      0.87      8238\n",
      "\n",
      "Classification report data TRAIN KNN Over Sampling\n",
      "\n",
      "               precision    recall  f1-score   support\n",
      "\n",
      "           0       1.00      0.91      0.95     29238\n",
      "           1       0.91      1.00      0.95     29238\n",
      "\n",
      "    accuracy                           0.95     58476\n",
      "   macro avg       0.96      0.95      0.95     58476\n",
      "weighted avg       0.96      0.95      0.95     58476\n",
      "\n",
      "Confusion matrix data test KNN Over Sampling\n",
      "\n"
     ]
    },
    {
     "output_type": "execute_result",
     "data": {
      "text/plain": [
       "      Pred1  Pred0\n",
       "Akt1    631    297\n",
       "Akt0    877   6433"
      ],
      "text/html": "<div>\n<style scoped>\n    .dataframe tbody tr th:only-of-type {\n        vertical-align: middle;\n    }\n\n    .dataframe tbody tr th {\n        vertical-align: top;\n    }\n\n    .dataframe thead th {\n        text-align: right;\n    }\n</style>\n<table border=\"1\" class=\"dataframe\">\n  <thead>\n    <tr style=\"text-align: right;\">\n      <th></th>\n      <th>Pred1</th>\n      <th>Pred0</th>\n    </tr>\n  </thead>\n  <tbody>\n    <tr>\n      <th>Akt1</th>\n      <td>631</td>\n      <td>297</td>\n    </tr>\n    <tr>\n      <th>Akt0</th>\n      <td>877</td>\n      <td>6433</td>\n    </tr>\n  </tbody>\n</table>\n</div>"
     },
     "metadata": {},
     "execution_count": 96
    }
   ],
   "source": [
    "conf_mat(pipe_KNN, X_train_OS, X_test, y_train_OS, y_test, 'KNN Over Sampling')"
   ]
  },
  {
   "cell_type": "code",
   "execution_count": 98,
   "metadata": {},
   "outputs": [
    {
     "output_type": "execute_result",
     "data": {
      "text/plain": [
       "job               0\n",
       "marital           0\n",
       "education         0\n",
       "default           0\n",
       "housing           0\n",
       "loan              0\n",
       "contact           0\n",
       "month             0\n",
       "day_of_week       0\n",
       "campaign          0\n",
       "pdays             0\n",
       "previous          0\n",
       "poutcome          0\n",
       "emp.var.rate      0\n",
       "cons.price.idx    0\n",
       "cons.conf.idx     0\n",
       "euribor3m         0\n",
       "nr.employed       0\n",
       "age_bin           0\n",
       "duration_bin      0\n",
       "dtype: int64"
      ]
     },
     "metadata": {},
     "execution_count": 98
    }
   ],
   "source": [
    "X_test.isna().sum()"
   ]
  },
  {
   "cell_type": "code",
   "execution_count": 100,
   "metadata": {},
   "outputs": [
    {
     "output_type": "stream",
     "name": "stdout",
     "text": [
      "Classification report data TEST DT Over Sampling Label Encoding\n",
      "\n",
      "               precision    recall  f1-score   support\n",
      "\n",
      "           0       0.94      0.94      0.94      7310\n",
      "           1       0.52      0.50      0.51       928\n",
      "\n",
      "    accuracy                           0.89      8238\n",
      "   macro avg       0.73      0.72      0.72      8238\n",
      "weighted avg       0.89      0.89      0.89      8238\n",
      "\n",
      "Classification report data TRAIN DT Over Sampling Label Encoding\n",
      "\n",
      "               precision    recall  f1-score   support\n",
      "\n",
      "           0       1.00      1.00      1.00     29238\n",
      "           1       1.00      1.00      1.00     29238\n",
      "\n",
      "    accuracy                           1.00     58476\n",
      "   macro avg       1.00      1.00      1.00     58476\n",
      "weighted avg       1.00      1.00      1.00     58476\n",
      "\n",
      "Confusion matrix data test DT Over Sampling Label Encoding\n",
      "\n"
     ]
    },
    {
     "output_type": "execute_result",
     "data": {
      "text/plain": [
       "      Pred1  Pred0\n",
       "Akt1    465    463\n",
       "Akt0    434   6876"
      ],
      "text/html": "<div>\n<style scoped>\n    .dataframe tbody tr th:only-of-type {\n        vertical-align: middle;\n    }\n\n    .dataframe tbody tr th {\n        vertical-align: top;\n    }\n\n    .dataframe thead th {\n        text-align: right;\n    }\n</style>\n<table border=\"1\" class=\"dataframe\">\n  <thead>\n    <tr style=\"text-align: right;\">\n      <th></th>\n      <th>Pred1</th>\n      <th>Pred0</th>\n    </tr>\n  </thead>\n  <tbody>\n    <tr>\n      <th>Akt1</th>\n      <td>465</td>\n      <td>463</td>\n    </tr>\n    <tr>\n      <th>Akt0</th>\n      <td>434</td>\n      <td>6876</td>\n    </tr>\n  </tbody>\n</table>\n</div>"
     },
     "metadata": {},
     "execution_count": 100
    }
   ],
   "source": [
    "conf_mat(pipe_DT, X_train_OS, X_test, y_train_OS, y_test, 'DT Over Sampling Label Encoding')"
   ]
  },
  {
   "cell_type": "markdown",
   "metadata": {},
   "source": [
    "## PERBANDINGAN PRECISION DAN RECALL TIAP MODEL"
   ]
  },
  {
   "cell_type": "markdown",
   "metadata": {},
   "source": [
    "================================================================================================"
   ]
  },
  {
   "cell_type": "code",
   "execution_count": 71,
   "metadata": {},
   "outputs": [
    {
     "output_type": "execute_result",
     "data": {
      "text/plain": [
       "          pipe_DT\n",
       "Precison  0.52349\n",
       "Recall    0.50431"
      ],
      "text/html": "<div>\n<style scoped>\n    .dataframe tbody tr th:only-of-type {\n        vertical-align: middle;\n    }\n\n    .dataframe tbody tr th {\n        vertical-align: top;\n    }\n\n    .dataframe thead th {\n        text-align: right;\n    }\n</style>\n<table border=\"1\" class=\"dataframe\">\n  <thead>\n    <tr style=\"text-align: right;\">\n      <th></th>\n      <th>pipe_DT</th>\n    </tr>\n  </thead>\n  <tbody>\n    <tr>\n      <th>Precison</th>\n      <td>0.52349</td>\n    </tr>\n    <tr>\n      <th>Recall</th>\n      <td>0.50431</td>\n    </tr>\n  </tbody>\n</table>\n</div>"
     },
     "metadata": {},
     "execution_count": 71
    }
   ],
   "source": [
    "prec_rec (pipe_DT, X_test, y_test, 'pipe_DT')"
   ]
  },
  {
   "cell_type": "code",
   "execution_count": 101,
   "metadata": {},
   "outputs": [
    {
     "output_type": "error",
     "ename": "KeyboardInterrupt",
     "evalue": "",
     "traceback": [
      "\u001b[1;31m---------------------------------------------------------------------------\u001b[0m",
      "\u001b[1;31mKeyboardInterrupt\u001b[0m                         Traceback (most recent call last)",
      "\u001b[1;32m<ipython-input-101-b9d4d4966610>\u001b[0m in \u001b[0;36m<module>\u001b[1;34m\u001b[0m\n\u001b[1;32m----> 1\u001b[1;33m \u001b[0mprec_rec\u001b[0m \u001b[1;33m(\u001b[0m\u001b[0mpipe_KNN\u001b[0m\u001b[1;33m,\u001b[0m \u001b[0mX_test\u001b[0m\u001b[1;33m,\u001b[0m \u001b[0my_test\u001b[0m\u001b[1;33m,\u001b[0m \u001b[1;34m'pipe_DT'\u001b[0m\u001b[1;33m)\u001b[0m\u001b[1;33m\u001b[0m\u001b[1;33m\u001b[0m\u001b[0m\n\u001b[0m",
      "\u001b[1;32m<ipython-input-28-d173c8a9977f>\u001b[0m in \u001b[0;36mprec_rec\u001b[1;34m(Model, X_test, y_test, Nama)\u001b[0m\n\u001b[0;32m      4\u001b[0m     \u001b[0mrec\u001b[0m \u001b[1;33m=\u001b[0m \u001b[1;33m[\u001b[0m\u001b[1;33m]\u001b[0m\u001b[1;33m\u001b[0m\u001b[1;33m\u001b[0m\u001b[0m\n\u001b[0;32m      5\u001b[0m     \u001b[1;31m# for i in Model :\u001b[0m\u001b[1;33m\u001b[0m\u001b[1;33m\u001b[0m\u001b[1;33m\u001b[0m\u001b[0m\n\u001b[1;32m----> 6\u001b[1;33m     \u001b[0my_pred_ts\u001b[0m \u001b[1;33m=\u001b[0m \u001b[0mModel\u001b[0m\u001b[1;33m.\u001b[0m\u001b[0mpredict\u001b[0m\u001b[1;33m(\u001b[0m\u001b[0mX_test\u001b[0m\u001b[1;33m)\u001b[0m\u001b[1;33m\u001b[0m\u001b[1;33m\u001b[0m\u001b[0m\n\u001b[0m\u001b[0;32m      7\u001b[0m     \u001b[0mprecision\u001b[0m \u001b[1;33m=\u001b[0m \u001b[0mprecision_score\u001b[0m\u001b[1;33m(\u001b[0m\u001b[0my_test\u001b[0m\u001b[1;33m,\u001b[0m \u001b[0my_pred_ts\u001b[0m\u001b[1;33m)\u001b[0m\u001b[1;33m\u001b[0m\u001b[1;33m\u001b[0m\u001b[0m\n\u001b[0;32m      8\u001b[0m     \u001b[0mrecall\u001b[0m \u001b[1;33m=\u001b[0m \u001b[0mrecall_score\u001b[0m\u001b[1;33m(\u001b[0m\u001b[0my_test\u001b[0m\u001b[1;33m,\u001b[0m \u001b[0my_pred_ts\u001b[0m\u001b[1;33m)\u001b[0m\u001b[1;33m\u001b[0m\u001b[1;33m\u001b[0m\u001b[0m\n",
      "\u001b[1;32m~\\AppData\\Local\\Programs\\Python\\Python39\\lib\\site-packages\\sklearn\\utils\\metaestimators.py\u001b[0m in \u001b[0;36m<lambda>\u001b[1;34m(*args, **kwargs)\u001b[0m\n\u001b[0;32m    118\u001b[0m \u001b[1;33m\u001b[0m\u001b[0m\n\u001b[0;32m    119\u001b[0m         \u001b[1;31m# lambda, but not partial, allows help() to work with update_wrapper\u001b[0m\u001b[1;33m\u001b[0m\u001b[1;33m\u001b[0m\u001b[1;33m\u001b[0m\u001b[0m\n\u001b[1;32m--> 120\u001b[1;33m         \u001b[0mout\u001b[0m \u001b[1;33m=\u001b[0m \u001b[1;32mlambda\u001b[0m \u001b[1;33m*\u001b[0m\u001b[0margs\u001b[0m\u001b[1;33m,\u001b[0m \u001b[1;33m**\u001b[0m\u001b[0mkwargs\u001b[0m\u001b[1;33m:\u001b[0m \u001b[0mself\u001b[0m\u001b[1;33m.\u001b[0m\u001b[0mfn\u001b[0m\u001b[1;33m(\u001b[0m\u001b[0mobj\u001b[0m\u001b[1;33m,\u001b[0m \u001b[1;33m*\u001b[0m\u001b[0margs\u001b[0m\u001b[1;33m,\u001b[0m \u001b[1;33m**\u001b[0m\u001b[0mkwargs\u001b[0m\u001b[1;33m)\u001b[0m\u001b[1;33m\u001b[0m\u001b[1;33m\u001b[0m\u001b[0m\n\u001b[0m\u001b[0;32m    121\u001b[0m         \u001b[1;31m# update the docstring of the returned function\u001b[0m\u001b[1;33m\u001b[0m\u001b[1;33m\u001b[0m\u001b[1;33m\u001b[0m\u001b[0m\n\u001b[0;32m    122\u001b[0m         \u001b[0mupdate_wrapper\u001b[0m\u001b[1;33m(\u001b[0m\u001b[0mout\u001b[0m\u001b[1;33m,\u001b[0m \u001b[0mself\u001b[0m\u001b[1;33m.\u001b[0m\u001b[0mfn\u001b[0m\u001b[1;33m)\u001b[0m\u001b[1;33m\u001b[0m\u001b[1;33m\u001b[0m\u001b[0m\n",
      "\u001b[1;32m~\\AppData\\Local\\Programs\\Python\\Python39\\lib\\site-packages\\sklearn\\pipeline.py\u001b[0m in \u001b[0;36mpredict\u001b[1;34m(self, X, **predict_params)\u001b[0m\n\u001b[0;32m    417\u001b[0m         \u001b[1;32mfor\u001b[0m \u001b[0m_\u001b[0m\u001b[1;33m,\u001b[0m \u001b[0mname\u001b[0m\u001b[1;33m,\u001b[0m \u001b[0mtransform\u001b[0m \u001b[1;32min\u001b[0m \u001b[0mself\u001b[0m\u001b[1;33m.\u001b[0m\u001b[0m_iter\u001b[0m\u001b[1;33m(\u001b[0m\u001b[0mwith_final\u001b[0m\u001b[1;33m=\u001b[0m\u001b[1;32mFalse\u001b[0m\u001b[1;33m)\u001b[0m\u001b[1;33m:\u001b[0m\u001b[1;33m\u001b[0m\u001b[1;33m\u001b[0m\u001b[0m\n\u001b[0;32m    418\u001b[0m             \u001b[0mXt\u001b[0m \u001b[1;33m=\u001b[0m \u001b[0mtransform\u001b[0m\u001b[1;33m.\u001b[0m\u001b[0mtransform\u001b[0m\u001b[1;33m(\u001b[0m\u001b[0mXt\u001b[0m\u001b[1;33m)\u001b[0m\u001b[1;33m\u001b[0m\u001b[1;33m\u001b[0m\u001b[0m\n\u001b[1;32m--> 419\u001b[1;33m         \u001b[1;32mreturn\u001b[0m \u001b[0mself\u001b[0m\u001b[1;33m.\u001b[0m\u001b[0msteps\u001b[0m\u001b[1;33m[\u001b[0m\u001b[1;33m-\u001b[0m\u001b[1;36m1\u001b[0m\u001b[1;33m]\u001b[0m\u001b[1;33m[\u001b[0m\u001b[1;33m-\u001b[0m\u001b[1;36m1\u001b[0m\u001b[1;33m]\u001b[0m\u001b[1;33m.\u001b[0m\u001b[0mpredict\u001b[0m\u001b[1;33m(\u001b[0m\u001b[0mXt\u001b[0m\u001b[1;33m,\u001b[0m \u001b[1;33m**\u001b[0m\u001b[0mpredict_params\u001b[0m\u001b[1;33m)\u001b[0m\u001b[1;33m\u001b[0m\u001b[1;33m\u001b[0m\u001b[0m\n\u001b[0m\u001b[0;32m    420\u001b[0m \u001b[1;33m\u001b[0m\u001b[0m\n\u001b[0;32m    421\u001b[0m     \u001b[1;33m@\u001b[0m\u001b[0mif_delegate_has_method\u001b[0m\u001b[1;33m(\u001b[0m\u001b[0mdelegate\u001b[0m\u001b[1;33m=\u001b[0m\u001b[1;34m'_final_estimator'\u001b[0m\u001b[1;33m)\u001b[0m\u001b[1;33m\u001b[0m\u001b[1;33m\u001b[0m\u001b[0m\n",
      "\u001b[1;32m~\\AppData\\Local\\Programs\\Python\\Python39\\lib\\site-packages\\sklearn\\neighbors\\_classification.py\u001b[0m in \u001b[0;36mpredict\u001b[1;34m(self, X)\u001b[0m\n\u001b[0;32m    195\u001b[0m         \u001b[0mX\u001b[0m \u001b[1;33m=\u001b[0m \u001b[0mcheck_array\u001b[0m\u001b[1;33m(\u001b[0m\u001b[0mX\u001b[0m\u001b[1;33m,\u001b[0m \u001b[0maccept_sparse\u001b[0m\u001b[1;33m=\u001b[0m\u001b[1;34m'csr'\u001b[0m\u001b[1;33m)\u001b[0m\u001b[1;33m\u001b[0m\u001b[1;33m\u001b[0m\u001b[0m\n\u001b[0;32m    196\u001b[0m \u001b[1;33m\u001b[0m\u001b[0m\n\u001b[1;32m--> 197\u001b[1;33m         \u001b[0mneigh_dist\u001b[0m\u001b[1;33m,\u001b[0m \u001b[0mneigh_ind\u001b[0m \u001b[1;33m=\u001b[0m \u001b[0mself\u001b[0m\u001b[1;33m.\u001b[0m\u001b[0mkneighbors\u001b[0m\u001b[1;33m(\u001b[0m\u001b[0mX\u001b[0m\u001b[1;33m)\u001b[0m\u001b[1;33m\u001b[0m\u001b[1;33m\u001b[0m\u001b[0m\n\u001b[0m\u001b[0;32m    198\u001b[0m         \u001b[0mclasses_\u001b[0m \u001b[1;33m=\u001b[0m \u001b[0mself\u001b[0m\u001b[1;33m.\u001b[0m\u001b[0mclasses_\u001b[0m\u001b[1;33m\u001b[0m\u001b[1;33m\u001b[0m\u001b[0m\n\u001b[0;32m    199\u001b[0m         \u001b[0m_y\u001b[0m \u001b[1;33m=\u001b[0m \u001b[0mself\u001b[0m\u001b[1;33m.\u001b[0m\u001b[0m_y\u001b[0m\u001b[1;33m\u001b[0m\u001b[1;33m\u001b[0m\u001b[0m\n",
      "\u001b[1;32m~\\AppData\\Local\\Programs\\Python\\Python39\\lib\\site-packages\\sklearn\\neighbors\\_base.py\u001b[0m in \u001b[0;36mkneighbors\u001b[1;34m(self, X, n_neighbors, return_distance)\u001b[0m\n\u001b[0;32m    703\u001b[0m                 \u001b[0mkwds\u001b[0m \u001b[1;33m=\u001b[0m \u001b[0mself\u001b[0m\u001b[1;33m.\u001b[0m\u001b[0meffective_metric_params_\u001b[0m\u001b[1;33m\u001b[0m\u001b[1;33m\u001b[0m\u001b[0m\n\u001b[0;32m    704\u001b[0m \u001b[1;33m\u001b[0m\u001b[0m\n\u001b[1;32m--> 705\u001b[1;33m             chunked_results = list(pairwise_distances_chunked(\n\u001b[0m\u001b[0;32m    706\u001b[0m                 \u001b[0mX\u001b[0m\u001b[1;33m,\u001b[0m \u001b[0mself\u001b[0m\u001b[1;33m.\u001b[0m\u001b[0m_fit_X\u001b[0m\u001b[1;33m,\u001b[0m \u001b[0mreduce_func\u001b[0m\u001b[1;33m=\u001b[0m\u001b[0mreduce_func\u001b[0m\u001b[1;33m,\u001b[0m\u001b[1;33m\u001b[0m\u001b[1;33m\u001b[0m\u001b[0m\n\u001b[0;32m    707\u001b[0m                 \u001b[0mmetric\u001b[0m\u001b[1;33m=\u001b[0m\u001b[0mself\u001b[0m\u001b[1;33m.\u001b[0m\u001b[0meffective_metric_\u001b[0m\u001b[1;33m,\u001b[0m \u001b[0mn_jobs\u001b[0m\u001b[1;33m=\u001b[0m\u001b[0mn_jobs\u001b[0m\u001b[1;33m,\u001b[0m\u001b[1;33m\u001b[0m\u001b[1;33m\u001b[0m\u001b[0m\n",
      "\u001b[1;32m~\\AppData\\Local\\Programs\\Python\\Python39\\lib\\site-packages\\sklearn\\metrics\\pairwise.py\u001b[0m in \u001b[0;36mpairwise_distances_chunked\u001b[1;34m(X, Y, reduce_func, metric, n_jobs, working_memory, **kwds)\u001b[0m\n\u001b[0;32m   1621\u001b[0m         \u001b[1;32melse\u001b[0m\u001b[1;33m:\u001b[0m\u001b[1;33m\u001b[0m\u001b[1;33m\u001b[0m\u001b[0m\n\u001b[0;32m   1622\u001b[0m             \u001b[0mX_chunk\u001b[0m \u001b[1;33m=\u001b[0m \u001b[0mX\u001b[0m\u001b[1;33m[\u001b[0m\u001b[0msl\u001b[0m\u001b[1;33m]\u001b[0m\u001b[1;33m\u001b[0m\u001b[1;33m\u001b[0m\u001b[0m\n\u001b[1;32m-> 1623\u001b[1;33m         D_chunk = pairwise_distances(X_chunk, Y, metric=metric,\n\u001b[0m\u001b[0;32m   1624\u001b[0m                                      n_jobs=n_jobs, **kwds)\n\u001b[0;32m   1625\u001b[0m         if ((X is Y or Y is None)\n",
      "\u001b[1;32m~\\AppData\\Local\\Programs\\Python\\Python39\\lib\\site-packages\\sklearn\\utils\\validation.py\u001b[0m in \u001b[0;36minner_f\u001b[1;34m(*args, **kwargs)\u001b[0m\n\u001b[0;32m     61\u001b[0m             \u001b[0mextra_args\u001b[0m \u001b[1;33m=\u001b[0m \u001b[0mlen\u001b[0m\u001b[1;33m(\u001b[0m\u001b[0margs\u001b[0m\u001b[1;33m)\u001b[0m \u001b[1;33m-\u001b[0m \u001b[0mlen\u001b[0m\u001b[1;33m(\u001b[0m\u001b[0mall_args\u001b[0m\u001b[1;33m)\u001b[0m\u001b[1;33m\u001b[0m\u001b[1;33m\u001b[0m\u001b[0m\n\u001b[0;32m     62\u001b[0m             \u001b[1;32mif\u001b[0m \u001b[0mextra_args\u001b[0m \u001b[1;33m<=\u001b[0m \u001b[1;36m0\u001b[0m\u001b[1;33m:\u001b[0m\u001b[1;33m\u001b[0m\u001b[1;33m\u001b[0m\u001b[0m\n\u001b[1;32m---> 63\u001b[1;33m                 \u001b[1;32mreturn\u001b[0m \u001b[0mf\u001b[0m\u001b[1;33m(\u001b[0m\u001b[1;33m*\u001b[0m\u001b[0margs\u001b[0m\u001b[1;33m,\u001b[0m \u001b[1;33m**\u001b[0m\u001b[0mkwargs\u001b[0m\u001b[1;33m)\u001b[0m\u001b[1;33m\u001b[0m\u001b[1;33m\u001b[0m\u001b[0m\n\u001b[0m\u001b[0;32m     64\u001b[0m \u001b[1;33m\u001b[0m\u001b[0m\n\u001b[0;32m     65\u001b[0m             \u001b[1;31m# extra_args > 0\u001b[0m\u001b[1;33m\u001b[0m\u001b[1;33m\u001b[0m\u001b[1;33m\u001b[0m\u001b[0m\n",
      "\u001b[1;32m~\\AppData\\Local\\Programs\\Python\\Python39\\lib\\site-packages\\sklearn\\metrics\\pairwise.py\u001b[0m in \u001b[0;36mpairwise_distances\u001b[1;34m(X, Y, metric, n_jobs, force_all_finite, **kwds)\u001b[0m\n\u001b[0;32m   1788\u001b[0m         \u001b[0mfunc\u001b[0m \u001b[1;33m=\u001b[0m \u001b[0mpartial\u001b[0m\u001b[1;33m(\u001b[0m\u001b[0mdistance\u001b[0m\u001b[1;33m.\u001b[0m\u001b[0mcdist\u001b[0m\u001b[1;33m,\u001b[0m \u001b[0mmetric\u001b[0m\u001b[1;33m=\u001b[0m\u001b[0mmetric\u001b[0m\u001b[1;33m,\u001b[0m \u001b[1;33m**\u001b[0m\u001b[0mkwds\u001b[0m\u001b[1;33m)\u001b[0m\u001b[1;33m\u001b[0m\u001b[1;33m\u001b[0m\u001b[0m\n\u001b[0;32m   1789\u001b[0m \u001b[1;33m\u001b[0m\u001b[0m\n\u001b[1;32m-> 1790\u001b[1;33m     \u001b[1;32mreturn\u001b[0m \u001b[0m_parallel_pairwise\u001b[0m\u001b[1;33m(\u001b[0m\u001b[0mX\u001b[0m\u001b[1;33m,\u001b[0m \u001b[0mY\u001b[0m\u001b[1;33m,\u001b[0m \u001b[0mfunc\u001b[0m\u001b[1;33m,\u001b[0m \u001b[0mn_jobs\u001b[0m\u001b[1;33m,\u001b[0m \u001b[1;33m**\u001b[0m\u001b[0mkwds\u001b[0m\u001b[1;33m)\u001b[0m\u001b[1;33m\u001b[0m\u001b[1;33m\u001b[0m\u001b[0m\n\u001b[0m\u001b[0;32m   1791\u001b[0m \u001b[1;33m\u001b[0m\u001b[0m\n\u001b[0;32m   1792\u001b[0m \u001b[1;33m\u001b[0m\u001b[0m\n",
      "\u001b[1;32m~\\AppData\\Local\\Programs\\Python\\Python39\\lib\\site-packages\\sklearn\\metrics\\pairwise.py\u001b[0m in \u001b[0;36m_parallel_pairwise\u001b[1;34m(X, Y, func, n_jobs, **kwds)\u001b[0m\n\u001b[0;32m   1357\u001b[0m \u001b[1;33m\u001b[0m\u001b[0m\n\u001b[0;32m   1358\u001b[0m     \u001b[1;32mif\u001b[0m \u001b[0meffective_n_jobs\u001b[0m\u001b[1;33m(\u001b[0m\u001b[0mn_jobs\u001b[0m\u001b[1;33m)\u001b[0m \u001b[1;33m==\u001b[0m \u001b[1;36m1\u001b[0m\u001b[1;33m:\u001b[0m\u001b[1;33m\u001b[0m\u001b[1;33m\u001b[0m\u001b[0m\n\u001b[1;32m-> 1359\u001b[1;33m         \u001b[1;32mreturn\u001b[0m \u001b[0mfunc\u001b[0m\u001b[1;33m(\u001b[0m\u001b[0mX\u001b[0m\u001b[1;33m,\u001b[0m \u001b[0mY\u001b[0m\u001b[1;33m,\u001b[0m \u001b[1;33m**\u001b[0m\u001b[0mkwds\u001b[0m\u001b[1;33m)\u001b[0m\u001b[1;33m\u001b[0m\u001b[1;33m\u001b[0m\u001b[0m\n\u001b[0m\u001b[0;32m   1360\u001b[0m \u001b[1;33m\u001b[0m\u001b[0m\n\u001b[0;32m   1361\u001b[0m     \u001b[1;31m# enforce a threading backend to prevent data communication overhead\u001b[0m\u001b[1;33m\u001b[0m\u001b[1;33m\u001b[0m\u001b[1;33m\u001b[0m\u001b[0m\n",
      "\u001b[1;32m~\\AppData\\Local\\Programs\\Python\\Python39\\lib\\site-packages\\sklearn\\utils\\validation.py\u001b[0m in \u001b[0;36minner_f\u001b[1;34m(*args, **kwargs)\u001b[0m\n\u001b[0;32m     61\u001b[0m             \u001b[0mextra_args\u001b[0m \u001b[1;33m=\u001b[0m \u001b[0mlen\u001b[0m\u001b[1;33m(\u001b[0m\u001b[0margs\u001b[0m\u001b[1;33m)\u001b[0m \u001b[1;33m-\u001b[0m \u001b[0mlen\u001b[0m\u001b[1;33m(\u001b[0m\u001b[0mall_args\u001b[0m\u001b[1;33m)\u001b[0m\u001b[1;33m\u001b[0m\u001b[1;33m\u001b[0m\u001b[0m\n\u001b[0;32m     62\u001b[0m             \u001b[1;32mif\u001b[0m \u001b[0mextra_args\u001b[0m \u001b[1;33m<=\u001b[0m \u001b[1;36m0\u001b[0m\u001b[1;33m:\u001b[0m\u001b[1;33m\u001b[0m\u001b[1;33m\u001b[0m\u001b[0m\n\u001b[1;32m---> 63\u001b[1;33m                 \u001b[1;32mreturn\u001b[0m \u001b[0mf\u001b[0m\u001b[1;33m(\u001b[0m\u001b[1;33m*\u001b[0m\u001b[0margs\u001b[0m\u001b[1;33m,\u001b[0m \u001b[1;33m**\u001b[0m\u001b[0mkwargs\u001b[0m\u001b[1;33m)\u001b[0m\u001b[1;33m\u001b[0m\u001b[1;33m\u001b[0m\u001b[0m\n\u001b[0m\u001b[0;32m     64\u001b[0m \u001b[1;33m\u001b[0m\u001b[0m\n\u001b[0;32m     65\u001b[0m             \u001b[1;31m# extra_args > 0\u001b[0m\u001b[1;33m\u001b[0m\u001b[1;33m\u001b[0m\u001b[1;33m\u001b[0m\u001b[0m\n",
      "\u001b[1;32m~\\AppData\\Local\\Programs\\Python\\Python39\\lib\\site-packages\\sklearn\\metrics\\pairwise.py\u001b[0m in \u001b[0;36meuclidean_distances\u001b[1;34m(X, Y, Y_norm_squared, squared, X_norm_squared)\u001b[0m\n\u001b[0;32m    311\u001b[0m     \u001b[1;32melse\u001b[0m\u001b[1;33m:\u001b[0m\u001b[1;33m\u001b[0m\u001b[1;33m\u001b[0m\u001b[0m\n\u001b[0;32m    312\u001b[0m         \u001b[1;31m# if dtype is already float64, no need to chunk and upcast\u001b[0m\u001b[1;33m\u001b[0m\u001b[1;33m\u001b[0m\u001b[1;33m\u001b[0m\u001b[0m\n\u001b[1;32m--> 313\u001b[1;33m         \u001b[0mdistances\u001b[0m \u001b[1;33m=\u001b[0m \u001b[1;33m-\u001b[0m \u001b[1;36m2\u001b[0m \u001b[1;33m*\u001b[0m \u001b[0msafe_sparse_dot\u001b[0m\u001b[1;33m(\u001b[0m\u001b[0mX\u001b[0m\u001b[1;33m,\u001b[0m \u001b[0mY\u001b[0m\u001b[1;33m.\u001b[0m\u001b[0mT\u001b[0m\u001b[1;33m,\u001b[0m \u001b[0mdense_output\u001b[0m\u001b[1;33m=\u001b[0m\u001b[1;32mTrue\u001b[0m\u001b[1;33m)\u001b[0m\u001b[1;33m\u001b[0m\u001b[1;33m\u001b[0m\u001b[0m\n\u001b[0m\u001b[0;32m    314\u001b[0m         \u001b[0mdistances\u001b[0m \u001b[1;33m+=\u001b[0m \u001b[0mXX\u001b[0m\u001b[1;33m\u001b[0m\u001b[1;33m\u001b[0m\u001b[0m\n\u001b[0;32m    315\u001b[0m         \u001b[0mdistances\u001b[0m \u001b[1;33m+=\u001b[0m \u001b[0mYY\u001b[0m\u001b[1;33m\u001b[0m\u001b[1;33m\u001b[0m\u001b[0m\n",
      "\u001b[1;32m~\\AppData\\Local\\Programs\\Python\\Python39\\lib\\site-packages\\sklearn\\utils\\validation.py\u001b[0m in \u001b[0;36minner_f\u001b[1;34m(*args, **kwargs)\u001b[0m\n\u001b[0;32m     61\u001b[0m             \u001b[0mextra_args\u001b[0m \u001b[1;33m=\u001b[0m \u001b[0mlen\u001b[0m\u001b[1;33m(\u001b[0m\u001b[0margs\u001b[0m\u001b[1;33m)\u001b[0m \u001b[1;33m-\u001b[0m \u001b[0mlen\u001b[0m\u001b[1;33m(\u001b[0m\u001b[0mall_args\u001b[0m\u001b[1;33m)\u001b[0m\u001b[1;33m\u001b[0m\u001b[1;33m\u001b[0m\u001b[0m\n\u001b[0;32m     62\u001b[0m             \u001b[1;32mif\u001b[0m \u001b[0mextra_args\u001b[0m \u001b[1;33m<=\u001b[0m \u001b[1;36m0\u001b[0m\u001b[1;33m:\u001b[0m\u001b[1;33m\u001b[0m\u001b[1;33m\u001b[0m\u001b[0m\n\u001b[1;32m---> 63\u001b[1;33m                 \u001b[1;32mreturn\u001b[0m \u001b[0mf\u001b[0m\u001b[1;33m(\u001b[0m\u001b[1;33m*\u001b[0m\u001b[0margs\u001b[0m\u001b[1;33m,\u001b[0m \u001b[1;33m**\u001b[0m\u001b[0mkwargs\u001b[0m\u001b[1;33m)\u001b[0m\u001b[1;33m\u001b[0m\u001b[1;33m\u001b[0m\u001b[0m\n\u001b[0m\u001b[0;32m     64\u001b[0m \u001b[1;33m\u001b[0m\u001b[0m\n\u001b[0;32m     65\u001b[0m             \u001b[1;31m# extra_args > 0\u001b[0m\u001b[1;33m\u001b[0m\u001b[1;33m\u001b[0m\u001b[1;33m\u001b[0m\u001b[0m\n",
      "\u001b[1;32m~\\AppData\\Local\\Programs\\Python\\Python39\\lib\\site-packages\\sklearn\\utils\\extmath.py\u001b[0m in \u001b[0;36msafe_sparse_dot\u001b[1;34m(a, b, dense_output)\u001b[0m\n\u001b[0;32m    150\u001b[0m             \u001b[0mret\u001b[0m \u001b[1;33m=\u001b[0m \u001b[0mnp\u001b[0m\u001b[1;33m.\u001b[0m\u001b[0mdot\u001b[0m\u001b[1;33m(\u001b[0m\u001b[0ma\u001b[0m\u001b[1;33m,\u001b[0m \u001b[0mb\u001b[0m\u001b[1;33m)\u001b[0m\u001b[1;33m\u001b[0m\u001b[1;33m\u001b[0m\u001b[0m\n\u001b[0;32m    151\u001b[0m     \u001b[1;32melse\u001b[0m\u001b[1;33m:\u001b[0m\u001b[1;33m\u001b[0m\u001b[1;33m\u001b[0m\u001b[0m\n\u001b[1;32m--> 152\u001b[1;33m         \u001b[0mret\u001b[0m \u001b[1;33m=\u001b[0m \u001b[0ma\u001b[0m \u001b[1;33m@\u001b[0m \u001b[0mb\u001b[0m\u001b[1;33m\u001b[0m\u001b[1;33m\u001b[0m\u001b[0m\n\u001b[0m\u001b[0;32m    153\u001b[0m \u001b[1;33m\u001b[0m\u001b[0m\n\u001b[0;32m    154\u001b[0m     if (sparse.issparse(a) and sparse.issparse(b)\n",
      "\u001b[1;32m~\\AppData\\Local\\Programs\\Python\\Python39\\lib\\site-packages\\scipy\\sparse\\base.py\u001b[0m in \u001b[0;36m__matmul__\u001b[1;34m(self, other)\u001b[0m\n\u001b[0;32m    558\u001b[0m             raise ValueError(\"Scalar operands are not allowed, \"\n\u001b[0;32m    559\u001b[0m                              \"use '*' instead\")\n\u001b[1;32m--> 560\u001b[1;33m         \u001b[1;32mreturn\u001b[0m \u001b[0mself\u001b[0m\u001b[1;33m.\u001b[0m\u001b[0m__mul__\u001b[0m\u001b[1;33m(\u001b[0m\u001b[0mother\u001b[0m\u001b[1;33m)\u001b[0m\u001b[1;33m\u001b[0m\u001b[1;33m\u001b[0m\u001b[0m\n\u001b[0m\u001b[0;32m    561\u001b[0m \u001b[1;33m\u001b[0m\u001b[0m\n\u001b[0;32m    562\u001b[0m     \u001b[1;32mdef\u001b[0m \u001b[0m__rmatmul__\u001b[0m\u001b[1;33m(\u001b[0m\u001b[0mself\u001b[0m\u001b[1;33m,\u001b[0m \u001b[0mother\u001b[0m\u001b[1;33m)\u001b[0m\u001b[1;33m:\u001b[0m\u001b[1;33m\u001b[0m\u001b[1;33m\u001b[0m\u001b[0m\n",
      "\u001b[1;32m~\\AppData\\Local\\Programs\\Python\\Python39\\lib\\site-packages\\scipy\\sparse\\base.py\u001b[0m in \u001b[0;36m__mul__\u001b[1;34m(self, other)\u001b[0m\n\u001b[0;32m    478\u001b[0m             \u001b[1;32mif\u001b[0m \u001b[0mself\u001b[0m\u001b[1;33m.\u001b[0m\u001b[0mshape\u001b[0m\u001b[1;33m[\u001b[0m\u001b[1;36m1\u001b[0m\u001b[1;33m]\u001b[0m \u001b[1;33m!=\u001b[0m \u001b[0mother\u001b[0m\u001b[1;33m.\u001b[0m\u001b[0mshape\u001b[0m\u001b[1;33m[\u001b[0m\u001b[1;36m0\u001b[0m\u001b[1;33m]\u001b[0m\u001b[1;33m:\u001b[0m\u001b[1;33m\u001b[0m\u001b[1;33m\u001b[0m\u001b[0m\n\u001b[0;32m    479\u001b[0m                 \u001b[1;32mraise\u001b[0m \u001b[0mValueError\u001b[0m\u001b[1;33m(\u001b[0m\u001b[1;34m'dimension mismatch'\u001b[0m\u001b[1;33m)\u001b[0m\u001b[1;33m\u001b[0m\u001b[1;33m\u001b[0m\u001b[0m\n\u001b[1;32m--> 480\u001b[1;33m             \u001b[1;32mreturn\u001b[0m \u001b[0mself\u001b[0m\u001b[1;33m.\u001b[0m\u001b[0m_mul_sparse_matrix\u001b[0m\u001b[1;33m(\u001b[0m\u001b[0mother\u001b[0m\u001b[1;33m)\u001b[0m\u001b[1;33m\u001b[0m\u001b[1;33m\u001b[0m\u001b[0m\n\u001b[0m\u001b[0;32m    481\u001b[0m \u001b[1;33m\u001b[0m\u001b[0m\n\u001b[0;32m    482\u001b[0m         \u001b[1;31m# If it's a list or whatever, treat it like a matrix\u001b[0m\u001b[1;33m\u001b[0m\u001b[1;33m\u001b[0m\u001b[1;33m\u001b[0m\u001b[0m\n",
      "\u001b[1;32m~\\AppData\\Local\\Programs\\Python\\Python39\\lib\\site-packages\\scipy\\sparse\\compressed.py\u001b[0m in \u001b[0;36m_mul_sparse_matrix\u001b[1;34m(self, other)\u001b[0m\n\u001b[0;32m    505\u001b[0m \u001b[1;33m\u001b[0m\u001b[0m\n\u001b[0;32m    506\u001b[0m         \u001b[0mfn\u001b[0m \u001b[1;33m=\u001b[0m \u001b[0mgetattr\u001b[0m\u001b[1;33m(\u001b[0m\u001b[0m_sparsetools\u001b[0m\u001b[1;33m,\u001b[0m \u001b[0mself\u001b[0m\u001b[1;33m.\u001b[0m\u001b[0mformat\u001b[0m \u001b[1;33m+\u001b[0m \u001b[1;34m'_matmat_maxnnz'\u001b[0m\u001b[1;33m)\u001b[0m\u001b[1;33m\u001b[0m\u001b[1;33m\u001b[0m\u001b[0m\n\u001b[1;32m--> 507\u001b[1;33m         nnz = fn(M, N,\n\u001b[0m\u001b[0;32m    508\u001b[0m                  \u001b[0mnp\u001b[0m\u001b[1;33m.\u001b[0m\u001b[0masarray\u001b[0m\u001b[1;33m(\u001b[0m\u001b[0mself\u001b[0m\u001b[1;33m.\u001b[0m\u001b[0mindptr\u001b[0m\u001b[1;33m,\u001b[0m \u001b[0mdtype\u001b[0m\u001b[1;33m=\u001b[0m\u001b[0midx_dtype\u001b[0m\u001b[1;33m)\u001b[0m\u001b[1;33m,\u001b[0m\u001b[1;33m\u001b[0m\u001b[1;33m\u001b[0m\u001b[0m\n\u001b[0;32m    509\u001b[0m                  \u001b[0mnp\u001b[0m\u001b[1;33m.\u001b[0m\u001b[0masarray\u001b[0m\u001b[1;33m(\u001b[0m\u001b[0mself\u001b[0m\u001b[1;33m.\u001b[0m\u001b[0mindices\u001b[0m\u001b[1;33m,\u001b[0m \u001b[0mdtype\u001b[0m\u001b[1;33m=\u001b[0m\u001b[0midx_dtype\u001b[0m\u001b[1;33m)\u001b[0m\u001b[1;33m,\u001b[0m\u001b[1;33m\u001b[0m\u001b[1;33m\u001b[0m\u001b[0m\n",
      "\u001b[1;31mKeyboardInterrupt\u001b[0m: "
     ]
    }
   ],
   "source": [
    "prec_rec (pipe_KNN, X_test, y_test, 'pipe_DT')"
   ]
  },
  {
   "cell_type": "markdown",
   "metadata": {},
   "source": [
    "================================================================================================"
   ]
  },
  {
   "cell_type": "markdown",
   "metadata": {},
   "source": [
    "_____________"
   ]
  },
  {
   "cell_type": "markdown",
   "metadata": {},
   "source": [
    "## HYPERPARAMETER TUNING"
   ]
  },
  {
   "cell_type": "code",
   "execution_count": 104,
   "metadata": {},
   "outputs": [],
   "source": [
    "skf = StratifiedKFold(n_splits=3)"
   ]
  },
  {
   "cell_type": "markdown",
   "metadata": {},
   "source": [
    "https://towardsdatascience.com/fine-tuning-a-classifier-in-scikit-learn-66e048c21e65"
   ]
  },
  {
   "cell_type": "code",
   "execution_count": 73,
   "metadata": {},
   "outputs": [],
   "source": [
    "scorers = {\n",
    "    'precision_score': make_scorer(precision_score),\n",
    "    'recall_score': make_scorer(recall_score)\n",
    "}"
   ]
  },
  {
   "cell_type": "markdown",
   "metadata": {},
   "source": [
    "========================\n",
    "\n",
    "__DT__\n",
    "\n",
    "========================"
   ]
  },
  {
   "cell_type": "code",
   "execution_count": 74,
   "metadata": {},
   "outputs": [],
   "source": [
    "# pipe_DT.get_params()"
   ]
  },
  {
   "cell_type": "code",
   "execution_count": 102,
   "metadata": {},
   "outputs": [],
   "source": [
    "param_DT = {\n",
    "    'algo__max_depth': list(np.arange(0, 101, 5)) + [None],\n",
    "    'algo__min_samples_leaf': np.arange(1, 1000, 50),\n",
    "    'algo__max_features': [0, 0.2, 0.4, 0.6, 0.8, 1]\n",
    "    # 'algo__class_weight': [None, {0:.4, 1:.6}, {0:.3, 1:.7}, {0:.2, 1:.8}, {0:.15, 1: .85}, {0:.1, 1:.9}]\n",
    "}"
   ]
  },
  {
   "cell_type": "code",
   "execution_count": 105,
   "metadata": {},
   "outputs": [],
   "source": [
    "DT_GS = GridSearchCV(pipe_DT, param_DT, cv=skf, n_jobs=-1, verbose=1, scoring='f1')"
   ]
  },
  {
   "cell_type": "code",
   "execution_count": 106,
   "metadata": {},
   "outputs": [
    {
     "output_type": "error",
     "ename": "ValueError",
     "evalue": "'f1_score' is not a valid scoring value. Use sorted(sklearn.metrics.SCORERS.keys()) to get valid options.",
     "traceback": [
      "\u001b[1;31m---------------------------------------------------------------------------\u001b[0m",
      "\u001b[1;31mKeyError\u001b[0m                                  Traceback (most recent call last)",
      "\u001b[1;32m~\\AppData\\Local\\Programs\\Python\\Python39\\lib\\site-packages\\sklearn\\metrics\\_scorer.py\u001b[0m in \u001b[0;36mget_scorer\u001b[1;34m(scoring)\u001b[0m\n\u001b[0;32m    384\u001b[0m         \u001b[1;32mtry\u001b[0m\u001b[1;33m:\u001b[0m\u001b[1;33m\u001b[0m\u001b[1;33m\u001b[0m\u001b[0m\n\u001b[1;32m--> 385\u001b[1;33m             \u001b[0mscorer\u001b[0m \u001b[1;33m=\u001b[0m \u001b[0mSCORERS\u001b[0m\u001b[1;33m[\u001b[0m\u001b[0mscoring\u001b[0m\u001b[1;33m]\u001b[0m\u001b[1;33m\u001b[0m\u001b[1;33m\u001b[0m\u001b[0m\n\u001b[0m\u001b[0;32m    386\u001b[0m         \u001b[1;32mexcept\u001b[0m \u001b[0mKeyError\u001b[0m\u001b[1;33m:\u001b[0m\u001b[1;33m\u001b[0m\u001b[1;33m\u001b[0m\u001b[0m\n",
      "\u001b[1;31mKeyError\u001b[0m: 'f1_score'",
      "\nDuring handling of the above exception, another exception occurred:\n",
      "\u001b[1;31mValueError\u001b[0m                                Traceback (most recent call last)",
      "\u001b[1;32m<ipython-input-106-e78161eb48ae>\u001b[0m in \u001b[0;36m<module>\u001b[1;34m\u001b[0m\n\u001b[1;32m----> 1\u001b[1;33m \u001b[0mDT_GS\u001b[0m\u001b[1;33m.\u001b[0m\u001b[0mfit\u001b[0m\u001b[1;33m(\u001b[0m\u001b[0mX_train_OS\u001b[0m\u001b[1;33m,\u001b[0m \u001b[0my_train_OS\u001b[0m\u001b[1;33m)\u001b[0m\u001b[1;33m\u001b[0m\u001b[1;33m\u001b[0m\u001b[0m\n\u001b[0m",
      "\u001b[1;32m~\\AppData\\Local\\Programs\\Python\\Python39\\lib\\site-packages\\sklearn\\utils\\validation.py\u001b[0m in \u001b[0;36minner_f\u001b[1;34m(*args, **kwargs)\u001b[0m\n\u001b[0;32m     61\u001b[0m             \u001b[0mextra_args\u001b[0m \u001b[1;33m=\u001b[0m \u001b[0mlen\u001b[0m\u001b[1;33m(\u001b[0m\u001b[0margs\u001b[0m\u001b[1;33m)\u001b[0m \u001b[1;33m-\u001b[0m \u001b[0mlen\u001b[0m\u001b[1;33m(\u001b[0m\u001b[0mall_args\u001b[0m\u001b[1;33m)\u001b[0m\u001b[1;33m\u001b[0m\u001b[1;33m\u001b[0m\u001b[0m\n\u001b[0;32m     62\u001b[0m             \u001b[1;32mif\u001b[0m \u001b[0mextra_args\u001b[0m \u001b[1;33m<=\u001b[0m \u001b[1;36m0\u001b[0m\u001b[1;33m:\u001b[0m\u001b[1;33m\u001b[0m\u001b[1;33m\u001b[0m\u001b[0m\n\u001b[1;32m---> 63\u001b[1;33m                 \u001b[1;32mreturn\u001b[0m \u001b[0mf\u001b[0m\u001b[1;33m(\u001b[0m\u001b[1;33m*\u001b[0m\u001b[0margs\u001b[0m\u001b[1;33m,\u001b[0m \u001b[1;33m**\u001b[0m\u001b[0mkwargs\u001b[0m\u001b[1;33m)\u001b[0m\u001b[1;33m\u001b[0m\u001b[1;33m\u001b[0m\u001b[0m\n\u001b[0m\u001b[0;32m     64\u001b[0m \u001b[1;33m\u001b[0m\u001b[0m\n\u001b[0;32m     65\u001b[0m             \u001b[1;31m# extra_args > 0\u001b[0m\u001b[1;33m\u001b[0m\u001b[1;33m\u001b[0m\u001b[1;33m\u001b[0m\u001b[0m\n",
      "\u001b[1;32m~\\AppData\\Local\\Programs\\Python\\Python39\\lib\\site-packages\\sklearn\\model_selection\\_search.py\u001b[0m in \u001b[0;36mfit\u001b[1;34m(self, X, y, groups, **fit_params)\u001b[0m\n\u001b[0;32m    751\u001b[0m             \u001b[0mscorers\u001b[0m \u001b[1;33m=\u001b[0m \u001b[0mself\u001b[0m\u001b[1;33m.\u001b[0m\u001b[0mscoring\u001b[0m\u001b[1;33m\u001b[0m\u001b[1;33m\u001b[0m\u001b[0m\n\u001b[0;32m    752\u001b[0m         \u001b[1;32melif\u001b[0m \u001b[0mself\u001b[0m\u001b[1;33m.\u001b[0m\u001b[0mscoring\u001b[0m \u001b[1;32mis\u001b[0m \u001b[1;32mNone\u001b[0m \u001b[1;32mor\u001b[0m \u001b[0misinstance\u001b[0m\u001b[1;33m(\u001b[0m\u001b[0mself\u001b[0m\u001b[1;33m.\u001b[0m\u001b[0mscoring\u001b[0m\u001b[1;33m,\u001b[0m \u001b[0mstr\u001b[0m\u001b[1;33m)\u001b[0m\u001b[1;33m:\u001b[0m\u001b[1;33m\u001b[0m\u001b[1;33m\u001b[0m\u001b[0m\n\u001b[1;32m--> 753\u001b[1;33m             \u001b[0mscorers\u001b[0m \u001b[1;33m=\u001b[0m \u001b[0mcheck_scoring\u001b[0m\u001b[1;33m(\u001b[0m\u001b[0mself\u001b[0m\u001b[1;33m.\u001b[0m\u001b[0mestimator\u001b[0m\u001b[1;33m,\u001b[0m \u001b[0mself\u001b[0m\u001b[1;33m.\u001b[0m\u001b[0mscoring\u001b[0m\u001b[1;33m)\u001b[0m\u001b[1;33m\u001b[0m\u001b[1;33m\u001b[0m\u001b[0m\n\u001b[0m\u001b[0;32m    754\u001b[0m         \u001b[1;32melse\u001b[0m\u001b[1;33m:\u001b[0m\u001b[1;33m\u001b[0m\u001b[1;33m\u001b[0m\u001b[0m\n\u001b[0;32m    755\u001b[0m             \u001b[0mscorers\u001b[0m \u001b[1;33m=\u001b[0m \u001b[0m_check_multimetric_scoring\u001b[0m\u001b[1;33m(\u001b[0m\u001b[0mself\u001b[0m\u001b[1;33m.\u001b[0m\u001b[0mestimator\u001b[0m\u001b[1;33m,\u001b[0m \u001b[0mself\u001b[0m\u001b[1;33m.\u001b[0m\u001b[0mscoring\u001b[0m\u001b[1;33m)\u001b[0m\u001b[1;33m\u001b[0m\u001b[1;33m\u001b[0m\u001b[0m\n",
      "\u001b[1;32m~\\AppData\\Local\\Programs\\Python\\Python39\\lib\\site-packages\\sklearn\\utils\\validation.py\u001b[0m in \u001b[0;36minner_f\u001b[1;34m(*args, **kwargs)\u001b[0m\n\u001b[0;32m     61\u001b[0m             \u001b[0mextra_args\u001b[0m \u001b[1;33m=\u001b[0m \u001b[0mlen\u001b[0m\u001b[1;33m(\u001b[0m\u001b[0margs\u001b[0m\u001b[1;33m)\u001b[0m \u001b[1;33m-\u001b[0m \u001b[0mlen\u001b[0m\u001b[1;33m(\u001b[0m\u001b[0mall_args\u001b[0m\u001b[1;33m)\u001b[0m\u001b[1;33m\u001b[0m\u001b[1;33m\u001b[0m\u001b[0m\n\u001b[0;32m     62\u001b[0m             \u001b[1;32mif\u001b[0m \u001b[0mextra_args\u001b[0m \u001b[1;33m<=\u001b[0m \u001b[1;36m0\u001b[0m\u001b[1;33m:\u001b[0m\u001b[1;33m\u001b[0m\u001b[1;33m\u001b[0m\u001b[0m\n\u001b[1;32m---> 63\u001b[1;33m                 \u001b[1;32mreturn\u001b[0m \u001b[0mf\u001b[0m\u001b[1;33m(\u001b[0m\u001b[1;33m*\u001b[0m\u001b[0margs\u001b[0m\u001b[1;33m,\u001b[0m \u001b[1;33m**\u001b[0m\u001b[0mkwargs\u001b[0m\u001b[1;33m)\u001b[0m\u001b[1;33m\u001b[0m\u001b[1;33m\u001b[0m\u001b[0m\n\u001b[0m\u001b[0;32m     64\u001b[0m \u001b[1;33m\u001b[0m\u001b[0m\n\u001b[0;32m     65\u001b[0m             \u001b[1;31m# extra_args > 0\u001b[0m\u001b[1;33m\u001b[0m\u001b[1;33m\u001b[0m\u001b[1;33m\u001b[0m\u001b[0m\n",
      "\u001b[1;32m~\\AppData\\Local\\Programs\\Python\\Python39\\lib\\site-packages\\sklearn\\metrics\\_scorer.py\u001b[0m in \u001b[0;36mcheck_scoring\u001b[1;34m(estimator, scoring, allow_none)\u001b[0m\n\u001b[0;32m    428\u001b[0m                         \"'fit' method, %r was passed\" % estimator)\n\u001b[0;32m    429\u001b[0m     \u001b[1;32mif\u001b[0m \u001b[0misinstance\u001b[0m\u001b[1;33m(\u001b[0m\u001b[0mscoring\u001b[0m\u001b[1;33m,\u001b[0m \u001b[0mstr\u001b[0m\u001b[1;33m)\u001b[0m\u001b[1;33m:\u001b[0m\u001b[1;33m\u001b[0m\u001b[1;33m\u001b[0m\u001b[0m\n\u001b[1;32m--> 430\u001b[1;33m         \u001b[1;32mreturn\u001b[0m \u001b[0mget_scorer\u001b[0m\u001b[1;33m(\u001b[0m\u001b[0mscoring\u001b[0m\u001b[1;33m)\u001b[0m\u001b[1;33m\u001b[0m\u001b[1;33m\u001b[0m\u001b[0m\n\u001b[0m\u001b[0;32m    431\u001b[0m     \u001b[1;32melif\u001b[0m \u001b[0mcallable\u001b[0m\u001b[1;33m(\u001b[0m\u001b[0mscoring\u001b[0m\u001b[1;33m)\u001b[0m\u001b[1;33m:\u001b[0m\u001b[1;33m\u001b[0m\u001b[1;33m\u001b[0m\u001b[0m\n\u001b[0;32m    432\u001b[0m         \u001b[1;31m# Heuristic to ensure user has not passed a metric\u001b[0m\u001b[1;33m\u001b[0m\u001b[1;33m\u001b[0m\u001b[1;33m\u001b[0m\u001b[0m\n",
      "\u001b[1;32m~\\AppData\\Local\\Programs\\Python\\Python39\\lib\\site-packages\\sklearn\\metrics\\_scorer.py\u001b[0m in \u001b[0;36mget_scorer\u001b[1;34m(scoring)\u001b[0m\n\u001b[0;32m    385\u001b[0m             \u001b[0mscorer\u001b[0m \u001b[1;33m=\u001b[0m \u001b[0mSCORERS\u001b[0m\u001b[1;33m[\u001b[0m\u001b[0mscoring\u001b[0m\u001b[1;33m]\u001b[0m\u001b[1;33m\u001b[0m\u001b[1;33m\u001b[0m\u001b[0m\n\u001b[0;32m    386\u001b[0m         \u001b[1;32mexcept\u001b[0m \u001b[0mKeyError\u001b[0m\u001b[1;33m:\u001b[0m\u001b[1;33m\u001b[0m\u001b[1;33m\u001b[0m\u001b[0m\n\u001b[1;32m--> 387\u001b[1;33m             raise ValueError('%r is not a valid scoring value. '\n\u001b[0m\u001b[0;32m    388\u001b[0m                              \u001b[1;34m'Use sorted(sklearn.metrics.SCORERS.keys()) '\u001b[0m\u001b[1;33m\u001b[0m\u001b[1;33m\u001b[0m\u001b[0m\n\u001b[0;32m    389\u001b[0m                              'to get valid options.' % scoring)\n",
      "\u001b[1;31mValueError\u001b[0m: 'f1_score' is not a valid scoring value. Use sorted(sklearn.metrics.SCORERS.keys()) to get valid options."
     ]
    }
   ],
   "source": [
    "DT_GS.fit(X_train_OS, y_train_OS)"
   ]
  },
  {
   "cell_type": "code",
   "execution_count": null,
   "metadata": {},
   "outputs": [],
   "source": [
    "param_KNN = {\n",
    "    \n",
    "}"
   ]
  },
  {
   "cell_type": "code",
   "execution_count": 131,
   "metadata": {},
   "outputs": [
    {
     "output_type": "execute_result",
     "data": {
      "text/plain": [
       "{'algo__max_depth': 30, 'algo__min_samples_leaf': 1}"
      ]
     },
     "metadata": {},
     "execution_count": 131
    }
   ],
   "source": [
    "DT_GS.best_params_"
   ]
  },
  {
   "cell_type": "code",
   "execution_count": 114,
   "metadata": {},
   "outputs": [
    {
     "output_type": "execute_result",
     "data": {
      "text/plain": [
       "Index(['mean_fit_time', 'std_fit_time', 'mean_score_time', 'std_score_time',\n",
       "       'param_algo__max_depth', 'param_algo__min_samples_leaf', 'params',\n",
       "       'split0_test_score', 'split1_test_score', 'split2_test_score',\n",
       "       'mean_test_score', 'std_test_score', 'rank_test_score',\n",
       "       'split0_train_score', 'split1_train_score', 'split2_train_score',\n",
       "       'mean_train_score', 'std_train_score'],\n",
       "      dtype='object')"
      ]
     },
     "metadata": {},
     "execution_count": 114
    }
   ],
   "source": [
    "pd.DataFrame(DT_GS.cv_results_).columns"
   ]
  },
  {
   "cell_type": "markdown",
   "metadata": {},
   "source": [
    "______________\n",
    "_UNTUK yng best estimator_\n",
    "_____________"
   ]
  },
  {
   "cell_type": "code",
   "execution_count": 125,
   "metadata": {},
   "outputs": [],
   "source": [
    "DT_Tune = DT_GS.best_estimator_"
   ]
  },
  {
   "cell_type": "code",
   "execution_count": 126,
   "metadata": {},
   "outputs": [
    {
     "output_type": "execute_result",
     "data": {
      "text/plain": [
       "Pipeline(steps=[('prep',\n",
       "                 ColumnTransformer(transformers=[('numeric',\n",
       "                                                  Pipeline(steps=[('scaler',\n",
       "                                                                   RobustScaler())]),\n",
       "                                                  ['campaign', 'pdays',\n",
       "                                                   'previous', 'emp.var.rate',\n",
       "                                                   'cons.price.idx',\n",
       "                                                   'cons.conf.idx', 'euribor3m',\n",
       "                                                   'nr.employed']),\n",
       "                                                 ('categorical',\n",
       "                                                  Pipeline(steps=[('encoder',\n",
       "                                                                   OneHotEncoder())]),\n",
       "                                                  ['job', 'marital',\n",
       "                                                   'education', 'default',\n",
       "                                                   'housing', 'loan', 'contact',\n",
       "                                                   'month', 'day_of_week',\n",
       "                                                   'poutcome', 'age_bin',\n",
       "                                                   'duration_bin'])])),\n",
       "                ('algo',\n",
       "                 DecisionTreeClassifier(max_depth=30, max_features=0.4,\n",
       "                                        random_state=42))])"
      ]
     },
     "metadata": {},
     "execution_count": 126
    }
   ],
   "source": [
    "DT_Tune.fit(X_train_OS, y_train_OS)"
   ]
  },
  {
   "cell_type": "code",
   "execution_count": 127,
   "metadata": {},
   "outputs": [
    {
     "output_type": "stream",
     "name": "stdout",
     "text": [
      "Classification report data TEST DT Tuning best estimator\n",
      "\n",
      "               precision    recall  f1-score   support\n",
      "\n",
      "           0       0.94      0.94      0.94      7310\n",
      "           1       0.52      0.52      0.52       928\n",
      "\n",
      "    accuracy                           0.89      8238\n",
      "   macro avg       0.73      0.73      0.73      8238\n",
      "weighted avg       0.89      0.89      0.89      8238\n",
      "\n",
      "Classification report data TRAIN DT Tuning best estimator\n",
      "\n",
      "               precision    recall  f1-score   support\n",
      "\n",
      "           0       1.00      0.99      1.00     29238\n",
      "           1       0.99      1.00      1.00     29238\n",
      "\n",
      "    accuracy                           1.00     58476\n",
      "   macro avg       1.00      1.00      1.00     58476\n",
      "weighted avg       1.00      1.00      1.00     58476\n",
      "\n",
      "Confusion matrix data test DT Tuning best estimator\n",
      "\n"
     ]
    },
    {
     "output_type": "execute_result",
     "data": {
      "text/plain": [
       "      Pred1  Pred0\n",
       "Akt1    487    441\n",
       "Akt0    457   6853"
      ],
      "text/html": "<div>\n<style scoped>\n    .dataframe tbody tr th:only-of-type {\n        vertical-align: middle;\n    }\n\n    .dataframe tbody tr th {\n        vertical-align: top;\n    }\n\n    .dataframe thead th {\n        text-align: right;\n    }\n</style>\n<table border=\"1\" class=\"dataframe\">\n  <thead>\n    <tr style=\"text-align: right;\">\n      <th></th>\n      <th>Pred1</th>\n      <th>Pred0</th>\n    </tr>\n  </thead>\n  <tbody>\n    <tr>\n      <th>Akt1</th>\n      <td>487</td>\n      <td>441</td>\n    </tr>\n    <tr>\n      <th>Akt0</th>\n      <td>457</td>\n      <td>6853</td>\n    </tr>\n  </tbody>\n</table>\n</div>"
     },
     "metadata": {},
     "execution_count": 127
    }
   ],
   "source": [
    "conf_mat(DT_Tune, X_train_OS, X_test, y_train_OS, y_test, 'DT Tuning best estimator')"
   ]
  },
  {
   "cell_type": "markdown",
   "metadata": {},
   "source": [
    "______________\n",
    "_{\n",
    "    'algo__max_depth': 25,\n",
    "    'algo__min_samples_leaf': 6,\n",
    "    'algo__class_weight': None\n",
    "}_\n",
    "_____________"
   ]
  },
  {
   "cell_type": "code",
   "execution_count": 98,
   "metadata": {},
   "outputs": [],
   "source": [
    "pipe_DT_1 = Pipeline([\n",
    "    ('prep', preprocessor),\n",
    "    ('algo', DecisionTreeClassifier(max_depth=25, min_samples_leaf=6, random_state=42))\n",
    "])"
   ]
  },
  {
   "cell_type": "code",
   "execution_count": 99,
   "metadata": {},
   "outputs": [
    {
     "output_type": "execute_result",
     "data": {
      "text/plain": [
       "Pipeline(steps=[('prep',\n",
       "                 ColumnTransformer(transformers=[('numeric',\n",
       "                                                  Pipeline(steps=[('scaler',\n",
       "                                                                   RobustScaler())]),\n",
       "                                                  ['campaign', 'pdays',\n",
       "                                                   'previous', 'emp.var.rate',\n",
       "                                                   'cons.price.idx',\n",
       "                                                   'cons.conf.idx', 'euribor3m',\n",
       "                                                   'nr.employed']),\n",
       "                                                 ('categorical',\n",
       "                                                  Pipeline(steps=[('encoder',\n",
       "                                                                   OneHotEncoder())]),\n",
       "                                                  ['job', 'marital',\n",
       "                                                   'education', 'default',\n",
       "                                                   'housing', 'loan', 'contact',\n",
       "                                                   'month', 'day_of_week',\n",
       "                                                   'poutcome', 'age_bin',\n",
       "                                                   'duration_bin'])])),\n",
       "                ('algo',\n",
       "                 DecisionTreeClassifier(max_depth=25, min_samples_leaf=6,\n",
       "                                        random_state=42))])"
      ]
     },
     "metadata": {},
     "execution_count": 99
    }
   ],
   "source": [
    "pipe_DT_1.fit(X_train_OS, y_train_OS)"
   ]
  },
  {
   "cell_type": "code",
   "execution_count": 100,
   "metadata": {},
   "outputs": [
    {
     "output_type": "stream",
     "name": "stdout",
     "text": [
      "Classification report data TEST DT Tuning 1\n",
      "\n",
      "               precision    recall  f1-score   support\n",
      "\n",
      "           0       0.96      0.90      0.93      7310\n",
      "           1       0.47      0.73      0.58       928\n",
      "\n",
      "    accuracy                           0.88      8238\n",
      "   macro avg       0.72      0.82      0.75      8238\n",
      "weighted avg       0.91      0.88      0.89      8238\n",
      "\n",
      "Classification report data TRAIN DT Tuning 1\n",
      "\n",
      "               precision    recall  f1-score   support\n",
      "\n",
      "           0       0.98      0.93      0.95     29238\n",
      "           1       0.93      0.98      0.96     29238\n",
      "\n",
      "    accuracy                           0.96     58476\n",
      "   macro avg       0.96      0.96      0.96     58476\n",
      "weighted avg       0.96      0.96      0.96     58476\n",
      "\n",
      "Confusion matrix data test DT Tuning 1\n",
      "\n"
     ]
    },
    {
     "output_type": "execute_result",
     "data": {
      "text/plain": [
       "      Pred1  Pred0\n",
       "Akt1    681    247\n",
       "Akt0    756   6554"
      ],
      "text/html": "<div>\n<style scoped>\n    .dataframe tbody tr th:only-of-type {\n        vertical-align: middle;\n    }\n\n    .dataframe tbody tr th {\n        vertical-align: top;\n    }\n\n    .dataframe thead th {\n        text-align: right;\n    }\n</style>\n<table border=\"1\" class=\"dataframe\">\n  <thead>\n    <tr style=\"text-align: right;\">\n      <th></th>\n      <th>Pred1</th>\n      <th>Pred0</th>\n    </tr>\n  </thead>\n  <tbody>\n    <tr>\n      <th>Akt1</th>\n      <td>681</td>\n      <td>247</td>\n    </tr>\n    <tr>\n      <th>Akt0</th>\n      <td>756</td>\n      <td>6554</td>\n    </tr>\n  </tbody>\n</table>\n</div>"
     },
     "metadata": {},
     "execution_count": 100
    }
   ],
   "source": [
    "conf_mat(pipe_DT_1, X_train_OS, X_test, y_train_OS, y_test, 'DT Tuning 1')"
   ]
  },
  {
   "cell_type": "code",
   "execution_count": null,
   "metadata": {},
   "outputs": [],
   "source": []
  }
 ],
 "metadata": {
  "kernelspec": {
   "name": "python391jvsc74a57bd016eaa9c78330dbff9d978062bbaa00e6eef6ecc6465f57448e7de05ceee588fd",
   "display_name": "Python 3.9.1 64-bit"
  },
  "language_info": {
   "codemirror_mode": {
    "name": "ipython",
    "version": 3
   },
   "file_extension": ".py",
   "mimetype": "text/x-python",
   "name": "python",
   "nbconvert_exporter": "python",
   "pygments_lexer": "ipython3",
   "version": "3.9.1"
  }
 },
 "nbformat": 4,
 "nbformat_minor": 4
}